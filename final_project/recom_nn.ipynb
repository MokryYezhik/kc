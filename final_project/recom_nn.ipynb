{
 "cells": [
  {
   "cell_type": "code",
   "execution_count": 1,
   "metadata": {
    "id": "3A48mJWKyXRb"
   },
   "outputs": [],
   "source": [
    "import numpy as np\n",
    "import pandas as pd\n",
    "import re\n",
    "import matplotlib.pyplot as plt\n",
    "import seaborn as sns\n",
    "from tqdm import tqdm\n",
    "\n",
    "import psycopg2\n",
    "import datetime"
   ]
  },
  {
   "cell_type": "markdown",
   "metadata": {},
   "source": [
    "# Загрузка данных"
   ]
  },
  {
   "cell_type": "code",
   "execution_count": 2,
   "metadata": {},
   "outputs": [],
   "source": [
    "df = pd.read_csv('sample_4400000_stratified.csv', sep=';')"
   ]
  },
  {
   "cell_type": "code",
   "execution_count": 3,
   "metadata": {
    "id": "1-GPk-EmVlyT"
   },
   "outputs": [],
   "source": [
    "# !!!\n",
    "df['timestamp'] = pd.to_datetime(df['timestamp'])"
   ]
  },
  {
   "cell_type": "code",
   "execution_count": 4,
   "metadata": {
    "id": "ZkZRduFJUAOQ"
   },
   "outputs": [],
   "source": [
    "# !!!\n",
    "df = df.drop('action', axis=1)"
   ]
  },
  {
   "cell_type": "code",
   "execution_count": 5,
   "metadata": {
    "colab": {
     "base_uri": "https://localhost:8080/"
    },
    "id": "2wo8MKE3yi-Z",
    "outputId": "654edf0e-92fa-49dc-d69c-4a2f052fb00d"
   },
   "outputs": [
    {
     "name": "stdout",
     "output_type": "stream",
     "text": [
      "<class 'pandas.core.frame.DataFrame'>\n",
      "RangeIndex: 4384547 entries, 0 to 4384546\n",
      "Data columns (total 4 columns):\n",
      " #   Column     Dtype         \n",
      "---  ------     -----         \n",
      " 0   timestamp  datetime64[ns]\n",
      " 1   user_id    int64         \n",
      " 2   post_id    int64         \n",
      " 3   target     int64         \n",
      "dtypes: datetime64[ns](1), int64(3)\n",
      "memory usage: 133.8 MB\n"
     ]
    }
   ],
   "source": [
    "df.info()"
   ]
  },
  {
   "cell_type": "code",
   "execution_count": 6,
   "metadata": {
    "id": "N2eDInwAyjDq"
   },
   "outputs": [],
   "source": [
    "df_users = pd.read_csv('users.csv', sep=';')\n",
    "df_posts = pd.read_csv('posts.csv', sep=';')"
   ]
  },
  {
   "cell_type": "code",
   "execution_count": 7,
   "metadata": {},
   "outputs": [
    {
     "name": "stdout",
     "output_type": "stream",
     "text": [
      "<class 'pandas.core.frame.DataFrame'>\n",
      "RangeIndex: 163205 entries, 0 to 163204\n",
      "Data columns (total 8 columns):\n",
      " #   Column     Non-Null Count   Dtype \n",
      "---  ------     --------------   ----- \n",
      " 0   user_id    163205 non-null  int64 \n",
      " 1   gender     163205 non-null  int64 \n",
      " 2   age        163205 non-null  int64 \n",
      " 3   country    163205 non-null  object\n",
      " 4   city       163205 non-null  object\n",
      " 5   exp_group  163205 non-null  int64 \n",
      " 6   os         163205 non-null  object\n",
      " 7   source     163205 non-null  object\n",
      "dtypes: int64(4), object(4)\n",
      "memory usage: 10.0+ MB\n"
     ]
    }
   ],
   "source": [
    "df_users.info()"
   ]
  },
  {
   "cell_type": "code",
   "execution_count": 8,
   "metadata": {},
   "outputs": [
    {
     "name": "stdout",
     "output_type": "stream",
     "text": [
      "<class 'pandas.core.frame.DataFrame'>\n",
      "RangeIndex: 7023 entries, 0 to 7022\n",
      "Data columns (total 3 columns):\n",
      " #   Column   Non-Null Count  Dtype \n",
      "---  ------   --------------  ----- \n",
      " 0   post_id  7023 non-null   int64 \n",
      " 1   text     7023 non-null   object\n",
      " 2   topic    7023 non-null   object\n",
      "dtypes: int64(1), object(2)\n",
      "memory usage: 164.7+ KB\n"
     ]
    }
   ],
   "source": [
    "df_posts.info()"
   ]
  },
  {
   "cell_type": "markdown",
   "metadata": {
    "id": "3gsNvTSj-bK6"
   },
   "source": [
    "## Обработка текста"
   ]
  },
  {
   "cell_type": "code",
   "execution_count": null,
   "metadata": {
    "colab": {
     "base_uri": "https://localhost:8080/"
    },
    "id": "68_cXYHVwYjF",
    "outputId": "a001a7ec-1669-49a7-e3cb-1de594d8258d"
   },
   "outputs": [
    {
     "name": "stdout",
     "output_type": "stream",
     "text": [
      "Looking in indexes: https://pypi.org/simple, https://us-python.pkg.dev/colab-wheels/public/simple/\n",
      "Requirement already satisfied: nltk in /usr/local/lib/python3.7/dist-packages (3.7)\n",
      "Requirement already satisfied: tqdm in /usr/local/lib/python3.7/dist-packages (from nltk) (4.64.1)\n",
      "Requirement already satisfied: regex>=2021.8.3 in /usr/local/lib/python3.7/dist-packages (from nltk) (2022.6.2)\n",
      "Requirement already satisfied: joblib in /usr/local/lib/python3.7/dist-packages (from nltk) (1.2.0)\n",
      "Requirement already satisfied: click in /usr/local/lib/python3.7/dist-packages (from nltk) (7.1.2)\n"
     ]
    }
   ],
   "source": [
    "# !pip install nltk"
   ]
  },
  {
   "cell_type": "code",
   "execution_count": 11,
   "metadata": {
    "colab": {
     "base_uri": "https://localhost:8080/"
    },
    "id": "anHhdokixBuH",
    "outputId": "fb358f9a-f089-4b13-cd31-cfb88ade4fa8"
   },
   "outputs": [
    {
     "name": "stderr",
     "output_type": "stream",
     "text": [
      "[nltk_data] Downloading package wordnet to\n",
      "[nltk_data]     C:\\Users\\apple\\AppData\\Roaming\\nltk_data...\n",
      "[nltk_data]   Package wordnet is already up-to-date!\n",
      "[nltk_data] Downloading package omw-1.4 to\n",
      "[nltk_data]     C:\\Users\\apple\\AppData\\Roaming\\nltk_data...\n",
      "[nltk_data]   Package omw-1.4 is already up-to-date!\n"
     ]
    },
    {
     "data": {
      "text/plain": [
       "True"
      ]
     },
     "execution_count": 11,
     "metadata": {},
     "output_type": "execute_result"
    }
   ],
   "source": [
    "import nltk\n",
    "nltk.download('wordnet')\n",
    "nltk.download('omw-1.4')"
   ]
  },
  {
   "cell_type": "markdown",
   "metadata": {},
   "source": [
    "1. предобработка текста"
   ]
  },
  {
   "cell_type": "code",
   "execution_count": 12,
   "metadata": {
    "id": "WDHJtW6YuYcc"
   },
   "outputs": [],
   "source": [
    "import re\n",
    "import string\n",
    "\n",
    "from nltk.stem import WordNetLemmatizer \n",
    "from sklearn.feature_extraction.text import TfidfVectorizer\n",
    "\n",
    "wnl = WordNetLemmatizer()\n",
    "\n",
    "def preprocessing(line, token=wnl):\n",
    "    line = re.sub(r\"http[s]?://(?:[a-zA-Z]|[0-9]|[$-_@.&+]|[!*\\(\\),]|(?:%[0-9a-fA-F][0-9a-fA-F]))+\", ' ', line)\n",
    "    line = re.sub(\"(\\\\n|\\\\t)\", ' ', line)\n",
    "    line = re.sub(\"[^a-zA-Z ]\", ' ', line)\n",
    "    line = re.sub(\"( {2,})\", ' ', line)\n",
    "    line = line.lower()\n",
    "    line = ' '.join([token.lemmatize(x) for x in line.split(' ')])\n",
    "\n",
    "    return line\n",
    "\n",
    "\n",
    "tfidf = TfidfVectorizer(\n",
    "    stop_words='english',\n",
    "    preprocessor=preprocessing\n",
    ")"
   ]
  },
  {
   "cell_type": "markdown",
   "metadata": {},
   "source": [
    "2. tf-idf постов"
   ]
  },
  {
   "cell_type": "code",
   "execution_count": 13,
   "metadata": {
    "colab": {
     "base_uri": "https://localhost:8080/"
    },
    "id": "JE146x_dvdzE",
    "outputId": "1318fcec-05a7-49cf-f4a9-bc83204be69b"
   },
   "outputs": [
    {
     "name": "stderr",
     "output_type": "stream",
     "text": [
      "C:\\Users\\apple\\anaconda3\\lib\\site-packages\\sklearn\\feature_extraction\\text.py:396: UserWarning: Your stop_words may be inconsistent with your preprocessing. Tokenizing the stop words generated tokens ['ha', 'le', 'wa'] not in stop_words.\n",
      "  warnings.warn(\n"
     ]
    },
    {
     "data": {
      "text/plain": [
       "array([[0., 0., 0., ..., 0., 0., 0.],\n",
       "       [0., 0., 0., ..., 0., 0., 0.],\n",
       "       [0., 0., 0., ..., 0., 0., 0.],\n",
       "       ...,\n",
       "       [0., 0., 0., ..., 0., 0., 0.],\n",
       "       [0., 0., 0., ..., 0., 0., 0.],\n",
       "       [0., 0., 0., ..., 0., 0., 0.]])"
      ]
     },
     "execution_count": 13,
     "metadata": {},
     "output_type": "execute_result"
    }
   ],
   "source": [
    "tfidf_data = tfidf.fit_transform(df_posts['text']).toarray()\n",
    "\n",
    "tfidf_data"
   ]
  },
  {
   "cell_type": "code",
   "execution_count": 14,
   "metadata": {
    "colab": {
     "base_uri": "https://localhost:8080/"
    },
    "id": "_P-5DfmOvd1o",
    "outputId": "e0457999-51a5-4627-ea87-4b92f85bfa01"
   },
   "outputs": [
    {
     "data": {
      "text/plain": [
       "(7023, 42044)"
      ]
     },
     "execution_count": 14,
     "metadata": {},
     "output_type": "execute_result"
    }
   ],
   "source": [
    "tfidf_data.shape"
   ]
  },
  {
   "cell_type": "markdown",
   "metadata": {},
   "source": [
    "3. статистики по tf-idf (суммарный, максимальный, средний)"
   ]
  },
  {
   "cell_type": "code",
   "execution_count": 15,
   "metadata": {
    "id": "LVdiA707x2BU"
   },
   "outputs": [],
   "source": [
    "df_posts['total_tfidf'] = np.sum(tfidf_data, axis=1).reshape(-1,1)\n",
    "df_posts['max_tfidf'] = np.max(tfidf_data, axis=1).reshape(-1,1)\n",
    "df_posts['mean_tfidf'] = np.mean(tfidf_data, axis=1).reshape(-1,1)"
   ]
  },
  {
   "cell_type": "code",
   "execution_count": 16,
   "metadata": {
    "colab": {
     "base_uri": "https://localhost:8080/",
     "height": 641
    },
    "id": "TLmoasHYx2JN",
    "outputId": "2a8ae736-f266-4711-9809-1ea828eb12b2"
   },
   "outputs": [
    {
     "data": {
      "text/html": [
       "<div>\n",
       "<style scoped>\n",
       "    .dataframe tbody tr th:only-of-type {\n",
       "        vertical-align: middle;\n",
       "    }\n",
       "\n",
       "    .dataframe tbody tr th {\n",
       "        vertical-align: top;\n",
       "    }\n",
       "\n",
       "    .dataframe thead th {\n",
       "        text-align: right;\n",
       "    }\n",
       "</style>\n",
       "<table border=\"1\" class=\"dataframe\">\n",
       "  <thead>\n",
       "    <tr style=\"text-align: right;\">\n",
       "      <th></th>\n",
       "      <th>post_id</th>\n",
       "      <th>text</th>\n",
       "      <th>topic</th>\n",
       "      <th>total_tfidf</th>\n",
       "      <th>max_tfidf</th>\n",
       "      <th>mean_tfidf</th>\n",
       "    </tr>\n",
       "  </thead>\n",
       "  <tbody>\n",
       "    <tr>\n",
       "      <th>0</th>\n",
       "      <td>1</td>\n",
       "      <td>UK economy facing major risks\\n\\nThe UK manufa...</td>\n",
       "      <td>business</td>\n",
       "      <td>8.451976</td>\n",
       "      <td>0.504114</td>\n",
       "      <td>0.000201</td>\n",
       "    </tr>\n",
       "    <tr>\n",
       "      <th>1</th>\n",
       "      <td>2</td>\n",
       "      <td>Aids and climate top Davos agenda\\n\\nClimate c...</td>\n",
       "      <td>business</td>\n",
       "      <td>11.514097</td>\n",
       "      <td>0.317233</td>\n",
       "      <td>0.000274</td>\n",
       "    </tr>\n",
       "    <tr>\n",
       "      <th>2</th>\n",
       "      <td>3</td>\n",
       "      <td>Asian quake hits European shares\\n\\nShares in ...</td>\n",
       "      <td>business</td>\n",
       "      <td>12.190354</td>\n",
       "      <td>0.269016</td>\n",
       "      <td>0.000290</td>\n",
       "    </tr>\n",
       "    <tr>\n",
       "      <th>3</th>\n",
       "      <td>4</td>\n",
       "      <td>India power shares jump on debut\\n\\nShares in ...</td>\n",
       "      <td>business</td>\n",
       "      <td>6.416335</td>\n",
       "      <td>0.541172</td>\n",
       "      <td>0.000153</td>\n",
       "    </tr>\n",
       "    <tr>\n",
       "      <th>4</th>\n",
       "      <td>5</td>\n",
       "      <td>Lacroix label bought by US firm\\n\\nLuxury good...</td>\n",
       "      <td>business</td>\n",
       "      <td>6.205266</td>\n",
       "      <td>0.422695</td>\n",
       "      <td>0.000148</td>\n",
       "    </tr>\n",
       "    <tr>\n",
       "      <th>...</th>\n",
       "      <td>...</td>\n",
       "      <td>...</td>\n",
       "      <td>...</td>\n",
       "      <td>...</td>\n",
       "      <td>...</td>\n",
       "      <td>...</td>\n",
       "    </tr>\n",
       "    <tr>\n",
       "      <th>7018</th>\n",
       "      <td>7315</td>\n",
       "      <td>OK, I would not normally watch a Farrelly brot...</td>\n",
       "      <td>movie</td>\n",
       "      <td>6.638942</td>\n",
       "      <td>0.259546</td>\n",
       "      <td>0.000158</td>\n",
       "    </tr>\n",
       "    <tr>\n",
       "      <th>7019</th>\n",
       "      <td>7316</td>\n",
       "      <td>I give this movie 2 stars purely because of it...</td>\n",
       "      <td>movie</td>\n",
       "      <td>6.471390</td>\n",
       "      <td>0.399528</td>\n",
       "      <td>0.000154</td>\n",
       "    </tr>\n",
       "    <tr>\n",
       "      <th>7020</th>\n",
       "      <td>7317</td>\n",
       "      <td>I cant believe this film was allowed to be mad...</td>\n",
       "      <td>movie</td>\n",
       "      <td>5.508128</td>\n",
       "      <td>0.576569</td>\n",
       "      <td>0.000131</td>\n",
       "    </tr>\n",
       "    <tr>\n",
       "      <th>7021</th>\n",
       "      <td>7318</td>\n",
       "      <td>The version I saw of this film was the Blockbu...</td>\n",
       "      <td>movie</td>\n",
       "      <td>6.883273</td>\n",
       "      <td>0.231254</td>\n",
       "      <td>0.000164</td>\n",
       "    </tr>\n",
       "    <tr>\n",
       "      <th>7022</th>\n",
       "      <td>7319</td>\n",
       "      <td>Piece of subtle art. Maybe a masterpiece. Doub...</td>\n",
       "      <td>movie</td>\n",
       "      <td>8.114494</td>\n",
       "      <td>0.174228</td>\n",
       "      <td>0.000193</td>\n",
       "    </tr>\n",
       "  </tbody>\n",
       "</table>\n",
       "<p>7023 rows × 6 columns</p>\n",
       "</div>"
      ],
      "text/plain": [
       "      post_id                                               text     topic  \\\n",
       "0           1  UK economy facing major risks\\n\\nThe UK manufa...  business   \n",
       "1           2  Aids and climate top Davos agenda\\n\\nClimate c...  business   \n",
       "2           3  Asian quake hits European shares\\n\\nShares in ...  business   \n",
       "3           4  India power shares jump on debut\\n\\nShares in ...  business   \n",
       "4           5  Lacroix label bought by US firm\\n\\nLuxury good...  business   \n",
       "...       ...                                                ...       ...   \n",
       "7018     7315  OK, I would not normally watch a Farrelly brot...     movie   \n",
       "7019     7316  I give this movie 2 stars purely because of it...     movie   \n",
       "7020     7317  I cant believe this film was allowed to be mad...     movie   \n",
       "7021     7318  The version I saw of this film was the Blockbu...     movie   \n",
       "7022     7319  Piece of subtle art. Maybe a masterpiece. Doub...     movie   \n",
       "\n",
       "      total_tfidf  max_tfidf  mean_tfidf  \n",
       "0        8.451976   0.504114    0.000201  \n",
       "1       11.514097   0.317233    0.000274  \n",
       "2       12.190354   0.269016    0.000290  \n",
       "3        6.416335   0.541172    0.000153  \n",
       "4        6.205266   0.422695    0.000148  \n",
       "...           ...        ...         ...  \n",
       "7018     6.638942   0.259546    0.000158  \n",
       "7019     6.471390   0.399528    0.000154  \n",
       "7020     5.508128   0.576569    0.000131  \n",
       "7021     6.883273   0.231254    0.000164  \n",
       "7022     8.114494   0.174228    0.000193  \n",
       "\n",
       "[7023 rows x 6 columns]"
      ]
     },
     "execution_count": 16,
     "metadata": {},
     "output_type": "execute_result"
    }
   ],
   "source": [
    "df_posts"
   ]
  },
  {
   "cell_type": "markdown",
   "metadata": {},
   "source": [
    "4. выделение PCA компонент из tf-idf"
   ]
  },
  {
   "cell_type": "code",
   "execution_count": 17,
   "metadata": {
    "id": "HuLFY-ybx2Lw"
   },
   "outputs": [],
   "source": [
    "from sklearn.decomposition import PCA\n",
    "\n",
    "centered = tfidf_data - tfidf_data.mean()\n",
    "\n",
    "pca = PCA(n_components=10)\n",
    "pca_decomp = pca.fit_transform(centered)"
   ]
  },
  {
   "cell_type": "code",
   "execution_count": 18,
   "metadata": {
    "colab": {
     "base_uri": "https://localhost:8080/"
    },
    "id": "VaGsHLGY02HW",
    "outputId": "cdb90d16-b911-46f4-ba8e-79c9920aa2e0"
   },
   "outputs": [
    {
     "data": {
      "text/plain": [
       "(7023, 10)"
      ]
     },
     "execution_count": 18,
     "metadata": {},
     "output_type": "execute_result"
    }
   ],
   "source": [
    "pca_decomp.shape"
   ]
  },
  {
   "cell_type": "code",
   "execution_count": 19,
   "metadata": {
    "colab": {
     "base_uri": "https://localhost:8080/"
    },
    "id": "B14dF79f02Jz",
    "outputId": "b54fe0f2-5b1a-4dbd-9f71-dac885dd06df"
   },
   "outputs": [
    {
     "data": {
      "text/plain": [
       "array([8.62912658, 7.27603288, 5.73827478, 5.36985124, 4.8887587 ,\n",
       "       4.60359714, 4.49897377, 4.17985294, 4.13428407, 3.90447989])"
      ]
     },
     "execution_count": 19,
     "metadata": {},
     "output_type": "execute_result"
    }
   ],
   "source": [
    "pca.singular_values_"
   ]
  },
  {
   "cell_type": "markdown",
   "metadata": {},
   "source": [
    "5. выделение кластеров, расстояние до центров кластеров как признаки постов"
   ]
  },
  {
   "cell_type": "code",
   "execution_count": 20,
   "metadata": {
    "id": "mE9Oyv2RiqxE"
   },
   "outputs": [],
   "source": [
    "from sklearn.cluster import KMeans\n",
    "\n",
    "kmeans = KMeans(n_clusters=10, random_state=0).fit(pca_decomp)"
   ]
  },
  {
   "cell_type": "code",
   "execution_count": 21,
   "metadata": {
    "colab": {
     "base_uri": "https://localhost:8080/",
     "height": 530
    },
    "id": "4DkTw92809OO",
    "outputId": "6244745b-2d07-4d80-9522-b5cc1bd6b8de"
   },
   "outputs": [
    {
     "data": {
      "text/html": [
       "<div>\n",
       "<style scoped>\n",
       "    .dataframe tbody tr th:only-of-type {\n",
       "        vertical-align: middle;\n",
       "    }\n",
       "\n",
       "    .dataframe tbody tr th {\n",
       "        vertical-align: top;\n",
       "    }\n",
       "\n",
       "    .dataframe thead th {\n",
       "        text-align: right;\n",
       "    }\n",
       "</style>\n",
       "<table border=\"1\" class=\"dataframe\">\n",
       "  <thead>\n",
       "    <tr style=\"text-align: right;\">\n",
       "      <th></th>\n",
       "      <th>post_id</th>\n",
       "      <th>text</th>\n",
       "      <th>topic</th>\n",
       "      <th>total_tfidf</th>\n",
       "      <th>max_tfidf</th>\n",
       "      <th>mean_tfidf</th>\n",
       "      <th>dist_1_cluster</th>\n",
       "      <th>dist_2_cluster</th>\n",
       "      <th>dist_3_cluster</th>\n",
       "      <th>dist_4_cluster</th>\n",
       "      <th>dist_5_cluster</th>\n",
       "      <th>dist_6_cluster</th>\n",
       "      <th>dist_7_cluster</th>\n",
       "      <th>dist_8_cluster</th>\n",
       "      <th>dist_9_cluster</th>\n",
       "      <th>dist_10_cluster</th>\n",
       "    </tr>\n",
       "  </thead>\n",
       "  <tbody>\n",
       "    <tr>\n",
       "      <th>0</th>\n",
       "      <td>1</td>\n",
       "      <td>UK economy facing major risks\\n\\nThe UK manufa...</td>\n",
       "      <td>business</td>\n",
       "      <td>8.451976</td>\n",
       "      <td>0.504114</td>\n",
       "      <td>0.000201</td>\n",
       "      <td>0.529202</td>\n",
       "      <td>0.360233</td>\n",
       "      <td>0.405338</td>\n",
       "      <td>0.432061</td>\n",
       "      <td>0.376172</td>\n",
       "      <td>0.435858</td>\n",
       "      <td>0.164315</td>\n",
       "      <td>0.396622</td>\n",
       "      <td>0.440188</td>\n",
       "      <td>0.373812</td>\n",
       "    </tr>\n",
       "    <tr>\n",
       "      <th>1</th>\n",
       "      <td>2</td>\n",
       "      <td>Aids and climate top Davos agenda\\n\\nClimate c...</td>\n",
       "      <td>business</td>\n",
       "      <td>11.514097</td>\n",
       "      <td>0.317233</td>\n",
       "      <td>0.000274</td>\n",
       "      <td>0.455404</td>\n",
       "      <td>0.228091</td>\n",
       "      <td>0.310330</td>\n",
       "      <td>0.343591</td>\n",
       "      <td>0.258377</td>\n",
       "      <td>0.331772</td>\n",
       "      <td>0.172281</td>\n",
       "      <td>0.307820</td>\n",
       "      <td>0.178206</td>\n",
       "      <td>0.288354</td>\n",
       "    </tr>\n",
       "    <tr>\n",
       "      <th>2</th>\n",
       "      <td>3</td>\n",
       "      <td>Asian quake hits European shares\\n\\nShares in ...</td>\n",
       "      <td>business</td>\n",
       "      <td>12.190354</td>\n",
       "      <td>0.269016</td>\n",
       "      <td>0.000290</td>\n",
       "      <td>0.483669</td>\n",
       "      <td>0.282794</td>\n",
       "      <td>0.343528</td>\n",
       "      <td>0.370887</td>\n",
       "      <td>0.313606</td>\n",
       "      <td>0.391628</td>\n",
       "      <td>0.091825</td>\n",
       "      <td>0.346137</td>\n",
       "      <td>0.422754</td>\n",
       "      <td>0.328743</td>\n",
       "    </tr>\n",
       "    <tr>\n",
       "      <th>3</th>\n",
       "      <td>4</td>\n",
       "      <td>India power shares jump on debut\\n\\nShares in ...</td>\n",
       "      <td>business</td>\n",
       "      <td>6.416335</td>\n",
       "      <td>0.541172</td>\n",
       "      <td>0.000153</td>\n",
       "      <td>0.414916</td>\n",
       "      <td>0.234871</td>\n",
       "      <td>0.315407</td>\n",
       "      <td>0.345934</td>\n",
       "      <td>0.269711</td>\n",
       "      <td>0.356699</td>\n",
       "      <td>0.066455</td>\n",
       "      <td>0.302634</td>\n",
       "      <td>0.372526</td>\n",
       "      <td>0.312198</td>\n",
       "    </tr>\n",
       "    <tr>\n",
       "      <th>4</th>\n",
       "      <td>5</td>\n",
       "      <td>Lacroix label bought by US firm\\n\\nLuxury good...</td>\n",
       "      <td>business</td>\n",
       "      <td>6.205266</td>\n",
       "      <td>0.422695</td>\n",
       "      <td>0.000148</td>\n",
       "      <td>0.396542</td>\n",
       "      <td>0.085679</td>\n",
       "      <td>0.225332</td>\n",
       "      <td>0.265025</td>\n",
       "      <td>0.206087</td>\n",
       "      <td>0.281659</td>\n",
       "      <td>0.163673</td>\n",
       "      <td>0.213995</td>\n",
       "      <td>0.318449</td>\n",
       "      <td>0.219910</td>\n",
       "    </tr>\n",
       "  </tbody>\n",
       "</table>\n",
       "</div>"
      ],
      "text/plain": [
       "   post_id                                               text     topic  \\\n",
       "0        1  UK economy facing major risks\\n\\nThe UK manufa...  business   \n",
       "1        2  Aids and climate top Davos agenda\\n\\nClimate c...  business   \n",
       "2        3  Asian quake hits European shares\\n\\nShares in ...  business   \n",
       "3        4  India power shares jump on debut\\n\\nShares in ...  business   \n",
       "4        5  Lacroix label bought by US firm\\n\\nLuxury good...  business   \n",
       "\n",
       "   total_tfidf  max_tfidf  mean_tfidf  dist_1_cluster  dist_2_cluster  \\\n",
       "0     8.451976   0.504114    0.000201        0.529202        0.360233   \n",
       "1    11.514097   0.317233    0.000274        0.455404        0.228091   \n",
       "2    12.190354   0.269016    0.000290        0.483669        0.282794   \n",
       "3     6.416335   0.541172    0.000153        0.414916        0.234871   \n",
       "4     6.205266   0.422695    0.000148        0.396542        0.085679   \n",
       "\n",
       "   dist_3_cluster  dist_4_cluster  dist_5_cluster  dist_6_cluster  \\\n",
       "0        0.405338        0.432061        0.376172        0.435858   \n",
       "1        0.310330        0.343591        0.258377        0.331772   \n",
       "2        0.343528        0.370887        0.313606        0.391628   \n",
       "3        0.315407        0.345934        0.269711        0.356699   \n",
       "4        0.225332        0.265025        0.206087        0.281659   \n",
       "\n",
       "   dist_7_cluster  dist_8_cluster  dist_9_cluster  dist_10_cluster  \n",
       "0        0.164315        0.396622        0.440188         0.373812  \n",
       "1        0.172281        0.307820        0.178206         0.288354  \n",
       "2        0.091825        0.346137        0.422754         0.328743  \n",
       "3        0.066455        0.302634        0.372526         0.312198  \n",
       "4        0.163673        0.213995        0.318449         0.219910  "
      ]
     },
     "execution_count": 21,
     "metadata": {},
     "output_type": "execute_result"
    }
   ],
   "source": [
    "dists_columns = [f\"dist_{ith}_cluster\" for ith in range(1, 11)]\n",
    "\n",
    "dists_df = pd.DataFrame(\n",
    "    data=kmeans.transform(pca_decomp),\n",
    "    columns=dists_columns\n",
    ")\n",
    "\n",
    "df_posts = pd.concat((df_posts, dists_df), axis=1)\n",
    "df_posts.head()"
   ]
  },
  {
   "cell_type": "code",
   "execution_count": 22,
   "metadata": {},
   "outputs": [],
   "source": [
    "df_posts.to_csv('posts_feats.csv', sep=';', index=False)"
   ]
  },
  {
   "cell_type": "code",
   "execution_count": 9,
   "metadata": {},
   "outputs": [],
   "source": [
    "df_posts = pd.read_csv('posts_feats.csv', sep=';')"
   ]
  },
  {
   "cell_type": "markdown",
   "metadata": {},
   "source": [
    "загрузка признаков в БД"
   ]
  },
  {
   "cell_type": "code",
   "execution_count": null,
   "metadata": {
    "id": "K07qzOtWSf9Z"
   },
   "outputs": [],
   "source": [
    "df_posts.to_sql(    \n",
    "   \"posts_features_0\",                    \n",
    "    con=\"postgresql://robot-startml-ro:pheiph0hahj1Vaif@\"\n",
    "        \"postgres.lab.karpov.courses:6432/startml\",                      \n",
    "    schema=\"public\",                   \n",
    "    if_exists='replace'            \n",
    "   )"
   ]
  },
  {
   "cell_type": "markdown",
   "metadata": {},
   "source": [
    "загрузка признаков из БД"
   ]
  },
  {
   "cell_type": "code",
   "execution_count": 10,
   "metadata": {},
   "outputs": [
    {
     "ename": "OperationalError",
     "evalue": "(psycopg2.OperationalError) connection to server at \"postgres.lab.karpov.courses\" (116.203.248.181), port 6432 failed: ERROR:  pgbouncer cannot connect to server\n\n(Background on this error at: https://sqlalche.me/e/14/e3q8)",
     "output_type": "error",
     "traceback": [
      "\u001b[1;31m---------------------------------------------------------------------------\u001b[0m",
      "\u001b[1;31mOperationalError\u001b[0m                          Traceback (most recent call last)",
      "File \u001b[1;32m~\\anaconda3\\lib\\site-packages\\sqlalchemy\\engine\\base.py:3256\u001b[0m, in \u001b[0;36mEngine._wrap_pool_connect\u001b[1;34m(self, fn, connection)\u001b[0m\n\u001b[0;32m   3255\u001b[0m \u001b[38;5;28;01mtry\u001b[39;00m:\n\u001b[1;32m-> 3256\u001b[0m     \u001b[38;5;28;01mreturn\u001b[39;00m \u001b[43mfn\u001b[49m\u001b[43m(\u001b[49m\u001b[43m)\u001b[49m\n\u001b[0;32m   3257\u001b[0m \u001b[38;5;28;01mexcept\u001b[39;00m dialect\u001b[38;5;241m.\u001b[39mdbapi\u001b[38;5;241m.\u001b[39mError \u001b[38;5;28;01mas\u001b[39;00m e:\n",
      "File \u001b[1;32m~\\anaconda3\\lib\\site-packages\\sqlalchemy\\pool\\base.py:310\u001b[0m, in \u001b[0;36mPool.connect\u001b[1;34m(self)\u001b[0m\n\u001b[0;32m    303\u001b[0m \u001b[38;5;124;03m\"\"\"Return a DBAPI connection from the pool.\u001b[39;00m\n\u001b[0;32m    304\u001b[0m \n\u001b[0;32m    305\u001b[0m \u001b[38;5;124;03mThe connection is instrumented such that when its\u001b[39;00m\n\u001b[1;32m   (...)\u001b[0m\n\u001b[0;32m    308\u001b[0m \n\u001b[0;32m    309\u001b[0m \u001b[38;5;124;03m\"\"\"\u001b[39;00m\n\u001b[1;32m--> 310\u001b[0m \u001b[38;5;28;01mreturn\u001b[39;00m \u001b[43m_ConnectionFairy\u001b[49m\u001b[38;5;241;43m.\u001b[39;49m\u001b[43m_checkout\u001b[49m\u001b[43m(\u001b[49m\u001b[38;5;28;43mself\u001b[39;49m\u001b[43m)\u001b[49m\n",
      "File \u001b[1;32m~\\anaconda3\\lib\\site-packages\\sqlalchemy\\pool\\base.py:868\u001b[0m, in \u001b[0;36m_ConnectionFairy._checkout\u001b[1;34m(cls, pool, threadconns, fairy)\u001b[0m\n\u001b[0;32m    867\u001b[0m \u001b[38;5;28;01mif\u001b[39;00m \u001b[38;5;129;01mnot\u001b[39;00m fairy:\n\u001b[1;32m--> 868\u001b[0m     fairy \u001b[38;5;241m=\u001b[39m \u001b[43m_ConnectionRecord\u001b[49m\u001b[38;5;241;43m.\u001b[39;49m\u001b[43mcheckout\u001b[49m\u001b[43m(\u001b[49m\u001b[43mpool\u001b[49m\u001b[43m)\u001b[49m\n\u001b[0;32m    870\u001b[0m     fairy\u001b[38;5;241m.\u001b[39m_pool \u001b[38;5;241m=\u001b[39m pool\n",
      "File \u001b[1;32m~\\anaconda3\\lib\\site-packages\\sqlalchemy\\pool\\base.py:476\u001b[0m, in \u001b[0;36m_ConnectionRecord.checkout\u001b[1;34m(cls, pool)\u001b[0m\n\u001b[0;32m    474\u001b[0m \u001b[38;5;129m@classmethod\u001b[39m\n\u001b[0;32m    475\u001b[0m \u001b[38;5;28;01mdef\u001b[39;00m \u001b[38;5;21mcheckout\u001b[39m(\u001b[38;5;28mcls\u001b[39m, pool):\n\u001b[1;32m--> 476\u001b[0m     rec \u001b[38;5;241m=\u001b[39m \u001b[43mpool\u001b[49m\u001b[38;5;241;43m.\u001b[39;49m\u001b[43m_do_get\u001b[49m\u001b[43m(\u001b[49m\u001b[43m)\u001b[49m\n\u001b[0;32m    477\u001b[0m     \u001b[38;5;28;01mtry\u001b[39;00m:\n",
      "File \u001b[1;32m~\\anaconda3\\lib\\site-packages\\sqlalchemy\\pool\\impl.py:146\u001b[0m, in \u001b[0;36mQueuePool._do_get\u001b[1;34m(self)\u001b[0m\n\u001b[0;32m    145\u001b[0m         \u001b[38;5;28;01mwith\u001b[39;00m util\u001b[38;5;241m.\u001b[39msafe_reraise():\n\u001b[1;32m--> 146\u001b[0m             \u001b[38;5;28mself\u001b[39m\u001b[38;5;241m.\u001b[39m_dec_overflow()\n\u001b[0;32m    147\u001b[0m \u001b[38;5;28;01melse\u001b[39;00m:\n",
      "File \u001b[1;32m~\\anaconda3\\lib\\site-packages\\sqlalchemy\\util\\langhelpers.py:70\u001b[0m, in \u001b[0;36msafe_reraise.__exit__\u001b[1;34m(self, type_, value, traceback)\u001b[0m\n\u001b[0;32m     69\u001b[0m     \u001b[38;5;28;01mif\u001b[39;00m \u001b[38;5;129;01mnot\u001b[39;00m \u001b[38;5;28mself\u001b[39m\u001b[38;5;241m.\u001b[39mwarn_only:\n\u001b[1;32m---> 70\u001b[0m         \u001b[43mcompat\u001b[49m\u001b[38;5;241;43m.\u001b[39;49m\u001b[43mraise_\u001b[49m\u001b[43m(\u001b[49m\n\u001b[0;32m     71\u001b[0m \u001b[43m            \u001b[49m\u001b[43mexc_value\u001b[49m\u001b[43m,\u001b[49m\n\u001b[0;32m     72\u001b[0m \u001b[43m            \u001b[49m\u001b[43mwith_traceback\u001b[49m\u001b[38;5;241;43m=\u001b[39;49m\u001b[43mexc_tb\u001b[49m\u001b[43m,\u001b[49m\n\u001b[0;32m     73\u001b[0m \u001b[43m        \u001b[49m\u001b[43m)\u001b[49m\n\u001b[0;32m     74\u001b[0m \u001b[38;5;28;01melse\u001b[39;00m:\n",
      "File \u001b[1;32m~\\anaconda3\\lib\\site-packages\\sqlalchemy\\util\\compat.py:207\u001b[0m, in \u001b[0;36mraise_\u001b[1;34m(***failed resolving arguments***)\u001b[0m\n\u001b[0;32m    206\u001b[0m \u001b[38;5;28;01mtry\u001b[39;00m:\n\u001b[1;32m--> 207\u001b[0m     \u001b[38;5;28;01mraise\u001b[39;00m exception\n\u001b[0;32m    208\u001b[0m \u001b[38;5;28;01mfinally\u001b[39;00m:\n\u001b[0;32m    209\u001b[0m     \u001b[38;5;66;03m# credit to\u001b[39;00m\n\u001b[0;32m    210\u001b[0m     \u001b[38;5;66;03m# https://cosmicpercolator.com/2016/01/13/exception-leaks-in-python-2-and-3/\u001b[39;00m\n\u001b[0;32m    211\u001b[0m     \u001b[38;5;66;03m# as the __traceback__ object creates a cycle\u001b[39;00m\n",
      "File \u001b[1;32m~\\anaconda3\\lib\\site-packages\\sqlalchemy\\pool\\impl.py:143\u001b[0m, in \u001b[0;36mQueuePool._do_get\u001b[1;34m(self)\u001b[0m\n\u001b[0;32m    142\u001b[0m \u001b[38;5;28;01mtry\u001b[39;00m:\n\u001b[1;32m--> 143\u001b[0m     \u001b[38;5;28;01mreturn\u001b[39;00m \u001b[38;5;28;43mself\u001b[39;49m\u001b[38;5;241;43m.\u001b[39;49m\u001b[43m_create_connection\u001b[49m\u001b[43m(\u001b[49m\u001b[43m)\u001b[49m\n\u001b[0;32m    144\u001b[0m \u001b[38;5;28;01mexcept\u001b[39;00m:\n",
      "File \u001b[1;32m~\\anaconda3\\lib\\site-packages\\sqlalchemy\\pool\\base.py:256\u001b[0m, in \u001b[0;36mPool._create_connection\u001b[1;34m(self)\u001b[0m\n\u001b[0;32m    254\u001b[0m \u001b[38;5;124;03m\"\"\"Called by subclasses to create a new ConnectionRecord.\"\"\"\u001b[39;00m\n\u001b[1;32m--> 256\u001b[0m \u001b[38;5;28;01mreturn\u001b[39;00m \u001b[43m_ConnectionRecord\u001b[49m\u001b[43m(\u001b[49m\u001b[38;5;28;43mself\u001b[39;49m\u001b[43m)\u001b[49m\n",
      "File \u001b[1;32m~\\anaconda3\\lib\\site-packages\\sqlalchemy\\pool\\base.py:371\u001b[0m, in \u001b[0;36m_ConnectionRecord.__init__\u001b[1;34m(self, pool, connect)\u001b[0m\n\u001b[0;32m    370\u001b[0m \u001b[38;5;28;01mif\u001b[39;00m connect:\n\u001b[1;32m--> 371\u001b[0m     \u001b[38;5;28;43mself\u001b[39;49m\u001b[38;5;241;43m.\u001b[39;49m\u001b[43m__connect\u001b[49m\u001b[43m(\u001b[49m\u001b[43m)\u001b[49m\n\u001b[0;32m    372\u001b[0m \u001b[38;5;28mself\u001b[39m\u001b[38;5;241m.\u001b[39mfinalize_callback \u001b[38;5;241m=\u001b[39m deque()\n",
      "File \u001b[1;32m~\\anaconda3\\lib\\site-packages\\sqlalchemy\\pool\\base.py:666\u001b[0m, in \u001b[0;36m_ConnectionRecord.__connect\u001b[1;34m(self)\u001b[0m\n\u001b[0;32m    665\u001b[0m     \u001b[38;5;28;01mwith\u001b[39;00m util\u001b[38;5;241m.\u001b[39msafe_reraise():\n\u001b[1;32m--> 666\u001b[0m         pool\u001b[38;5;241m.\u001b[39mlogger\u001b[38;5;241m.\u001b[39mdebug(\u001b[38;5;124m\"\u001b[39m\u001b[38;5;124mError on connect(): \u001b[39m\u001b[38;5;132;01m%s\u001b[39;00m\u001b[38;5;124m\"\u001b[39m, e)\n\u001b[0;32m    667\u001b[0m \u001b[38;5;28;01melse\u001b[39;00m:\n\u001b[0;32m    668\u001b[0m     \u001b[38;5;66;03m# in SQLAlchemy 1.4 the first_connect event is not used by\u001b[39;00m\n\u001b[0;32m    669\u001b[0m     \u001b[38;5;66;03m# the engine, so this will usually not be set\u001b[39;00m\n",
      "File \u001b[1;32m~\\anaconda3\\lib\\site-packages\\sqlalchemy\\util\\langhelpers.py:70\u001b[0m, in \u001b[0;36msafe_reraise.__exit__\u001b[1;34m(self, type_, value, traceback)\u001b[0m\n\u001b[0;32m     69\u001b[0m     \u001b[38;5;28;01mif\u001b[39;00m \u001b[38;5;129;01mnot\u001b[39;00m \u001b[38;5;28mself\u001b[39m\u001b[38;5;241m.\u001b[39mwarn_only:\n\u001b[1;32m---> 70\u001b[0m         \u001b[43mcompat\u001b[49m\u001b[38;5;241;43m.\u001b[39;49m\u001b[43mraise_\u001b[49m\u001b[43m(\u001b[49m\n\u001b[0;32m     71\u001b[0m \u001b[43m            \u001b[49m\u001b[43mexc_value\u001b[49m\u001b[43m,\u001b[49m\n\u001b[0;32m     72\u001b[0m \u001b[43m            \u001b[49m\u001b[43mwith_traceback\u001b[49m\u001b[38;5;241;43m=\u001b[39;49m\u001b[43mexc_tb\u001b[49m\u001b[43m,\u001b[49m\n\u001b[0;32m     73\u001b[0m \u001b[43m        \u001b[49m\u001b[43m)\u001b[49m\n\u001b[0;32m     74\u001b[0m \u001b[38;5;28;01melse\u001b[39;00m:\n",
      "File \u001b[1;32m~\\anaconda3\\lib\\site-packages\\sqlalchemy\\util\\compat.py:207\u001b[0m, in \u001b[0;36mraise_\u001b[1;34m(***failed resolving arguments***)\u001b[0m\n\u001b[0;32m    206\u001b[0m \u001b[38;5;28;01mtry\u001b[39;00m:\n\u001b[1;32m--> 207\u001b[0m     \u001b[38;5;28;01mraise\u001b[39;00m exception\n\u001b[0;32m    208\u001b[0m \u001b[38;5;28;01mfinally\u001b[39;00m:\n\u001b[0;32m    209\u001b[0m     \u001b[38;5;66;03m# credit to\u001b[39;00m\n\u001b[0;32m    210\u001b[0m     \u001b[38;5;66;03m# https://cosmicpercolator.com/2016/01/13/exception-leaks-in-python-2-and-3/\u001b[39;00m\n\u001b[0;32m    211\u001b[0m     \u001b[38;5;66;03m# as the __traceback__ object creates a cycle\u001b[39;00m\n",
      "File \u001b[1;32m~\\anaconda3\\lib\\site-packages\\sqlalchemy\\pool\\base.py:661\u001b[0m, in \u001b[0;36m_ConnectionRecord.__connect\u001b[1;34m(self)\u001b[0m\n\u001b[0;32m    660\u001b[0m \u001b[38;5;28mself\u001b[39m\u001b[38;5;241m.\u001b[39mstarttime \u001b[38;5;241m=\u001b[39m time\u001b[38;5;241m.\u001b[39mtime()\n\u001b[1;32m--> 661\u001b[0m \u001b[38;5;28mself\u001b[39m\u001b[38;5;241m.\u001b[39mdbapi_connection \u001b[38;5;241m=\u001b[39m connection \u001b[38;5;241m=\u001b[39m \u001b[43mpool\u001b[49m\u001b[38;5;241;43m.\u001b[39;49m\u001b[43m_invoke_creator\u001b[49m\u001b[43m(\u001b[49m\u001b[38;5;28;43mself\u001b[39;49m\u001b[43m)\u001b[49m\n\u001b[0;32m    662\u001b[0m pool\u001b[38;5;241m.\u001b[39mlogger\u001b[38;5;241m.\u001b[39mdebug(\u001b[38;5;124m\"\u001b[39m\u001b[38;5;124mCreated new connection \u001b[39m\u001b[38;5;132;01m%r\u001b[39;00m\u001b[38;5;124m\"\u001b[39m, connection)\n",
      "File \u001b[1;32m~\\anaconda3\\lib\\site-packages\\sqlalchemy\\engine\\create.py:590\u001b[0m, in \u001b[0;36mcreate_engine.<locals>.connect\u001b[1;34m(connection_record)\u001b[0m\n\u001b[0;32m    589\u001b[0m             \u001b[38;5;28;01mreturn\u001b[39;00m connection\n\u001b[1;32m--> 590\u001b[0m \u001b[38;5;28;01mreturn\u001b[39;00m \u001b[43mdialect\u001b[49m\u001b[38;5;241;43m.\u001b[39;49m\u001b[43mconnect\u001b[49m\u001b[43m(\u001b[49m\u001b[38;5;241;43m*\u001b[39;49m\u001b[43mcargs\u001b[49m\u001b[43m,\u001b[49m\u001b[43m \u001b[49m\u001b[38;5;241;43m*\u001b[39;49m\u001b[38;5;241;43m*\u001b[39;49m\u001b[43mcparams\u001b[49m\u001b[43m)\u001b[49m\n",
      "File \u001b[1;32m~\\anaconda3\\lib\\site-packages\\sqlalchemy\\engine\\default.py:597\u001b[0m, in \u001b[0;36mDefaultDialect.connect\u001b[1;34m(self, *cargs, **cparams)\u001b[0m\n\u001b[0;32m    595\u001b[0m \u001b[38;5;28;01mdef\u001b[39;00m \u001b[38;5;21mconnect\u001b[39m(\u001b[38;5;28mself\u001b[39m, \u001b[38;5;241m*\u001b[39mcargs, \u001b[38;5;241m*\u001b[39m\u001b[38;5;241m*\u001b[39mcparams):\n\u001b[0;32m    596\u001b[0m     \u001b[38;5;66;03m# inherits the docstring from interfaces.Dialect.connect\u001b[39;00m\n\u001b[1;32m--> 597\u001b[0m     \u001b[38;5;28;01mreturn\u001b[39;00m \u001b[38;5;28;43mself\u001b[39;49m\u001b[38;5;241;43m.\u001b[39;49m\u001b[43mdbapi\u001b[49m\u001b[38;5;241;43m.\u001b[39;49m\u001b[43mconnect\u001b[49m\u001b[43m(\u001b[49m\u001b[38;5;241;43m*\u001b[39;49m\u001b[43mcargs\u001b[49m\u001b[43m,\u001b[49m\u001b[43m \u001b[49m\u001b[38;5;241;43m*\u001b[39;49m\u001b[38;5;241;43m*\u001b[39;49m\u001b[43mcparams\u001b[49m\u001b[43m)\u001b[49m\n",
      "File \u001b[1;32m~\\anaconda3\\lib\\site-packages\\psycopg2\\__init__.py:122\u001b[0m, in \u001b[0;36mconnect\u001b[1;34m(dsn, connection_factory, cursor_factory, **kwargs)\u001b[0m\n\u001b[0;32m    121\u001b[0m dsn \u001b[38;5;241m=\u001b[39m _ext\u001b[38;5;241m.\u001b[39mmake_dsn(dsn, \u001b[38;5;241m*\u001b[39m\u001b[38;5;241m*\u001b[39mkwargs)\n\u001b[1;32m--> 122\u001b[0m conn \u001b[38;5;241m=\u001b[39m \u001b[43m_connect\u001b[49m\u001b[43m(\u001b[49m\u001b[43mdsn\u001b[49m\u001b[43m,\u001b[49m\u001b[43m \u001b[49m\u001b[43mconnection_factory\u001b[49m\u001b[38;5;241;43m=\u001b[39;49m\u001b[43mconnection_factory\u001b[49m\u001b[43m,\u001b[49m\u001b[43m \u001b[49m\u001b[38;5;241;43m*\u001b[39;49m\u001b[38;5;241;43m*\u001b[39;49m\u001b[43mkwasync\u001b[49m\u001b[43m)\u001b[49m\n\u001b[0;32m    123\u001b[0m \u001b[38;5;28;01mif\u001b[39;00m cursor_factory \u001b[38;5;129;01mis\u001b[39;00m \u001b[38;5;129;01mnot\u001b[39;00m \u001b[38;5;28;01mNone\u001b[39;00m:\n",
      "\u001b[1;31mOperationalError\u001b[0m: connection to server at \"postgres.lab.karpov.courses\" (116.203.248.181), port 6432 failed: ERROR:  pgbouncer cannot connect to server\n",
      "\nThe above exception was the direct cause of the following exception:\n",
      "\u001b[1;31mOperationalError\u001b[0m                          Traceback (most recent call last)",
      "Input \u001b[1;32mIn [10]\u001b[0m, in \u001b[0;36m<cell line: 1>\u001b[1;34m()\u001b[0m\n\u001b[1;32m----> 1\u001b[0m df_posts \u001b[38;5;241m=\u001b[39m \u001b[43mpd\u001b[49m\u001b[38;5;241;43m.\u001b[39;49m\u001b[43mread_sql\u001b[49m\u001b[43m(\u001b[49m\n\u001b[0;32m      2\u001b[0m \u001b[43m    \u001b[49m\u001b[38;5;124;43;03m\"\"\"SELECT * FROM public.posts_features_0\"\"\"\u001b[39;49;00m\u001b[43m,\u001b[49m\n\u001b[0;32m      3\u001b[0m \u001b[43m    \u001b[49m\n\u001b[0;32m      4\u001b[0m \u001b[43m    \u001b[49m\u001b[43mcon\u001b[49m\u001b[38;5;241;43m=\u001b[39;49m\u001b[38;5;124;43m\"\u001b[39;49m\u001b[38;5;124;43mpostgresql://robot-startml-ro:pheiph0hahj1Vaif@\u001b[39;49m\u001b[38;5;124;43m\"\u001b[39;49m\n\u001b[0;32m      5\u001b[0m \u001b[43m        \u001b[49m\u001b[38;5;124;43m\"\u001b[39;49m\u001b[38;5;124;43mpostgres.lab.karpov.courses:6432/startml\u001b[39;49m\u001b[38;5;124;43m\"\u001b[39;49m\n\u001b[0;32m      6\u001b[0m \u001b[43m)\u001b[49m\n",
      "File \u001b[1;32m~\\anaconda3\\lib\\site-packages\\pandas\\io\\sql.py:592\u001b[0m, in \u001b[0;36mread_sql\u001b[1;34m(sql, con, index_col, coerce_float, params, parse_dates, columns, chunksize)\u001b[0m\n\u001b[0;32m    583\u001b[0m     \u001b[38;5;28;01mreturn\u001b[39;00m pandas_sql\u001b[38;5;241m.\u001b[39mread_table(\n\u001b[0;32m    584\u001b[0m         sql,\n\u001b[0;32m    585\u001b[0m         index_col\u001b[38;5;241m=\u001b[39mindex_col,\n\u001b[1;32m   (...)\u001b[0m\n\u001b[0;32m    589\u001b[0m         chunksize\u001b[38;5;241m=\u001b[39mchunksize,\n\u001b[0;32m    590\u001b[0m     )\n\u001b[0;32m    591\u001b[0m \u001b[38;5;28;01melse\u001b[39;00m:\n\u001b[1;32m--> 592\u001b[0m     \u001b[38;5;28;01mreturn\u001b[39;00m \u001b[43mpandas_sql\u001b[49m\u001b[38;5;241;43m.\u001b[39;49m\u001b[43mread_query\u001b[49m\u001b[43m(\u001b[49m\n\u001b[0;32m    593\u001b[0m \u001b[43m        \u001b[49m\u001b[43msql\u001b[49m\u001b[43m,\u001b[49m\n\u001b[0;32m    594\u001b[0m \u001b[43m        \u001b[49m\u001b[43mindex_col\u001b[49m\u001b[38;5;241;43m=\u001b[39;49m\u001b[43mindex_col\u001b[49m\u001b[43m,\u001b[49m\n\u001b[0;32m    595\u001b[0m \u001b[43m        \u001b[49m\u001b[43mparams\u001b[49m\u001b[38;5;241;43m=\u001b[39;49m\u001b[43mparams\u001b[49m\u001b[43m,\u001b[49m\n\u001b[0;32m    596\u001b[0m \u001b[43m        \u001b[49m\u001b[43mcoerce_float\u001b[49m\u001b[38;5;241;43m=\u001b[39;49m\u001b[43mcoerce_float\u001b[49m\u001b[43m,\u001b[49m\n\u001b[0;32m    597\u001b[0m \u001b[43m        \u001b[49m\u001b[43mparse_dates\u001b[49m\u001b[38;5;241;43m=\u001b[39;49m\u001b[43mparse_dates\u001b[49m\u001b[43m,\u001b[49m\n\u001b[0;32m    598\u001b[0m \u001b[43m        \u001b[49m\u001b[43mchunksize\u001b[49m\u001b[38;5;241;43m=\u001b[39;49m\u001b[43mchunksize\u001b[49m\u001b[43m,\u001b[49m\n\u001b[0;32m    599\u001b[0m \u001b[43m    \u001b[49m\u001b[43m)\u001b[49m\n",
      "File \u001b[1;32m~\\anaconda3\\lib\\site-packages\\pandas\\io\\sql.py:1557\u001b[0m, in \u001b[0;36mSQLDatabase.read_query\u001b[1;34m(self, sql, index_col, coerce_float, parse_dates, params, chunksize, dtype)\u001b[0m\n\u001b[0;32m   1509\u001b[0m \u001b[38;5;124;03m\"\"\"\u001b[39;00m\n\u001b[0;32m   1510\u001b[0m \u001b[38;5;124;03mRead SQL query into a DataFrame.\u001b[39;00m\n\u001b[0;32m   1511\u001b[0m \n\u001b[1;32m   (...)\u001b[0m\n\u001b[0;32m   1553\u001b[0m \n\u001b[0;32m   1554\u001b[0m \u001b[38;5;124;03m\"\"\"\u001b[39;00m\n\u001b[0;32m   1555\u001b[0m args \u001b[38;5;241m=\u001b[39m _convert_params(sql, params)\n\u001b[1;32m-> 1557\u001b[0m result \u001b[38;5;241m=\u001b[39m \u001b[38;5;28;43mself\u001b[39;49m\u001b[38;5;241;43m.\u001b[39;49m\u001b[43mexecute\u001b[49m\u001b[43m(\u001b[49m\u001b[38;5;241;43m*\u001b[39;49m\u001b[43margs\u001b[49m\u001b[43m)\u001b[49m\n\u001b[0;32m   1558\u001b[0m columns \u001b[38;5;241m=\u001b[39m result\u001b[38;5;241m.\u001b[39mkeys()\n\u001b[0;32m   1560\u001b[0m \u001b[38;5;28;01mif\u001b[39;00m chunksize \u001b[38;5;129;01mis\u001b[39;00m \u001b[38;5;129;01mnot\u001b[39;00m \u001b[38;5;28;01mNone\u001b[39;00m:\n",
      "File \u001b[1;32m~\\anaconda3\\lib\\site-packages\\pandas\\io\\sql.py:1402\u001b[0m, in \u001b[0;36mSQLDatabase.execute\u001b[1;34m(self, *args, **kwargs)\u001b[0m\n\u001b[0;32m   1400\u001b[0m \u001b[38;5;28;01mdef\u001b[39;00m \u001b[38;5;21mexecute\u001b[39m(\u001b[38;5;28mself\u001b[39m, \u001b[38;5;241m*\u001b[39margs, \u001b[38;5;241m*\u001b[39m\u001b[38;5;241m*\u001b[39mkwargs):\n\u001b[0;32m   1401\u001b[0m     \u001b[38;5;124;03m\"\"\"Simple passthrough to SQLAlchemy connectable\"\"\"\u001b[39;00m\n\u001b[1;32m-> 1402\u001b[0m     \u001b[38;5;28;01mreturn\u001b[39;00m \u001b[38;5;28;43mself\u001b[39;49m\u001b[38;5;241;43m.\u001b[39;49m\u001b[43mconnectable\u001b[49m\u001b[38;5;241;43m.\u001b[39;49m\u001b[43mexecution_options\u001b[49m\u001b[43m(\u001b[49m\u001b[43m)\u001b[49m\u001b[38;5;241;43m.\u001b[39;49m\u001b[43mexecute\u001b[49m\u001b[43m(\u001b[49m\u001b[38;5;241;43m*\u001b[39;49m\u001b[43margs\u001b[49m\u001b[43m,\u001b[49m\u001b[43m \u001b[49m\u001b[38;5;241;43m*\u001b[39;49m\u001b[38;5;241;43m*\u001b[39;49m\u001b[43mkwargs\u001b[49m\u001b[43m)\u001b[49m\n",
      "File \u001b[1;32m<string>:2\u001b[0m, in \u001b[0;36mexecute\u001b[1;34m(self, statement, *multiparams, **params)\u001b[0m\n",
      "File \u001b[1;32m~\\anaconda3\\lib\\site-packages\\sqlalchemy\\util\\deprecations.py:401\u001b[0m, in \u001b[0;36m_decorate_with_warning.<locals>.warned\u001b[1;34m(fn, *args, **kwargs)\u001b[0m\n\u001b[0;32m    399\u001b[0m \u001b[38;5;28;01mif\u001b[39;00m \u001b[38;5;129;01mnot\u001b[39;00m skip_warning:\n\u001b[0;32m    400\u001b[0m     _warn_with_version(message, version, wtype, stacklevel\u001b[38;5;241m=\u001b[39m\u001b[38;5;241m3\u001b[39m)\n\u001b[1;32m--> 401\u001b[0m \u001b[38;5;28;01mreturn\u001b[39;00m \u001b[43mfn\u001b[49m\u001b[43m(\u001b[49m\u001b[38;5;241;43m*\u001b[39;49m\u001b[43margs\u001b[49m\u001b[43m,\u001b[49m\u001b[43m \u001b[49m\u001b[38;5;241;43m*\u001b[39;49m\u001b[38;5;241;43m*\u001b[39;49m\u001b[43mkwargs\u001b[49m\u001b[43m)\u001b[49m\n",
      "File \u001b[1;32m~\\anaconda3\\lib\\site-packages\\sqlalchemy\\engine\\base.py:3151\u001b[0m, in \u001b[0;36mEngine.execute\u001b[1;34m(self, statement, *multiparams, **params)\u001b[0m\n\u001b[0;32m   3125\u001b[0m \u001b[38;5;129m@util\u001b[39m\u001b[38;5;241m.\u001b[39mdeprecated_20(\n\u001b[0;32m   3126\u001b[0m     \u001b[38;5;124m\"\u001b[39m\u001b[38;5;124m:meth:`_engine.Engine.execute`\u001b[39m\u001b[38;5;124m\"\u001b[39m,\n\u001b[0;32m   3127\u001b[0m     alternative\u001b[38;5;241m=\u001b[39m\u001b[38;5;124m\"\u001b[39m\u001b[38;5;124mAll statement execution in SQLAlchemy 2.0 is performed \u001b[39m\u001b[38;5;124m\"\u001b[39m\n\u001b[1;32m   (...)\u001b[0m\n\u001b[0;32m   3132\u001b[0m )\n\u001b[0;32m   3133\u001b[0m \u001b[38;5;28;01mdef\u001b[39;00m \u001b[38;5;21mexecute\u001b[39m(\u001b[38;5;28mself\u001b[39m, statement, \u001b[38;5;241m*\u001b[39mmultiparams, \u001b[38;5;241m*\u001b[39m\u001b[38;5;241m*\u001b[39mparams):\n\u001b[0;32m   3134\u001b[0m     \u001b[38;5;124;03m\"\"\"Executes the given construct and returns a\u001b[39;00m\n\u001b[0;32m   3135\u001b[0m \u001b[38;5;124;03m    :class:`_engine.CursorResult`.\u001b[39;00m\n\u001b[0;32m   3136\u001b[0m \n\u001b[1;32m   (...)\u001b[0m\n\u001b[0;32m   3149\u001b[0m \n\u001b[0;32m   3150\u001b[0m \u001b[38;5;124;03m    \"\"\"\u001b[39;00m\n\u001b[1;32m-> 3151\u001b[0m     connection \u001b[38;5;241m=\u001b[39m \u001b[38;5;28;43mself\u001b[39;49m\u001b[38;5;241;43m.\u001b[39;49m\u001b[43mconnect\u001b[49m\u001b[43m(\u001b[49m\u001b[43mclose_with_result\u001b[49m\u001b[38;5;241;43m=\u001b[39;49m\u001b[38;5;28;43;01mTrue\u001b[39;49;00m\u001b[43m)\u001b[49m\n\u001b[0;32m   3152\u001b[0m     \u001b[38;5;28;01mreturn\u001b[39;00m connection\u001b[38;5;241m.\u001b[39mexecute(statement, \u001b[38;5;241m*\u001b[39mmultiparams, \u001b[38;5;241m*\u001b[39m\u001b[38;5;241m*\u001b[39mparams)\n",
      "File \u001b[1;32m~\\anaconda3\\lib\\site-packages\\sqlalchemy\\engine\\base.py:3210\u001b[0m, in \u001b[0;36mEngine.connect\u001b[1;34m(self, close_with_result)\u001b[0m\n\u001b[0;32m   3195\u001b[0m \u001b[38;5;28;01mdef\u001b[39;00m \u001b[38;5;21mconnect\u001b[39m(\u001b[38;5;28mself\u001b[39m, close_with_result\u001b[38;5;241m=\u001b[39m\u001b[38;5;28;01mFalse\u001b[39;00m):\n\u001b[0;32m   3196\u001b[0m     \u001b[38;5;124;03m\"\"\"Return a new :class:`_engine.Connection` object.\u001b[39;00m\n\u001b[0;32m   3197\u001b[0m \n\u001b[0;32m   3198\u001b[0m \u001b[38;5;124;03m    The :class:`_engine.Connection` object is a facade that uses a DBAPI\u001b[39;00m\n\u001b[1;32m   (...)\u001b[0m\n\u001b[0;32m   3207\u001b[0m \n\u001b[0;32m   3208\u001b[0m \u001b[38;5;124;03m    \"\"\"\u001b[39;00m\n\u001b[1;32m-> 3210\u001b[0m     \u001b[38;5;28;01mreturn\u001b[39;00m \u001b[38;5;28;43mself\u001b[39;49m\u001b[38;5;241;43m.\u001b[39;49m\u001b[43m_connection_cls\u001b[49m\u001b[43m(\u001b[49m\u001b[38;5;28;43mself\u001b[39;49m\u001b[43m,\u001b[49m\u001b[43m \u001b[49m\u001b[43mclose_with_result\u001b[49m\u001b[38;5;241;43m=\u001b[39;49m\u001b[43mclose_with_result\u001b[49m\u001b[43m)\u001b[49m\n",
      "File \u001b[1;32m~\\anaconda3\\lib\\site-packages\\sqlalchemy\\engine\\base.py:96\u001b[0m, in \u001b[0;36mConnection.__init__\u001b[1;34m(self, engine, connection, close_with_result, _branch_from, _execution_options, _dispatch, _has_events, _allow_revalidate)\u001b[0m\n\u001b[0;32m     91\u001b[0m     \u001b[38;5;28mself\u001b[39m\u001b[38;5;241m.\u001b[39m_has_events \u001b[38;5;241m=\u001b[39m _branch_from\u001b[38;5;241m.\u001b[39m_has_events\n\u001b[0;32m     92\u001b[0m \u001b[38;5;28;01melse\u001b[39;00m:\n\u001b[0;32m     93\u001b[0m     \u001b[38;5;28mself\u001b[39m\u001b[38;5;241m.\u001b[39m_dbapi_connection \u001b[38;5;241m=\u001b[39m (\n\u001b[0;32m     94\u001b[0m         connection\n\u001b[0;32m     95\u001b[0m         \u001b[38;5;28;01mif\u001b[39;00m connection \u001b[38;5;129;01mis\u001b[39;00m \u001b[38;5;129;01mnot\u001b[39;00m \u001b[38;5;28;01mNone\u001b[39;00m\n\u001b[1;32m---> 96\u001b[0m         \u001b[38;5;28;01melse\u001b[39;00m \u001b[43mengine\u001b[49m\u001b[38;5;241;43m.\u001b[39;49m\u001b[43mraw_connection\u001b[49m\u001b[43m(\u001b[49m\u001b[43m)\u001b[49m\n\u001b[0;32m     97\u001b[0m     )\n\u001b[0;32m     99\u001b[0m     \u001b[38;5;28mself\u001b[39m\u001b[38;5;241m.\u001b[39m_transaction \u001b[38;5;241m=\u001b[39m \u001b[38;5;28mself\u001b[39m\u001b[38;5;241m.\u001b[39m_nested_transaction \u001b[38;5;241m=\u001b[39m \u001b[38;5;28;01mNone\u001b[39;00m\n\u001b[0;32m    100\u001b[0m     \u001b[38;5;28mself\u001b[39m\u001b[38;5;241m.\u001b[39m__savepoint_seq \u001b[38;5;241m=\u001b[39m \u001b[38;5;241m0\u001b[39m\n",
      "File \u001b[1;32m~\\anaconda3\\lib\\site-packages\\sqlalchemy\\engine\\base.py:3289\u001b[0m, in \u001b[0;36mEngine.raw_connection\u001b[1;34m(self, _connection)\u001b[0m\n\u001b[0;32m   3267\u001b[0m \u001b[38;5;28;01mdef\u001b[39;00m \u001b[38;5;21mraw_connection\u001b[39m(\u001b[38;5;28mself\u001b[39m, _connection\u001b[38;5;241m=\u001b[39m\u001b[38;5;28;01mNone\u001b[39;00m):\n\u001b[0;32m   3268\u001b[0m     \u001b[38;5;124;03m\"\"\"Return a \"raw\" DBAPI connection from the connection pool.\u001b[39;00m\n\u001b[0;32m   3269\u001b[0m \n\u001b[0;32m   3270\u001b[0m \u001b[38;5;124;03m    The returned object is a proxied version of the DBAPI\u001b[39;00m\n\u001b[1;32m   (...)\u001b[0m\n\u001b[0;32m   3287\u001b[0m \n\u001b[0;32m   3288\u001b[0m \u001b[38;5;124;03m    \"\"\"\u001b[39;00m\n\u001b[1;32m-> 3289\u001b[0m     \u001b[38;5;28;01mreturn\u001b[39;00m \u001b[38;5;28;43mself\u001b[39;49m\u001b[38;5;241;43m.\u001b[39;49m\u001b[43m_wrap_pool_connect\u001b[49m\u001b[43m(\u001b[49m\u001b[38;5;28;43mself\u001b[39;49m\u001b[38;5;241;43m.\u001b[39;49m\u001b[43mpool\u001b[49m\u001b[38;5;241;43m.\u001b[39;49m\u001b[43mconnect\u001b[49m\u001b[43m,\u001b[49m\u001b[43m \u001b[49m\u001b[43m_connection\u001b[49m\u001b[43m)\u001b[49m\n",
      "File \u001b[1;32m~\\anaconda3\\lib\\site-packages\\sqlalchemy\\engine\\base.py:3259\u001b[0m, in \u001b[0;36mEngine._wrap_pool_connect\u001b[1;34m(self, fn, connection)\u001b[0m\n\u001b[0;32m   3257\u001b[0m \u001b[38;5;28;01mexcept\u001b[39;00m dialect\u001b[38;5;241m.\u001b[39mdbapi\u001b[38;5;241m.\u001b[39mError \u001b[38;5;28;01mas\u001b[39;00m e:\n\u001b[0;32m   3258\u001b[0m     \u001b[38;5;28;01mif\u001b[39;00m connection \u001b[38;5;129;01mis\u001b[39;00m \u001b[38;5;28;01mNone\u001b[39;00m:\n\u001b[1;32m-> 3259\u001b[0m         \u001b[43mConnection\u001b[49m\u001b[38;5;241;43m.\u001b[39;49m\u001b[43m_handle_dbapi_exception_noconnection\u001b[49m\u001b[43m(\u001b[49m\n\u001b[0;32m   3260\u001b[0m \u001b[43m            \u001b[49m\u001b[43me\u001b[49m\u001b[43m,\u001b[49m\u001b[43m \u001b[49m\u001b[43mdialect\u001b[49m\u001b[43m,\u001b[49m\u001b[43m \u001b[49m\u001b[38;5;28;43mself\u001b[39;49m\n\u001b[0;32m   3261\u001b[0m \u001b[43m        \u001b[49m\u001b[43m)\u001b[49m\n\u001b[0;32m   3262\u001b[0m     \u001b[38;5;28;01melse\u001b[39;00m:\n\u001b[0;32m   3263\u001b[0m         util\u001b[38;5;241m.\u001b[39mraise_(\n\u001b[0;32m   3264\u001b[0m             sys\u001b[38;5;241m.\u001b[39mexc_info()[\u001b[38;5;241m1\u001b[39m], with_traceback\u001b[38;5;241m=\u001b[39msys\u001b[38;5;241m.\u001b[39mexc_info()[\u001b[38;5;241m2\u001b[39m]\n\u001b[0;32m   3265\u001b[0m         )\n",
      "File \u001b[1;32m~\\anaconda3\\lib\\site-packages\\sqlalchemy\\engine\\base.py:2106\u001b[0m, in \u001b[0;36mConnection._handle_dbapi_exception_noconnection\u001b[1;34m(cls, e, dialect, engine)\u001b[0m\n\u001b[0;32m   2104\u001b[0m     util\u001b[38;5;241m.\u001b[39mraise_(newraise, with_traceback\u001b[38;5;241m=\u001b[39mexc_info[\u001b[38;5;241m2\u001b[39m], from_\u001b[38;5;241m=\u001b[39me)\n\u001b[0;32m   2105\u001b[0m \u001b[38;5;28;01melif\u001b[39;00m should_wrap:\n\u001b[1;32m-> 2106\u001b[0m     \u001b[43mutil\u001b[49m\u001b[38;5;241;43m.\u001b[39;49m\u001b[43mraise_\u001b[49m\u001b[43m(\u001b[49m\n\u001b[0;32m   2107\u001b[0m \u001b[43m        \u001b[49m\u001b[43msqlalchemy_exception\u001b[49m\u001b[43m,\u001b[49m\u001b[43m \u001b[49m\u001b[43mwith_traceback\u001b[49m\u001b[38;5;241;43m=\u001b[39;49m\u001b[43mexc_info\u001b[49m\u001b[43m[\u001b[49m\u001b[38;5;241;43m2\u001b[39;49m\u001b[43m]\u001b[49m\u001b[43m,\u001b[49m\u001b[43m \u001b[49m\u001b[43mfrom_\u001b[49m\u001b[38;5;241;43m=\u001b[39;49m\u001b[43me\u001b[49m\n\u001b[0;32m   2108\u001b[0m \u001b[43m    \u001b[49m\u001b[43m)\u001b[49m\n\u001b[0;32m   2109\u001b[0m \u001b[38;5;28;01melse\u001b[39;00m:\n\u001b[0;32m   2110\u001b[0m     util\u001b[38;5;241m.\u001b[39mraise_(exc_info[\u001b[38;5;241m1\u001b[39m], with_traceback\u001b[38;5;241m=\u001b[39mexc_info[\u001b[38;5;241m2\u001b[39m])\n",
      "File \u001b[1;32m~\\anaconda3\\lib\\site-packages\\sqlalchemy\\util\\compat.py:207\u001b[0m, in \u001b[0;36mraise_\u001b[1;34m(***failed resolving arguments***)\u001b[0m\n\u001b[0;32m    204\u001b[0m     exception\u001b[38;5;241m.\u001b[39m__cause__ \u001b[38;5;241m=\u001b[39m replace_context\n\u001b[0;32m    206\u001b[0m \u001b[38;5;28;01mtry\u001b[39;00m:\n\u001b[1;32m--> 207\u001b[0m     \u001b[38;5;28;01mraise\u001b[39;00m exception\n\u001b[0;32m    208\u001b[0m \u001b[38;5;28;01mfinally\u001b[39;00m:\n\u001b[0;32m    209\u001b[0m     \u001b[38;5;66;03m# credit to\u001b[39;00m\n\u001b[0;32m    210\u001b[0m     \u001b[38;5;66;03m# https://cosmicpercolator.com/2016/01/13/exception-leaks-in-python-2-and-3/\u001b[39;00m\n\u001b[0;32m    211\u001b[0m     \u001b[38;5;66;03m# as the __traceback__ object creates a cycle\u001b[39;00m\n\u001b[0;32m    212\u001b[0m     \u001b[38;5;28;01mdel\u001b[39;00m exception, replace_context, from_, with_traceback\n",
      "File \u001b[1;32m~\\anaconda3\\lib\\site-packages\\sqlalchemy\\engine\\base.py:3256\u001b[0m, in \u001b[0;36mEngine._wrap_pool_connect\u001b[1;34m(self, fn, connection)\u001b[0m\n\u001b[0;32m   3254\u001b[0m dialect \u001b[38;5;241m=\u001b[39m \u001b[38;5;28mself\u001b[39m\u001b[38;5;241m.\u001b[39mdialect\n\u001b[0;32m   3255\u001b[0m \u001b[38;5;28;01mtry\u001b[39;00m:\n\u001b[1;32m-> 3256\u001b[0m     \u001b[38;5;28;01mreturn\u001b[39;00m \u001b[43mfn\u001b[49m\u001b[43m(\u001b[49m\u001b[43m)\u001b[49m\n\u001b[0;32m   3257\u001b[0m \u001b[38;5;28;01mexcept\u001b[39;00m dialect\u001b[38;5;241m.\u001b[39mdbapi\u001b[38;5;241m.\u001b[39mError \u001b[38;5;28;01mas\u001b[39;00m e:\n\u001b[0;32m   3258\u001b[0m     \u001b[38;5;28;01mif\u001b[39;00m connection \u001b[38;5;129;01mis\u001b[39;00m \u001b[38;5;28;01mNone\u001b[39;00m:\n",
      "File \u001b[1;32m~\\anaconda3\\lib\\site-packages\\sqlalchemy\\pool\\base.py:310\u001b[0m, in \u001b[0;36mPool.connect\u001b[1;34m(self)\u001b[0m\n\u001b[0;32m    302\u001b[0m \u001b[38;5;28;01mdef\u001b[39;00m \u001b[38;5;21mconnect\u001b[39m(\u001b[38;5;28mself\u001b[39m):\n\u001b[0;32m    303\u001b[0m     \u001b[38;5;124;03m\"\"\"Return a DBAPI connection from the pool.\u001b[39;00m\n\u001b[0;32m    304\u001b[0m \n\u001b[0;32m    305\u001b[0m \u001b[38;5;124;03m    The connection is instrumented such that when its\u001b[39;00m\n\u001b[1;32m   (...)\u001b[0m\n\u001b[0;32m    308\u001b[0m \n\u001b[0;32m    309\u001b[0m \u001b[38;5;124;03m    \"\"\"\u001b[39;00m\n\u001b[1;32m--> 310\u001b[0m     \u001b[38;5;28;01mreturn\u001b[39;00m \u001b[43m_ConnectionFairy\u001b[49m\u001b[38;5;241;43m.\u001b[39;49m\u001b[43m_checkout\u001b[49m\u001b[43m(\u001b[49m\u001b[38;5;28;43mself\u001b[39;49m\u001b[43m)\u001b[49m\n",
      "File \u001b[1;32m~\\anaconda3\\lib\\site-packages\\sqlalchemy\\pool\\base.py:868\u001b[0m, in \u001b[0;36m_ConnectionFairy._checkout\u001b[1;34m(cls, pool, threadconns, fairy)\u001b[0m\n\u001b[0;32m    865\u001b[0m \u001b[38;5;129m@classmethod\u001b[39m\n\u001b[0;32m    866\u001b[0m \u001b[38;5;28;01mdef\u001b[39;00m \u001b[38;5;21m_checkout\u001b[39m(\u001b[38;5;28mcls\u001b[39m, pool, threadconns\u001b[38;5;241m=\u001b[39m\u001b[38;5;28;01mNone\u001b[39;00m, fairy\u001b[38;5;241m=\u001b[39m\u001b[38;5;28;01mNone\u001b[39;00m):\n\u001b[0;32m    867\u001b[0m     \u001b[38;5;28;01mif\u001b[39;00m \u001b[38;5;129;01mnot\u001b[39;00m fairy:\n\u001b[1;32m--> 868\u001b[0m         fairy \u001b[38;5;241m=\u001b[39m \u001b[43m_ConnectionRecord\u001b[49m\u001b[38;5;241;43m.\u001b[39;49m\u001b[43mcheckout\u001b[49m\u001b[43m(\u001b[49m\u001b[43mpool\u001b[49m\u001b[43m)\u001b[49m\n\u001b[0;32m    870\u001b[0m         fairy\u001b[38;5;241m.\u001b[39m_pool \u001b[38;5;241m=\u001b[39m pool\n\u001b[0;32m    871\u001b[0m         fairy\u001b[38;5;241m.\u001b[39m_counter \u001b[38;5;241m=\u001b[39m \u001b[38;5;241m0\u001b[39m\n",
      "File \u001b[1;32m~\\anaconda3\\lib\\site-packages\\sqlalchemy\\pool\\base.py:476\u001b[0m, in \u001b[0;36m_ConnectionRecord.checkout\u001b[1;34m(cls, pool)\u001b[0m\n\u001b[0;32m    474\u001b[0m \u001b[38;5;129m@classmethod\u001b[39m\n\u001b[0;32m    475\u001b[0m \u001b[38;5;28;01mdef\u001b[39;00m \u001b[38;5;21mcheckout\u001b[39m(\u001b[38;5;28mcls\u001b[39m, pool):\n\u001b[1;32m--> 476\u001b[0m     rec \u001b[38;5;241m=\u001b[39m \u001b[43mpool\u001b[49m\u001b[38;5;241;43m.\u001b[39;49m\u001b[43m_do_get\u001b[49m\u001b[43m(\u001b[49m\u001b[43m)\u001b[49m\n\u001b[0;32m    477\u001b[0m     \u001b[38;5;28;01mtry\u001b[39;00m:\n\u001b[0;32m    478\u001b[0m         dbapi_connection \u001b[38;5;241m=\u001b[39m rec\u001b[38;5;241m.\u001b[39mget_connection()\n",
      "File \u001b[1;32m~\\anaconda3\\lib\\site-packages\\sqlalchemy\\pool\\impl.py:146\u001b[0m, in \u001b[0;36mQueuePool._do_get\u001b[1;34m(self)\u001b[0m\n\u001b[0;32m    144\u001b[0m     \u001b[38;5;28;01mexcept\u001b[39;00m:\n\u001b[0;32m    145\u001b[0m         \u001b[38;5;28;01mwith\u001b[39;00m util\u001b[38;5;241m.\u001b[39msafe_reraise():\n\u001b[1;32m--> 146\u001b[0m             \u001b[38;5;28mself\u001b[39m\u001b[38;5;241m.\u001b[39m_dec_overflow()\n\u001b[0;32m    147\u001b[0m \u001b[38;5;28;01melse\u001b[39;00m:\n\u001b[0;32m    148\u001b[0m     \u001b[38;5;28;01mreturn\u001b[39;00m \u001b[38;5;28mself\u001b[39m\u001b[38;5;241m.\u001b[39m_do_get()\n",
      "File \u001b[1;32m~\\anaconda3\\lib\\site-packages\\sqlalchemy\\util\\langhelpers.py:70\u001b[0m, in \u001b[0;36msafe_reraise.__exit__\u001b[1;34m(self, type_, value, traceback)\u001b[0m\n\u001b[0;32m     68\u001b[0m     \u001b[38;5;28mself\u001b[39m\u001b[38;5;241m.\u001b[39m_exc_info \u001b[38;5;241m=\u001b[39m \u001b[38;5;28;01mNone\u001b[39;00m  \u001b[38;5;66;03m# remove potential circular references\u001b[39;00m\n\u001b[0;32m     69\u001b[0m     \u001b[38;5;28;01mif\u001b[39;00m \u001b[38;5;129;01mnot\u001b[39;00m \u001b[38;5;28mself\u001b[39m\u001b[38;5;241m.\u001b[39mwarn_only:\n\u001b[1;32m---> 70\u001b[0m         \u001b[43mcompat\u001b[49m\u001b[38;5;241;43m.\u001b[39;49m\u001b[43mraise_\u001b[49m\u001b[43m(\u001b[49m\n\u001b[0;32m     71\u001b[0m \u001b[43m            \u001b[49m\u001b[43mexc_value\u001b[49m\u001b[43m,\u001b[49m\n\u001b[0;32m     72\u001b[0m \u001b[43m            \u001b[49m\u001b[43mwith_traceback\u001b[49m\u001b[38;5;241;43m=\u001b[39;49m\u001b[43mexc_tb\u001b[49m\u001b[43m,\u001b[49m\n\u001b[0;32m     73\u001b[0m \u001b[43m        \u001b[49m\u001b[43m)\u001b[49m\n\u001b[0;32m     74\u001b[0m \u001b[38;5;28;01melse\u001b[39;00m:\n\u001b[0;32m     75\u001b[0m     \u001b[38;5;28;01mif\u001b[39;00m \u001b[38;5;129;01mnot\u001b[39;00m compat\u001b[38;5;241m.\u001b[39mpy3k \u001b[38;5;129;01mand\u001b[39;00m \u001b[38;5;28mself\u001b[39m\u001b[38;5;241m.\u001b[39m_exc_info \u001b[38;5;129;01mand\u001b[39;00m \u001b[38;5;28mself\u001b[39m\u001b[38;5;241m.\u001b[39m_exc_info[\u001b[38;5;241m1\u001b[39m]:\n\u001b[0;32m     76\u001b[0m         \u001b[38;5;66;03m# emulate Py3K's behavior of telling us when an exception\u001b[39;00m\n\u001b[0;32m     77\u001b[0m         \u001b[38;5;66;03m# occurs in an exception handler.\u001b[39;00m\n",
      "File \u001b[1;32m~\\anaconda3\\lib\\site-packages\\sqlalchemy\\util\\compat.py:207\u001b[0m, in \u001b[0;36mraise_\u001b[1;34m(***failed resolving arguments***)\u001b[0m\n\u001b[0;32m    204\u001b[0m     exception\u001b[38;5;241m.\u001b[39m__cause__ \u001b[38;5;241m=\u001b[39m replace_context\n\u001b[0;32m    206\u001b[0m \u001b[38;5;28;01mtry\u001b[39;00m:\n\u001b[1;32m--> 207\u001b[0m     \u001b[38;5;28;01mraise\u001b[39;00m exception\n\u001b[0;32m    208\u001b[0m \u001b[38;5;28;01mfinally\u001b[39;00m:\n\u001b[0;32m    209\u001b[0m     \u001b[38;5;66;03m# credit to\u001b[39;00m\n\u001b[0;32m    210\u001b[0m     \u001b[38;5;66;03m# https://cosmicpercolator.com/2016/01/13/exception-leaks-in-python-2-and-3/\u001b[39;00m\n\u001b[0;32m    211\u001b[0m     \u001b[38;5;66;03m# as the __traceback__ object creates a cycle\u001b[39;00m\n\u001b[0;32m    212\u001b[0m     \u001b[38;5;28;01mdel\u001b[39;00m exception, replace_context, from_, with_traceback\n",
      "File \u001b[1;32m~\\anaconda3\\lib\\site-packages\\sqlalchemy\\pool\\impl.py:143\u001b[0m, in \u001b[0;36mQueuePool._do_get\u001b[1;34m(self)\u001b[0m\n\u001b[0;32m    141\u001b[0m \u001b[38;5;28;01mif\u001b[39;00m \u001b[38;5;28mself\u001b[39m\u001b[38;5;241m.\u001b[39m_inc_overflow():\n\u001b[0;32m    142\u001b[0m     \u001b[38;5;28;01mtry\u001b[39;00m:\n\u001b[1;32m--> 143\u001b[0m         \u001b[38;5;28;01mreturn\u001b[39;00m \u001b[38;5;28;43mself\u001b[39;49m\u001b[38;5;241;43m.\u001b[39;49m\u001b[43m_create_connection\u001b[49m\u001b[43m(\u001b[49m\u001b[43m)\u001b[49m\n\u001b[0;32m    144\u001b[0m     \u001b[38;5;28;01mexcept\u001b[39;00m:\n\u001b[0;32m    145\u001b[0m         \u001b[38;5;28;01mwith\u001b[39;00m util\u001b[38;5;241m.\u001b[39msafe_reraise():\n",
      "File \u001b[1;32m~\\anaconda3\\lib\\site-packages\\sqlalchemy\\pool\\base.py:256\u001b[0m, in \u001b[0;36mPool._create_connection\u001b[1;34m(self)\u001b[0m\n\u001b[0;32m    253\u001b[0m \u001b[38;5;28;01mdef\u001b[39;00m \u001b[38;5;21m_create_connection\u001b[39m(\u001b[38;5;28mself\u001b[39m):\n\u001b[0;32m    254\u001b[0m     \u001b[38;5;124;03m\"\"\"Called by subclasses to create a new ConnectionRecord.\"\"\"\u001b[39;00m\n\u001b[1;32m--> 256\u001b[0m     \u001b[38;5;28;01mreturn\u001b[39;00m \u001b[43m_ConnectionRecord\u001b[49m\u001b[43m(\u001b[49m\u001b[38;5;28;43mself\u001b[39;49m\u001b[43m)\u001b[49m\n",
      "File \u001b[1;32m~\\anaconda3\\lib\\site-packages\\sqlalchemy\\pool\\base.py:371\u001b[0m, in \u001b[0;36m_ConnectionRecord.__init__\u001b[1;34m(self, pool, connect)\u001b[0m\n\u001b[0;32m    369\u001b[0m \u001b[38;5;28mself\u001b[39m\u001b[38;5;241m.\u001b[39m__pool \u001b[38;5;241m=\u001b[39m pool\n\u001b[0;32m    370\u001b[0m \u001b[38;5;28;01mif\u001b[39;00m connect:\n\u001b[1;32m--> 371\u001b[0m     \u001b[38;5;28;43mself\u001b[39;49m\u001b[38;5;241;43m.\u001b[39;49m\u001b[43m__connect\u001b[49m\u001b[43m(\u001b[49m\u001b[43m)\u001b[49m\n\u001b[0;32m    372\u001b[0m \u001b[38;5;28mself\u001b[39m\u001b[38;5;241m.\u001b[39mfinalize_callback \u001b[38;5;241m=\u001b[39m deque()\n",
      "File \u001b[1;32m~\\anaconda3\\lib\\site-packages\\sqlalchemy\\pool\\base.py:666\u001b[0m, in \u001b[0;36m_ConnectionRecord.__connect\u001b[1;34m(self)\u001b[0m\n\u001b[0;32m    664\u001b[0m \u001b[38;5;28;01mexcept\u001b[39;00m \u001b[38;5;167;01mException\u001b[39;00m \u001b[38;5;28;01mas\u001b[39;00m e:\n\u001b[0;32m    665\u001b[0m     \u001b[38;5;28;01mwith\u001b[39;00m util\u001b[38;5;241m.\u001b[39msafe_reraise():\n\u001b[1;32m--> 666\u001b[0m         pool\u001b[38;5;241m.\u001b[39mlogger\u001b[38;5;241m.\u001b[39mdebug(\u001b[38;5;124m\"\u001b[39m\u001b[38;5;124mError on connect(): \u001b[39m\u001b[38;5;132;01m%s\u001b[39;00m\u001b[38;5;124m\"\u001b[39m, e)\n\u001b[0;32m    667\u001b[0m \u001b[38;5;28;01melse\u001b[39;00m:\n\u001b[0;32m    668\u001b[0m     \u001b[38;5;66;03m# in SQLAlchemy 1.4 the first_connect event is not used by\u001b[39;00m\n\u001b[0;32m    669\u001b[0m     \u001b[38;5;66;03m# the engine, so this will usually not be set\u001b[39;00m\n\u001b[0;32m    670\u001b[0m     \u001b[38;5;28;01mif\u001b[39;00m pool\u001b[38;5;241m.\u001b[39mdispatch\u001b[38;5;241m.\u001b[39mfirst_connect:\n",
      "File \u001b[1;32m~\\anaconda3\\lib\\site-packages\\sqlalchemy\\util\\langhelpers.py:70\u001b[0m, in \u001b[0;36msafe_reraise.__exit__\u001b[1;34m(self, type_, value, traceback)\u001b[0m\n\u001b[0;32m     68\u001b[0m     \u001b[38;5;28mself\u001b[39m\u001b[38;5;241m.\u001b[39m_exc_info \u001b[38;5;241m=\u001b[39m \u001b[38;5;28;01mNone\u001b[39;00m  \u001b[38;5;66;03m# remove potential circular references\u001b[39;00m\n\u001b[0;32m     69\u001b[0m     \u001b[38;5;28;01mif\u001b[39;00m \u001b[38;5;129;01mnot\u001b[39;00m \u001b[38;5;28mself\u001b[39m\u001b[38;5;241m.\u001b[39mwarn_only:\n\u001b[1;32m---> 70\u001b[0m         \u001b[43mcompat\u001b[49m\u001b[38;5;241;43m.\u001b[39;49m\u001b[43mraise_\u001b[49m\u001b[43m(\u001b[49m\n\u001b[0;32m     71\u001b[0m \u001b[43m            \u001b[49m\u001b[43mexc_value\u001b[49m\u001b[43m,\u001b[49m\n\u001b[0;32m     72\u001b[0m \u001b[43m            \u001b[49m\u001b[43mwith_traceback\u001b[49m\u001b[38;5;241;43m=\u001b[39;49m\u001b[43mexc_tb\u001b[49m\u001b[43m,\u001b[49m\n\u001b[0;32m     73\u001b[0m \u001b[43m        \u001b[49m\u001b[43m)\u001b[49m\n\u001b[0;32m     74\u001b[0m \u001b[38;5;28;01melse\u001b[39;00m:\n\u001b[0;32m     75\u001b[0m     \u001b[38;5;28;01mif\u001b[39;00m \u001b[38;5;129;01mnot\u001b[39;00m compat\u001b[38;5;241m.\u001b[39mpy3k \u001b[38;5;129;01mand\u001b[39;00m \u001b[38;5;28mself\u001b[39m\u001b[38;5;241m.\u001b[39m_exc_info \u001b[38;5;129;01mand\u001b[39;00m \u001b[38;5;28mself\u001b[39m\u001b[38;5;241m.\u001b[39m_exc_info[\u001b[38;5;241m1\u001b[39m]:\n\u001b[0;32m     76\u001b[0m         \u001b[38;5;66;03m# emulate Py3K's behavior of telling us when an exception\u001b[39;00m\n\u001b[0;32m     77\u001b[0m         \u001b[38;5;66;03m# occurs in an exception handler.\u001b[39;00m\n",
      "File \u001b[1;32m~\\anaconda3\\lib\\site-packages\\sqlalchemy\\util\\compat.py:207\u001b[0m, in \u001b[0;36mraise_\u001b[1;34m(***failed resolving arguments***)\u001b[0m\n\u001b[0;32m    204\u001b[0m     exception\u001b[38;5;241m.\u001b[39m__cause__ \u001b[38;5;241m=\u001b[39m replace_context\n\u001b[0;32m    206\u001b[0m \u001b[38;5;28;01mtry\u001b[39;00m:\n\u001b[1;32m--> 207\u001b[0m     \u001b[38;5;28;01mraise\u001b[39;00m exception\n\u001b[0;32m    208\u001b[0m \u001b[38;5;28;01mfinally\u001b[39;00m:\n\u001b[0;32m    209\u001b[0m     \u001b[38;5;66;03m# credit to\u001b[39;00m\n\u001b[0;32m    210\u001b[0m     \u001b[38;5;66;03m# https://cosmicpercolator.com/2016/01/13/exception-leaks-in-python-2-and-3/\u001b[39;00m\n\u001b[0;32m    211\u001b[0m     \u001b[38;5;66;03m# as the __traceback__ object creates a cycle\u001b[39;00m\n\u001b[0;32m    212\u001b[0m     \u001b[38;5;28;01mdel\u001b[39;00m exception, replace_context, from_, with_traceback\n",
      "File \u001b[1;32m~\\anaconda3\\lib\\site-packages\\sqlalchemy\\pool\\base.py:661\u001b[0m, in \u001b[0;36m_ConnectionRecord.__connect\u001b[1;34m(self)\u001b[0m\n\u001b[0;32m    659\u001b[0m \u001b[38;5;28;01mtry\u001b[39;00m:\n\u001b[0;32m    660\u001b[0m     \u001b[38;5;28mself\u001b[39m\u001b[38;5;241m.\u001b[39mstarttime \u001b[38;5;241m=\u001b[39m time\u001b[38;5;241m.\u001b[39mtime()\n\u001b[1;32m--> 661\u001b[0m     \u001b[38;5;28mself\u001b[39m\u001b[38;5;241m.\u001b[39mdbapi_connection \u001b[38;5;241m=\u001b[39m connection \u001b[38;5;241m=\u001b[39m \u001b[43mpool\u001b[49m\u001b[38;5;241;43m.\u001b[39;49m\u001b[43m_invoke_creator\u001b[49m\u001b[43m(\u001b[49m\u001b[38;5;28;43mself\u001b[39;49m\u001b[43m)\u001b[49m\n\u001b[0;32m    662\u001b[0m     pool\u001b[38;5;241m.\u001b[39mlogger\u001b[38;5;241m.\u001b[39mdebug(\u001b[38;5;124m\"\u001b[39m\u001b[38;5;124mCreated new connection \u001b[39m\u001b[38;5;132;01m%r\u001b[39;00m\u001b[38;5;124m\"\u001b[39m, connection)\n\u001b[0;32m    663\u001b[0m     \u001b[38;5;28mself\u001b[39m\u001b[38;5;241m.\u001b[39mfresh \u001b[38;5;241m=\u001b[39m \u001b[38;5;28;01mTrue\u001b[39;00m\n",
      "File \u001b[1;32m~\\anaconda3\\lib\\site-packages\\sqlalchemy\\engine\\create.py:590\u001b[0m, in \u001b[0;36mcreate_engine.<locals>.connect\u001b[1;34m(connection_record)\u001b[0m\n\u001b[0;32m    588\u001b[0m         \u001b[38;5;28;01mif\u001b[39;00m connection \u001b[38;5;129;01mis\u001b[39;00m \u001b[38;5;129;01mnot\u001b[39;00m \u001b[38;5;28;01mNone\u001b[39;00m:\n\u001b[0;32m    589\u001b[0m             \u001b[38;5;28;01mreturn\u001b[39;00m connection\n\u001b[1;32m--> 590\u001b[0m \u001b[38;5;28;01mreturn\u001b[39;00m \u001b[43mdialect\u001b[49m\u001b[38;5;241;43m.\u001b[39;49m\u001b[43mconnect\u001b[49m\u001b[43m(\u001b[49m\u001b[38;5;241;43m*\u001b[39;49m\u001b[43mcargs\u001b[49m\u001b[43m,\u001b[49m\u001b[43m \u001b[49m\u001b[38;5;241;43m*\u001b[39;49m\u001b[38;5;241;43m*\u001b[39;49m\u001b[43mcparams\u001b[49m\u001b[43m)\u001b[49m\n",
      "File \u001b[1;32m~\\anaconda3\\lib\\site-packages\\sqlalchemy\\engine\\default.py:597\u001b[0m, in \u001b[0;36mDefaultDialect.connect\u001b[1;34m(self, *cargs, **cparams)\u001b[0m\n\u001b[0;32m    595\u001b[0m \u001b[38;5;28;01mdef\u001b[39;00m \u001b[38;5;21mconnect\u001b[39m(\u001b[38;5;28mself\u001b[39m, \u001b[38;5;241m*\u001b[39mcargs, \u001b[38;5;241m*\u001b[39m\u001b[38;5;241m*\u001b[39mcparams):\n\u001b[0;32m    596\u001b[0m     \u001b[38;5;66;03m# inherits the docstring from interfaces.Dialect.connect\u001b[39;00m\n\u001b[1;32m--> 597\u001b[0m     \u001b[38;5;28;01mreturn\u001b[39;00m \u001b[38;5;28;43mself\u001b[39;49m\u001b[38;5;241;43m.\u001b[39;49m\u001b[43mdbapi\u001b[49m\u001b[38;5;241;43m.\u001b[39;49m\u001b[43mconnect\u001b[49m\u001b[43m(\u001b[49m\u001b[38;5;241;43m*\u001b[39;49m\u001b[43mcargs\u001b[49m\u001b[43m,\u001b[49m\u001b[43m \u001b[49m\u001b[38;5;241;43m*\u001b[39;49m\u001b[38;5;241;43m*\u001b[39;49m\u001b[43mcparams\u001b[49m\u001b[43m)\u001b[49m\n",
      "File \u001b[1;32m~\\anaconda3\\lib\\site-packages\\psycopg2\\__init__.py:122\u001b[0m, in \u001b[0;36mconnect\u001b[1;34m(dsn, connection_factory, cursor_factory, **kwargs)\u001b[0m\n\u001b[0;32m    119\u001b[0m     kwasync[\u001b[38;5;124m'\u001b[39m\u001b[38;5;124masync_\u001b[39m\u001b[38;5;124m'\u001b[39m] \u001b[38;5;241m=\u001b[39m kwargs\u001b[38;5;241m.\u001b[39mpop(\u001b[38;5;124m'\u001b[39m\u001b[38;5;124masync_\u001b[39m\u001b[38;5;124m'\u001b[39m)\n\u001b[0;32m    121\u001b[0m dsn \u001b[38;5;241m=\u001b[39m _ext\u001b[38;5;241m.\u001b[39mmake_dsn(dsn, \u001b[38;5;241m*\u001b[39m\u001b[38;5;241m*\u001b[39mkwargs)\n\u001b[1;32m--> 122\u001b[0m conn \u001b[38;5;241m=\u001b[39m \u001b[43m_connect\u001b[49m\u001b[43m(\u001b[49m\u001b[43mdsn\u001b[49m\u001b[43m,\u001b[49m\u001b[43m \u001b[49m\u001b[43mconnection_factory\u001b[49m\u001b[38;5;241;43m=\u001b[39;49m\u001b[43mconnection_factory\u001b[49m\u001b[43m,\u001b[49m\u001b[43m \u001b[49m\u001b[38;5;241;43m*\u001b[39;49m\u001b[38;5;241;43m*\u001b[39;49m\u001b[43mkwasync\u001b[49m\u001b[43m)\u001b[49m\n\u001b[0;32m    123\u001b[0m \u001b[38;5;28;01mif\u001b[39;00m cursor_factory \u001b[38;5;129;01mis\u001b[39;00m \u001b[38;5;129;01mnot\u001b[39;00m \u001b[38;5;28;01mNone\u001b[39;00m:\n\u001b[0;32m    124\u001b[0m     conn\u001b[38;5;241m.\u001b[39mcursor_factory \u001b[38;5;241m=\u001b[39m cursor_factory\n",
      "\u001b[1;31mOperationalError\u001b[0m: (psycopg2.OperationalError) connection to server at \"postgres.lab.karpov.courses\" (116.203.248.181), port 6432 failed: ERROR:  pgbouncer cannot connect to server\n\n(Background on this error at: https://sqlalche.me/e/14/e3q8)"
     ]
    }
   ],
   "source": [
    "df_posts = pd.read_sql(\n",
    "    \"\"\"SELECT * FROM public.posts_features_0\"\"\",\n",
    "    \n",
    "    con=\"postgresql://robot-startml-ro:pheiph0hahj1Vaif@\"\n",
    "        \"postgres.lab.karpov.courses:6432/startml\"\n",
    ").drop(['index'], axis=1)"
   ]
  },
  {
   "cell_type": "markdown",
   "metadata": {},
   "source": [
    "6. объединение признаков постов, текстов и пользователей"
   ]
  },
  {
   "cell_type": "code",
   "execution_count": 10,
   "metadata": {
    "colab": {
     "base_uri": "https://localhost:8080/",
     "height": 513
    },
    "id": "APMdxd5E09XB",
    "outputId": "79ef0345-6922-46d9-d14c-1b7aaa9e0a18"
   },
   "outputs": [
    {
     "data": {
      "text/html": [
       "<div>\n",
       "<style scoped>\n",
       "    .dataframe tbody tr th:only-of-type {\n",
       "        vertical-align: middle;\n",
       "    }\n",
       "\n",
       "    .dataframe tbody tr th {\n",
       "        vertical-align: top;\n",
       "    }\n",
       "\n",
       "    .dataframe thead th {\n",
       "        text-align: right;\n",
       "    }\n",
       "</style>\n",
       "<table border=\"1\" class=\"dataframe\">\n",
       "  <thead>\n",
       "    <tr style=\"text-align: right;\">\n",
       "      <th></th>\n",
       "      <th>timestamp</th>\n",
       "      <th>user_id</th>\n",
       "      <th>post_id</th>\n",
       "      <th>target</th>\n",
       "      <th>text</th>\n",
       "      <th>topic</th>\n",
       "      <th>total_tfidf</th>\n",
       "      <th>max_tfidf</th>\n",
       "      <th>mean_tfidf</th>\n",
       "      <th>dist_1_cluster</th>\n",
       "      <th>dist_2_cluster</th>\n",
       "      <th>dist_3_cluster</th>\n",
       "      <th>dist_4_cluster</th>\n",
       "      <th>dist_5_cluster</th>\n",
       "      <th>dist_6_cluster</th>\n",
       "      <th>dist_7_cluster</th>\n",
       "      <th>dist_8_cluster</th>\n",
       "      <th>dist_9_cluster</th>\n",
       "      <th>dist_10_cluster</th>\n",
       "    </tr>\n",
       "  </thead>\n",
       "  <tbody>\n",
       "    <tr>\n",
       "      <th>0</th>\n",
       "      <td>2021-12-24 13:59:16</td>\n",
       "      <td>200</td>\n",
       "      <td>6450</td>\n",
       "      <td>0</td>\n",
       "      <td>One of the joys of picking up the recent Bela ...</td>\n",
       "      <td>movie</td>\n",
       "      <td>6.501989</td>\n",
       "      <td>0.336207</td>\n",
       "      <td>0.000155</td>\n",
       "      <td>0.443013</td>\n",
       "      <td>0.171766</td>\n",
       "      <td>0.220949</td>\n",
       "      <td>0.113467</td>\n",
       "      <td>0.308386</td>\n",
       "      <td>0.324533</td>\n",
       "      <td>0.301895</td>\n",
       "      <td>0.260958</td>\n",
       "      <td>0.402867</td>\n",
       "      <td>0.282926</td>\n",
       "    </tr>\n",
       "    <tr>\n",
       "      <th>1</th>\n",
       "      <td>2021-11-13 19:14:30</td>\n",
       "      <td>200</td>\n",
       "      <td>2428</td>\n",
       "      <td>0</td>\n",
       "      <td>BELIEVE IN YOURSELF\\n#day123 #day123lockdown #...</td>\n",
       "      <td>covid</td>\n",
       "      <td>2.670926</td>\n",
       "      <td>0.456235</td>\n",
       "      <td>0.000064</td>\n",
       "      <td>0.351119</td>\n",
       "      <td>0.172480</td>\n",
       "      <td>0.265344</td>\n",
       "      <td>0.298750</td>\n",
       "      <td>0.313787</td>\n",
       "      <td>0.327637</td>\n",
       "      <td>0.290393</td>\n",
       "      <td>0.029247</td>\n",
       "      <td>0.387217</td>\n",
       "      <td>0.275524</td>\n",
       "    </tr>\n",
       "    <tr>\n",
       "      <th>2</th>\n",
       "      <td>2021-11-13 19:25:58</td>\n",
       "      <td>200</td>\n",
       "      <td>3269</td>\n",
       "      <td>0</td>\n",
       "      <td>Remember, its the Eat Out to Help Out scheme M...</td>\n",
       "      <td>covid</td>\n",
       "      <td>3.031322</td>\n",
       "      <td>0.518291</td>\n",
       "      <td>0.000072</td>\n",
       "      <td>0.379742</td>\n",
       "      <td>0.060628</td>\n",
       "      <td>0.214046</td>\n",
       "      <td>0.252263</td>\n",
       "      <td>0.259727</td>\n",
       "      <td>0.298161</td>\n",
       "      <td>0.225936</td>\n",
       "      <td>0.172918</td>\n",
       "      <td>0.343751</td>\n",
       "      <td>0.214011</td>\n",
       "    </tr>\n",
       "    <tr>\n",
       "      <th>3</th>\n",
       "      <td>2021-10-02 14:34:03</td>\n",
       "      <td>200</td>\n",
       "      <td>2815</td>\n",
       "      <td>0</td>\n",
       "      <td>When ever a country is invaded or its citizens...</td>\n",
       "      <td>covid</td>\n",
       "      <td>2.867305</td>\n",
       "      <td>0.460035</td>\n",
       "      <td>0.000068</td>\n",
       "      <td>0.376644</td>\n",
       "      <td>0.075328</td>\n",
       "      <td>0.219484</td>\n",
       "      <td>0.262359</td>\n",
       "      <td>0.270043</td>\n",
       "      <td>0.301172</td>\n",
       "      <td>0.208625</td>\n",
       "      <td>0.176534</td>\n",
       "      <td>0.344052</td>\n",
       "      <td>0.221760</td>\n",
       "    </tr>\n",
       "    <tr>\n",
       "      <th>4</th>\n",
       "      <td>2021-11-13 19:28:29</td>\n",
       "      <td>200</td>\n",
       "      <td>3683</td>\n",
       "      <td>0</td>\n",
       "      <td>I hate it here.......I really do😏\\n#Quarantine...</td>\n",
       "      <td>covid</td>\n",
       "      <td>1.860404</td>\n",
       "      <td>0.728474</td>\n",
       "      <td>0.000044</td>\n",
       "      <td>0.393078</td>\n",
       "      <td>0.312834</td>\n",
       "      <td>0.359666</td>\n",
       "      <td>0.378942</td>\n",
       "      <td>0.410284</td>\n",
       "      <td>0.437704</td>\n",
       "      <td>0.400592</td>\n",
       "      <td>0.137619</td>\n",
       "      <td>0.474781</td>\n",
       "      <td>0.381879</td>\n",
       "    </tr>\n",
       "  </tbody>\n",
       "</table>\n",
       "</div>"
      ],
      "text/plain": [
       "            timestamp  user_id  post_id  target  \\\n",
       "0 2021-12-24 13:59:16      200     6450       0   \n",
       "1 2021-11-13 19:14:30      200     2428       0   \n",
       "2 2021-11-13 19:25:58      200     3269       0   \n",
       "3 2021-10-02 14:34:03      200     2815       0   \n",
       "4 2021-11-13 19:28:29      200     3683       0   \n",
       "\n",
       "                                                text  topic  total_tfidf  \\\n",
       "0  One of the joys of picking up the recent Bela ...  movie     6.501989   \n",
       "1  BELIEVE IN YOURSELF\\n#day123 #day123lockdown #...  covid     2.670926   \n",
       "2  Remember, its the Eat Out to Help Out scheme M...  covid     3.031322   \n",
       "3  When ever a country is invaded or its citizens...  covid     2.867305   \n",
       "4  I hate it here.......I really do😏\\n#Quarantine...  covid     1.860404   \n",
       "\n",
       "   max_tfidf  mean_tfidf  dist_1_cluster  dist_2_cluster  dist_3_cluster  \\\n",
       "0   0.336207    0.000155        0.443013        0.171766        0.220949   \n",
       "1   0.456235    0.000064        0.351119        0.172480        0.265344   \n",
       "2   0.518291    0.000072        0.379742        0.060628        0.214046   \n",
       "3   0.460035    0.000068        0.376644        0.075328        0.219484   \n",
       "4   0.728474    0.000044        0.393078        0.312834        0.359666   \n",
       "\n",
       "   dist_4_cluster  dist_5_cluster  dist_6_cluster  dist_7_cluster  \\\n",
       "0        0.113467        0.308386        0.324533        0.301895   \n",
       "1        0.298750        0.313787        0.327637        0.290393   \n",
       "2        0.252263        0.259727        0.298161        0.225936   \n",
       "3        0.262359        0.270043        0.301172        0.208625   \n",
       "4        0.378942        0.410284        0.437704        0.400592   \n",
       "\n",
       "   dist_8_cluster  dist_9_cluster  dist_10_cluster  \n",
       "0        0.260958        0.402867         0.282926  \n",
       "1        0.029247        0.387217         0.275524  \n",
       "2        0.172918        0.343751         0.214011  \n",
       "3        0.176534        0.344052         0.221760  \n",
       "4        0.137619        0.474781         0.381879  "
      ]
     },
     "execution_count": 10,
     "metadata": {},
     "output_type": "execute_result"
    }
   ],
   "source": [
    "df = pd.merge(df,\n",
    "              df_posts,\n",
    "              on='post_id',\n",
    "              how='left')\n",
    "\n",
    "df.head()"
   ]
  },
  {
   "cell_type": "code",
   "execution_count": 11,
   "metadata": {
    "colab": {
     "base_uri": "https://localhost:8080/",
     "height": 542
    },
    "id": "n73lvT0IkyxS",
    "outputId": "ef35e901-9644-4282-d4c5-4d2bfc8fcb45",
    "scrolled": true
   },
   "outputs": [
    {
     "data": {
      "text/html": [
       "<div>\n",
       "<style scoped>\n",
       "    .dataframe tbody tr th:only-of-type {\n",
       "        vertical-align: middle;\n",
       "    }\n",
       "\n",
       "    .dataframe tbody tr th {\n",
       "        vertical-align: top;\n",
       "    }\n",
       "\n",
       "    .dataframe thead th {\n",
       "        text-align: right;\n",
       "    }\n",
       "</style>\n",
       "<table border=\"1\" class=\"dataframe\">\n",
       "  <thead>\n",
       "    <tr style=\"text-align: right;\">\n",
       "      <th></th>\n",
       "      <th>timestamp</th>\n",
       "      <th>user_id</th>\n",
       "      <th>post_id</th>\n",
       "      <th>target</th>\n",
       "      <th>text</th>\n",
       "      <th>topic</th>\n",
       "      <th>total_tfidf</th>\n",
       "      <th>max_tfidf</th>\n",
       "      <th>mean_tfidf</th>\n",
       "      <th>dist_1_cluster</th>\n",
       "      <th>...</th>\n",
       "      <th>dist_8_cluster</th>\n",
       "      <th>dist_9_cluster</th>\n",
       "      <th>dist_10_cluster</th>\n",
       "      <th>gender</th>\n",
       "      <th>age</th>\n",
       "      <th>country</th>\n",
       "      <th>city</th>\n",
       "      <th>exp_group</th>\n",
       "      <th>os</th>\n",
       "      <th>source</th>\n",
       "    </tr>\n",
       "  </thead>\n",
       "  <tbody>\n",
       "    <tr>\n",
       "      <th>0</th>\n",
       "      <td>2021-12-24 13:59:16</td>\n",
       "      <td>200</td>\n",
       "      <td>6450</td>\n",
       "      <td>0</td>\n",
       "      <td>One of the joys of picking up the recent Bela ...</td>\n",
       "      <td>movie</td>\n",
       "      <td>6.501989</td>\n",
       "      <td>0.336207</td>\n",
       "      <td>0.000155</td>\n",
       "      <td>0.443013</td>\n",
       "      <td>...</td>\n",
       "      <td>0.260958</td>\n",
       "      <td>0.402867</td>\n",
       "      <td>0.282926</td>\n",
       "      <td>1</td>\n",
       "      <td>34</td>\n",
       "      <td>Russia</td>\n",
       "      <td>Degtyarsk</td>\n",
       "      <td>3</td>\n",
       "      <td>Android</td>\n",
       "      <td>ads</td>\n",
       "    </tr>\n",
       "    <tr>\n",
       "      <th>1</th>\n",
       "      <td>2021-11-13 19:14:30</td>\n",
       "      <td>200</td>\n",
       "      <td>2428</td>\n",
       "      <td>0</td>\n",
       "      <td>BELIEVE IN YOURSELF\\n#day123 #day123lockdown #...</td>\n",
       "      <td>covid</td>\n",
       "      <td>2.670926</td>\n",
       "      <td>0.456235</td>\n",
       "      <td>0.000064</td>\n",
       "      <td>0.351119</td>\n",
       "      <td>...</td>\n",
       "      <td>0.029247</td>\n",
       "      <td>0.387217</td>\n",
       "      <td>0.275524</td>\n",
       "      <td>1</td>\n",
       "      <td>34</td>\n",
       "      <td>Russia</td>\n",
       "      <td>Degtyarsk</td>\n",
       "      <td>3</td>\n",
       "      <td>Android</td>\n",
       "      <td>ads</td>\n",
       "    </tr>\n",
       "    <tr>\n",
       "      <th>2</th>\n",
       "      <td>2021-11-13 19:25:58</td>\n",
       "      <td>200</td>\n",
       "      <td>3269</td>\n",
       "      <td>0</td>\n",
       "      <td>Remember, its the Eat Out to Help Out scheme M...</td>\n",
       "      <td>covid</td>\n",
       "      <td>3.031322</td>\n",
       "      <td>0.518291</td>\n",
       "      <td>0.000072</td>\n",
       "      <td>0.379742</td>\n",
       "      <td>...</td>\n",
       "      <td>0.172918</td>\n",
       "      <td>0.343751</td>\n",
       "      <td>0.214011</td>\n",
       "      <td>1</td>\n",
       "      <td>34</td>\n",
       "      <td>Russia</td>\n",
       "      <td>Degtyarsk</td>\n",
       "      <td>3</td>\n",
       "      <td>Android</td>\n",
       "      <td>ads</td>\n",
       "    </tr>\n",
       "    <tr>\n",
       "      <th>3</th>\n",
       "      <td>2021-10-02 14:34:03</td>\n",
       "      <td>200</td>\n",
       "      <td>2815</td>\n",
       "      <td>0</td>\n",
       "      <td>When ever a country is invaded or its citizens...</td>\n",
       "      <td>covid</td>\n",
       "      <td>2.867305</td>\n",
       "      <td>0.460035</td>\n",
       "      <td>0.000068</td>\n",
       "      <td>0.376644</td>\n",
       "      <td>...</td>\n",
       "      <td>0.176534</td>\n",
       "      <td>0.344052</td>\n",
       "      <td>0.221760</td>\n",
       "      <td>1</td>\n",
       "      <td>34</td>\n",
       "      <td>Russia</td>\n",
       "      <td>Degtyarsk</td>\n",
       "      <td>3</td>\n",
       "      <td>Android</td>\n",
       "      <td>ads</td>\n",
       "    </tr>\n",
       "    <tr>\n",
       "      <th>4</th>\n",
       "      <td>2021-11-13 19:28:29</td>\n",
       "      <td>200</td>\n",
       "      <td>3683</td>\n",
       "      <td>0</td>\n",
       "      <td>I hate it here.......I really do😏\\n#Quarantine...</td>\n",
       "      <td>covid</td>\n",
       "      <td>1.860404</td>\n",
       "      <td>0.728474</td>\n",
       "      <td>0.000044</td>\n",
       "      <td>0.393078</td>\n",
       "      <td>...</td>\n",
       "      <td>0.137619</td>\n",
       "      <td>0.474781</td>\n",
       "      <td>0.381879</td>\n",
       "      <td>1</td>\n",
       "      <td>34</td>\n",
       "      <td>Russia</td>\n",
       "      <td>Degtyarsk</td>\n",
       "      <td>3</td>\n",
       "      <td>Android</td>\n",
       "      <td>ads</td>\n",
       "    </tr>\n",
       "  </tbody>\n",
       "</table>\n",
       "<p>5 rows × 26 columns</p>\n",
       "</div>"
      ],
      "text/plain": [
       "            timestamp  user_id  post_id  target  \\\n",
       "0 2021-12-24 13:59:16      200     6450       0   \n",
       "1 2021-11-13 19:14:30      200     2428       0   \n",
       "2 2021-11-13 19:25:58      200     3269       0   \n",
       "3 2021-10-02 14:34:03      200     2815       0   \n",
       "4 2021-11-13 19:28:29      200     3683       0   \n",
       "\n",
       "                                                text  topic  total_tfidf  \\\n",
       "0  One of the joys of picking up the recent Bela ...  movie     6.501989   \n",
       "1  BELIEVE IN YOURSELF\\n#day123 #day123lockdown #...  covid     2.670926   \n",
       "2  Remember, its the Eat Out to Help Out scheme M...  covid     3.031322   \n",
       "3  When ever a country is invaded or its citizens...  covid     2.867305   \n",
       "4  I hate it here.......I really do😏\\n#Quarantine...  covid     1.860404   \n",
       "\n",
       "   max_tfidf  mean_tfidf  dist_1_cluster  ...  dist_8_cluster  dist_9_cluster  \\\n",
       "0   0.336207    0.000155        0.443013  ...        0.260958        0.402867   \n",
       "1   0.456235    0.000064        0.351119  ...        0.029247        0.387217   \n",
       "2   0.518291    0.000072        0.379742  ...        0.172918        0.343751   \n",
       "3   0.460035    0.000068        0.376644  ...        0.176534        0.344052   \n",
       "4   0.728474    0.000044        0.393078  ...        0.137619        0.474781   \n",
       "\n",
       "   dist_10_cluster  gender  age  country       city  exp_group       os  \\\n",
       "0         0.282926       1   34   Russia  Degtyarsk          3  Android   \n",
       "1         0.275524       1   34   Russia  Degtyarsk          3  Android   \n",
       "2         0.214011       1   34   Russia  Degtyarsk          3  Android   \n",
       "3         0.221760       1   34   Russia  Degtyarsk          3  Android   \n",
       "4         0.381879       1   34   Russia  Degtyarsk          3  Android   \n",
       "\n",
       "   source  \n",
       "0     ads  \n",
       "1     ads  \n",
       "2     ads  \n",
       "3     ads  \n",
       "4     ads  \n",
       "\n",
       "[5 rows x 26 columns]"
      ]
     },
     "execution_count": 11,
     "metadata": {},
     "output_type": "execute_result"
    }
   ],
   "source": [
    "df = pd.merge(df,\n",
    "              df_users,\n",
    "              on='user_id',\n",
    "              how='left')\n",
    "\n",
    "df.head()"
   ]
  },
  {
   "cell_type": "markdown",
   "metadata": {},
   "source": [
    "7. добавление признаков по времени"
   ]
  },
  {
   "cell_type": "code",
   "execution_count": 12,
   "metadata": {
    "colab": {
     "base_uri": "https://localhost:8080/",
     "height": 366
    },
    "id": "NHYyWpl8kyua",
    "outputId": "bcf85c20-0efb-4b51-dac6-c4232793b9a1"
   },
   "outputs": [
    {
     "data": {
      "text/html": [
       "<div>\n",
       "<style scoped>\n",
       "    .dataframe tbody tr th:only-of-type {\n",
       "        vertical-align: middle;\n",
       "    }\n",
       "\n",
       "    .dataframe tbody tr th {\n",
       "        vertical-align: top;\n",
       "    }\n",
       "\n",
       "    .dataframe thead th {\n",
       "        text-align: right;\n",
       "    }\n",
       "</style>\n",
       "<table border=\"1\" class=\"dataframe\">\n",
       "  <thead>\n",
       "    <tr style=\"text-align: right;\">\n",
       "      <th></th>\n",
       "      <th>timestamp</th>\n",
       "      <th>user_id</th>\n",
       "      <th>post_id</th>\n",
       "      <th>target</th>\n",
       "      <th>text</th>\n",
       "      <th>topic</th>\n",
       "      <th>total_tfidf</th>\n",
       "      <th>max_tfidf</th>\n",
       "      <th>mean_tfidf</th>\n",
       "      <th>dist_1_cluster</th>\n",
       "      <th>...</th>\n",
       "      <th>gender</th>\n",
       "      <th>age</th>\n",
       "      <th>country</th>\n",
       "      <th>city</th>\n",
       "      <th>exp_group</th>\n",
       "      <th>os</th>\n",
       "      <th>source</th>\n",
       "      <th>hour</th>\n",
       "      <th>month</th>\n",
       "      <th>day</th>\n",
       "    </tr>\n",
       "  </thead>\n",
       "  <tbody>\n",
       "    <tr>\n",
       "      <th>0</th>\n",
       "      <td>2021-12-24 13:59:16</td>\n",
       "      <td>200</td>\n",
       "      <td>6450</td>\n",
       "      <td>0</td>\n",
       "      <td>One of the joys of picking up the recent Bela ...</td>\n",
       "      <td>movie</td>\n",
       "      <td>6.501989</td>\n",
       "      <td>0.336207</td>\n",
       "      <td>0.000155</td>\n",
       "      <td>0.443013</td>\n",
       "      <td>...</td>\n",
       "      <td>1</td>\n",
       "      <td>34</td>\n",
       "      <td>Russia</td>\n",
       "      <td>Degtyarsk</td>\n",
       "      <td>3</td>\n",
       "      <td>Android</td>\n",
       "      <td>ads</td>\n",
       "      <td>13</td>\n",
       "      <td>12</td>\n",
       "      <td>4</td>\n",
       "    </tr>\n",
       "    <tr>\n",
       "      <th>1</th>\n",
       "      <td>2021-11-13 19:14:30</td>\n",
       "      <td>200</td>\n",
       "      <td>2428</td>\n",
       "      <td>0</td>\n",
       "      <td>BELIEVE IN YOURSELF\\n#day123 #day123lockdown #...</td>\n",
       "      <td>covid</td>\n",
       "      <td>2.670926</td>\n",
       "      <td>0.456235</td>\n",
       "      <td>0.000064</td>\n",
       "      <td>0.351119</td>\n",
       "      <td>...</td>\n",
       "      <td>1</td>\n",
       "      <td>34</td>\n",
       "      <td>Russia</td>\n",
       "      <td>Degtyarsk</td>\n",
       "      <td>3</td>\n",
       "      <td>Android</td>\n",
       "      <td>ads</td>\n",
       "      <td>19</td>\n",
       "      <td>11</td>\n",
       "      <td>5</td>\n",
       "    </tr>\n",
       "    <tr>\n",
       "      <th>2</th>\n",
       "      <td>2021-11-13 19:25:58</td>\n",
       "      <td>200</td>\n",
       "      <td>3269</td>\n",
       "      <td>0</td>\n",
       "      <td>Remember, its the Eat Out to Help Out scheme M...</td>\n",
       "      <td>covid</td>\n",
       "      <td>3.031322</td>\n",
       "      <td>0.518291</td>\n",
       "      <td>0.000072</td>\n",
       "      <td>0.379742</td>\n",
       "      <td>...</td>\n",
       "      <td>1</td>\n",
       "      <td>34</td>\n",
       "      <td>Russia</td>\n",
       "      <td>Degtyarsk</td>\n",
       "      <td>3</td>\n",
       "      <td>Android</td>\n",
       "      <td>ads</td>\n",
       "      <td>19</td>\n",
       "      <td>11</td>\n",
       "      <td>5</td>\n",
       "    </tr>\n",
       "    <tr>\n",
       "      <th>3</th>\n",
       "      <td>2021-10-02 14:34:03</td>\n",
       "      <td>200</td>\n",
       "      <td>2815</td>\n",
       "      <td>0</td>\n",
       "      <td>When ever a country is invaded or its citizens...</td>\n",
       "      <td>covid</td>\n",
       "      <td>2.867305</td>\n",
       "      <td>0.460035</td>\n",
       "      <td>0.000068</td>\n",
       "      <td>0.376644</td>\n",
       "      <td>...</td>\n",
       "      <td>1</td>\n",
       "      <td>34</td>\n",
       "      <td>Russia</td>\n",
       "      <td>Degtyarsk</td>\n",
       "      <td>3</td>\n",
       "      <td>Android</td>\n",
       "      <td>ads</td>\n",
       "      <td>14</td>\n",
       "      <td>10</td>\n",
       "      <td>5</td>\n",
       "    </tr>\n",
       "    <tr>\n",
       "      <th>4</th>\n",
       "      <td>2021-11-13 19:28:29</td>\n",
       "      <td>200</td>\n",
       "      <td>3683</td>\n",
       "      <td>0</td>\n",
       "      <td>I hate it here.......I really do😏\\n#Quarantine...</td>\n",
       "      <td>covid</td>\n",
       "      <td>1.860404</td>\n",
       "      <td>0.728474</td>\n",
       "      <td>0.000044</td>\n",
       "      <td>0.393078</td>\n",
       "      <td>...</td>\n",
       "      <td>1</td>\n",
       "      <td>34</td>\n",
       "      <td>Russia</td>\n",
       "      <td>Degtyarsk</td>\n",
       "      <td>3</td>\n",
       "      <td>Android</td>\n",
       "      <td>ads</td>\n",
       "      <td>19</td>\n",
       "      <td>11</td>\n",
       "      <td>5</td>\n",
       "    </tr>\n",
       "  </tbody>\n",
       "</table>\n",
       "<p>5 rows × 29 columns</p>\n",
       "</div>"
      ],
      "text/plain": [
       "            timestamp  user_id  post_id  target  \\\n",
       "0 2021-12-24 13:59:16      200     6450       0   \n",
       "1 2021-11-13 19:14:30      200     2428       0   \n",
       "2 2021-11-13 19:25:58      200     3269       0   \n",
       "3 2021-10-02 14:34:03      200     2815       0   \n",
       "4 2021-11-13 19:28:29      200     3683       0   \n",
       "\n",
       "                                                text  topic  total_tfidf  \\\n",
       "0  One of the joys of picking up the recent Bela ...  movie     6.501989   \n",
       "1  BELIEVE IN YOURSELF\\n#day123 #day123lockdown #...  covid     2.670926   \n",
       "2  Remember, its the Eat Out to Help Out scheme M...  covid     3.031322   \n",
       "3  When ever a country is invaded or its citizens...  covid     2.867305   \n",
       "4  I hate it here.......I really do😏\\n#Quarantine...  covid     1.860404   \n",
       "\n",
       "   max_tfidf  mean_tfidf  dist_1_cluster  ...  gender  age  country  \\\n",
       "0   0.336207    0.000155        0.443013  ...       1   34   Russia   \n",
       "1   0.456235    0.000064        0.351119  ...       1   34   Russia   \n",
       "2   0.518291    0.000072        0.379742  ...       1   34   Russia   \n",
       "3   0.460035    0.000068        0.376644  ...       1   34   Russia   \n",
       "4   0.728474    0.000044        0.393078  ...       1   34   Russia   \n",
       "\n",
       "        city  exp_group       os  source  hour  month  day  \n",
       "0  Degtyarsk          3  Android     ads    13     12    4  \n",
       "1  Degtyarsk          3  Android     ads    19     11    5  \n",
       "2  Degtyarsk          3  Android     ads    19     11    5  \n",
       "3  Degtyarsk          3  Android     ads    14     10    5  \n",
       "4  Degtyarsk          3  Android     ads    19     11    5  \n",
       "\n",
       "[5 rows x 29 columns]"
      ]
     },
     "execution_count": 12,
     "metadata": {},
     "output_type": "execute_result"
    }
   ],
   "source": [
    "df['hour'] = pd.to_datetime(df['timestamp']).apply(lambda x: x.hour)\n",
    "df['month'] = pd.to_datetime(df['timestamp']).apply(lambda x: x.month)\n",
    "df['day'] = pd.to_datetime(df['timestamp']).apply(lambda x: x.dayofweek)\n",
    "\n",
    "df.head()"
   ]
  },
  {
   "cell_type": "code",
   "execution_count": 13,
   "metadata": {},
   "outputs": [
    {
     "data": {
      "text/html": [
       "<div>\n",
       "<style scoped>\n",
       "    .dataframe tbody tr th:only-of-type {\n",
       "        vertical-align: middle;\n",
       "    }\n",
       "\n",
       "    .dataframe tbody tr th {\n",
       "        vertical-align: top;\n",
       "    }\n",
       "\n",
       "    .dataframe thead th {\n",
       "        text-align: right;\n",
       "    }\n",
       "</style>\n",
       "<table border=\"1\" class=\"dataframe\">\n",
       "  <thead>\n",
       "    <tr style=\"text-align: right;\">\n",
       "      <th></th>\n",
       "      <th>timestamp</th>\n",
       "      <th>user_id</th>\n",
       "      <th>post_id</th>\n",
       "      <th>target</th>\n",
       "      <th>topic</th>\n",
       "      <th>total_tfidf</th>\n",
       "      <th>max_tfidf</th>\n",
       "      <th>mean_tfidf</th>\n",
       "      <th>dist_1_cluster</th>\n",
       "      <th>dist_2_cluster</th>\n",
       "      <th>...</th>\n",
       "      <th>gender</th>\n",
       "      <th>age</th>\n",
       "      <th>country</th>\n",
       "      <th>city</th>\n",
       "      <th>exp_group</th>\n",
       "      <th>os</th>\n",
       "      <th>source</th>\n",
       "      <th>hour</th>\n",
       "      <th>month</th>\n",
       "      <th>day</th>\n",
       "    </tr>\n",
       "  </thead>\n",
       "  <tbody>\n",
       "    <tr>\n",
       "      <th>0</th>\n",
       "      <td>2021-12-24 13:59:16</td>\n",
       "      <td>200</td>\n",
       "      <td>6450</td>\n",
       "      <td>0</td>\n",
       "      <td>movie</td>\n",
       "      <td>6.501989</td>\n",
       "      <td>0.336207</td>\n",
       "      <td>0.000155</td>\n",
       "      <td>0.443013</td>\n",
       "      <td>0.171766</td>\n",
       "      <td>...</td>\n",
       "      <td>1</td>\n",
       "      <td>34</td>\n",
       "      <td>Russia</td>\n",
       "      <td>Degtyarsk</td>\n",
       "      <td>3</td>\n",
       "      <td>Android</td>\n",
       "      <td>ads</td>\n",
       "      <td>13</td>\n",
       "      <td>12</td>\n",
       "      <td>4</td>\n",
       "    </tr>\n",
       "    <tr>\n",
       "      <th>1</th>\n",
       "      <td>2021-11-13 19:14:30</td>\n",
       "      <td>200</td>\n",
       "      <td>2428</td>\n",
       "      <td>0</td>\n",
       "      <td>covid</td>\n",
       "      <td>2.670926</td>\n",
       "      <td>0.456235</td>\n",
       "      <td>0.000064</td>\n",
       "      <td>0.351119</td>\n",
       "      <td>0.172480</td>\n",
       "      <td>...</td>\n",
       "      <td>1</td>\n",
       "      <td>34</td>\n",
       "      <td>Russia</td>\n",
       "      <td>Degtyarsk</td>\n",
       "      <td>3</td>\n",
       "      <td>Android</td>\n",
       "      <td>ads</td>\n",
       "      <td>19</td>\n",
       "      <td>11</td>\n",
       "      <td>5</td>\n",
       "    </tr>\n",
       "    <tr>\n",
       "      <th>2</th>\n",
       "      <td>2021-11-13 19:25:58</td>\n",
       "      <td>200</td>\n",
       "      <td>3269</td>\n",
       "      <td>0</td>\n",
       "      <td>covid</td>\n",
       "      <td>3.031322</td>\n",
       "      <td>0.518291</td>\n",
       "      <td>0.000072</td>\n",
       "      <td>0.379742</td>\n",
       "      <td>0.060628</td>\n",
       "      <td>...</td>\n",
       "      <td>1</td>\n",
       "      <td>34</td>\n",
       "      <td>Russia</td>\n",
       "      <td>Degtyarsk</td>\n",
       "      <td>3</td>\n",
       "      <td>Android</td>\n",
       "      <td>ads</td>\n",
       "      <td>19</td>\n",
       "      <td>11</td>\n",
       "      <td>5</td>\n",
       "    </tr>\n",
       "    <tr>\n",
       "      <th>3</th>\n",
       "      <td>2021-10-02 14:34:03</td>\n",
       "      <td>200</td>\n",
       "      <td>2815</td>\n",
       "      <td>0</td>\n",
       "      <td>covid</td>\n",
       "      <td>2.867305</td>\n",
       "      <td>0.460035</td>\n",
       "      <td>0.000068</td>\n",
       "      <td>0.376644</td>\n",
       "      <td>0.075328</td>\n",
       "      <td>...</td>\n",
       "      <td>1</td>\n",
       "      <td>34</td>\n",
       "      <td>Russia</td>\n",
       "      <td>Degtyarsk</td>\n",
       "      <td>3</td>\n",
       "      <td>Android</td>\n",
       "      <td>ads</td>\n",
       "      <td>14</td>\n",
       "      <td>10</td>\n",
       "      <td>5</td>\n",
       "    </tr>\n",
       "    <tr>\n",
       "      <th>4</th>\n",
       "      <td>2021-11-13 19:28:29</td>\n",
       "      <td>200</td>\n",
       "      <td>3683</td>\n",
       "      <td>0</td>\n",
       "      <td>covid</td>\n",
       "      <td>1.860404</td>\n",
       "      <td>0.728474</td>\n",
       "      <td>0.000044</td>\n",
       "      <td>0.393078</td>\n",
       "      <td>0.312834</td>\n",
       "      <td>...</td>\n",
       "      <td>1</td>\n",
       "      <td>34</td>\n",
       "      <td>Russia</td>\n",
       "      <td>Degtyarsk</td>\n",
       "      <td>3</td>\n",
       "      <td>Android</td>\n",
       "      <td>ads</td>\n",
       "      <td>19</td>\n",
       "      <td>11</td>\n",
       "      <td>5</td>\n",
       "    </tr>\n",
       "  </tbody>\n",
       "</table>\n",
       "<p>5 rows × 28 columns</p>\n",
       "</div>"
      ],
      "text/plain": [
       "            timestamp  user_id  post_id  target  topic  total_tfidf  \\\n",
       "0 2021-12-24 13:59:16      200     6450       0  movie     6.501989   \n",
       "1 2021-11-13 19:14:30      200     2428       0  covid     2.670926   \n",
       "2 2021-11-13 19:25:58      200     3269       0  covid     3.031322   \n",
       "3 2021-10-02 14:34:03      200     2815       0  covid     2.867305   \n",
       "4 2021-11-13 19:28:29      200     3683       0  covid     1.860404   \n",
       "\n",
       "   max_tfidf  mean_tfidf  dist_1_cluster  dist_2_cluster  ...  gender  age  \\\n",
       "0   0.336207    0.000155        0.443013        0.171766  ...       1   34   \n",
       "1   0.456235    0.000064        0.351119        0.172480  ...       1   34   \n",
       "2   0.518291    0.000072        0.379742        0.060628  ...       1   34   \n",
       "3   0.460035    0.000068        0.376644        0.075328  ...       1   34   \n",
       "4   0.728474    0.000044        0.393078        0.312834  ...       1   34   \n",
       "\n",
       "   country       city  exp_group       os  source  hour  month  day  \n",
       "0   Russia  Degtyarsk          3  Android     ads    13     12    4  \n",
       "1   Russia  Degtyarsk          3  Android     ads    19     11    5  \n",
       "2   Russia  Degtyarsk          3  Android     ads    19     11    5  \n",
       "3   Russia  Degtyarsk          3  Android     ads    14     10    5  \n",
       "4   Russia  Degtyarsk          3  Android     ads    19     11    5  \n",
       "\n",
       "[5 rows x 28 columns]"
      ]
     },
     "execution_count": 13,
     "metadata": {},
     "output_type": "execute_result"
    }
   ],
   "source": [
    "df = df.drop('text', axis=1)\n",
    "df.head()"
   ]
  },
  {
   "cell_type": "markdown",
   "metadata": {
    "id": "9xTjxuqI5ULf"
   },
   "source": [
    "# кодирование, создание DataLoader'а"
   ]
  },
  {
   "cell_type": "code",
   "execution_count": 14,
   "metadata": {
    "id": "jJrLK9c031QR"
   },
   "outputs": [],
   "source": [
    "import torch\n",
    "import torch.nn as nn\n",
    "from torch.utils.data import Dataset, DataLoader"
   ]
  },
  {
   "cell_type": "code",
   "execution_count": 15,
   "metadata": {
    "id": "ELa-47Tgv5Mr"
   },
   "outputs": [],
   "source": [
    "# !pip install category_encoders"
   ]
  },
  {
   "cell_type": "markdown",
   "metadata": {},
   "source": [
    "класс OHE который возвращает pandas.DataFrame"
   ]
  },
  {
   "cell_type": "code",
   "execution_count": 16,
   "metadata": {
    "id": "EKhOQRnOsQgV"
   },
   "outputs": [],
   "source": [
    "from sklearn.base import BaseEstimator, TransformerMixin\n",
    "from sklearn.preprocessing import OneHotEncoder\n",
    "\n",
    "class OHE(BaseEstimator, TransformerMixin):\n",
    "    def __init__(self):\n",
    "        self.ohe = OneHotEncoder(categories='auto',\n",
    "                                 drop='first',\n",
    "                                 dtype=np.uint8,\n",
    "                                 sparse=False)\n",
    "\n",
    "    def fit(self, X, y=None):\n",
    "        self.ohe.fit(X)\n",
    "        return self\n",
    "\n",
    "    def transform(self, X, y=None):\n",
    "        X_ = X.copy()\n",
    "        X_ = self.ohe.transform(X_)\n",
    "        n_feats = self.ohe.n_features_in_\n",
    "        feats = self.ohe.feature_names_in_\n",
    "        cats = self.ohe.categories_\n",
    "\n",
    "        columns = []\n",
    "        for i in range(n_feats):\n",
    "            main_cat = feats[i]\n",
    "            cat_names = [f'{main_cat}_{name}' for name in cats[i][1:]]\n",
    "            columns.extend(cat_names)\n",
    "        \n",
    "        df = pd.DataFrame(data=X_, columns=columns)\n",
    "        return df"
   ]
  },
  {
   "cell_type": "markdown",
   "metadata": {},
   "source": [
    "MinMaxScaler с заданием минимума и максимума"
   ]
  },
  {
   "cell_type": "code",
   "execution_count": 17,
   "metadata": {
    "id": "CdXbY_BtULlT"
   },
   "outputs": [],
   "source": [
    "def minmax_scler(X_, X_min, X_max):\n",
    "    X = X_.values \n",
    "    min, max = 0, 1\n",
    "    X_std = (X - X_min) / (X_max - X_min)\n",
    "    X_scaled = X_std * (max - min) + min\n",
    "    return X_scaled"
   ]
  },
  {
   "cell_type": "code",
   "execution_count": 23,
   "metadata": {},
   "outputs": [
    {
     "data": {
      "text/plain": [
       "Index(['timestamp', 'user_id', 'post_id', 'target', 'topic', 'total_tfidf',\n",
       "       'max_tfidf', 'mean_tfidf', 'dist_1_cluster', 'dist_2_cluster',\n",
       "       'dist_3_cluster', 'dist_4_cluster', 'dist_5_cluster', 'dist_6_cluster',\n",
       "       'dist_7_cluster', 'dist_8_cluster', 'dist_9_cluster', 'dist_10_cluster',\n",
       "       'gender', 'age', 'country', 'city', 'exp_group', 'os', 'source', 'hour',\n",
       "       'month', 'day'],\n",
       "      dtype='object')"
      ]
     },
     "execution_count": 23,
     "metadata": {},
     "output_type": "execute_result"
    }
   ],
   "source": [
    "df.columns"
   ]
  },
  {
   "cell_type": "markdown",
   "metadata": {},
   "source": [
    "По количеству уникальных значений у разных признаков будем использовать разные экодеры:\n",
    "\n",
    "- ['country', 'hour', 'city'] - MeanTarget кодирование\n",
    "- ['topic', 'exp_group', 'day', 'month'] - OneHot кодирование\n",
    "- ['gender', 'os', 'source'] - без кодирования\n",
    "- ['total_tfidf', 'age'] - MinMax масштабирование"
   ]
  },
  {
   "cell_type": "code",
   "execution_count": 28,
   "metadata": {
    "colab": {
     "base_uri": "https://localhost:8080/"
    },
    "id": "NxipEvLp524o",
    "outputId": "950dd193-63b4-432d-a451-42c0161f71e0"
   },
   "outputs": [
    {
     "data": {
      "text/plain": [
       "topic           7\n",
       "gender          2\n",
       "age            76\n",
       "country        11\n",
       "city         3915\n",
       "exp_group       5\n",
       "os              2\n",
       "source          2\n",
       "dtype: int64"
      ]
     },
     "execution_count": 28,
     "metadata": {},
     "output_type": "execute_result"
    }
   ],
   "source": [
    "df[['topic', 'gender', 'age', 'country', 'city', 'exp_group', 'os', 'source']].apply(lambda x: x.nunique())"
   ]
  },
  {
   "cell_type": "code",
   "execution_count": 18,
   "metadata": {
    "id": "1xr4oLrt1dkr"
   },
   "outputs": [],
   "source": [
    "from sklearn.preprocessing import StandardScaler, MinMaxScaler\n",
    "from category_encoders import TargetEncoder\n",
    "\n",
    "class DS(Dataset):\n",
    "    def __init__(self, df: pd.DataFrame,\n",
    "                 train: bool = True,\n",
    "                 val: bool = False):\n",
    "\n",
    "        self._train = train\n",
    "        self._val = val\n",
    "\n",
    "        self._user_ids = np.unique(df_users['user_id'])\n",
    "        self._post_ids = np.unique(df_posts['post_id'])\n",
    "\n",
    "        self.user2id = {v: k for k, v in enumerate(self._user_ids)}\n",
    "        self.post2id = {v: k for k, v in enumerate(self._post_ids)}\n",
    "\n",
    "        self.n_users = len(self.user2id)\n",
    "        self.n_posts = len(self.post2id)\n",
    "\n",
    "\n",
    "        df_train = df[(df['timestamp'] < '2021-12-10 00:00:00')]\n",
    "\n",
    "        df_val = df[(df['timestamp'] >= '2021-12-10 00:00:00') \\\n",
    "                    & (df['timestamp'] < '2021-12-20 00:00:00')]\n",
    "\n",
    "        df_test = df[(df['timestamp'] >= '2021-12-20 00:00:00')]\n",
    "\n",
    "        # encoeders\n",
    "        self._fit(df_train.drop('target', axis=1), df_train['target'])\n",
    "        self._df_train = self._transform(df_train)\n",
    "        self._df_val = self._transform(df_val)\n",
    "        self._df_test = self._transform(df_test)\n",
    "\n",
    "\n",
    "        if self._train and self._val:\n",
    "            self.data = self._df_val # val\n",
    "        elif self._train and not self._val:\n",
    "            self.data = self._df_train # train\n",
    "        else:\n",
    "            self.data = self._df_test # test\n",
    "\n",
    "\n",
    "    def __getitem__(self, index):\n",
    "        row = self.data.iloc[index]\n",
    "        user = self.user2id[row['user_id']]\n",
    "        post = self.post2id[row['post_id']]\n",
    "        label = row['target']\n",
    "        feats = np.array(row[4:].values, dtype=np.float32)\n",
    "        return user, post, feats, label\n",
    "\n",
    "    \n",
    "    def  __len__(self):\n",
    "        return self.data.shape[0]\n",
    "\n",
    "    \n",
    "    def _fit(self, X, y):\n",
    "        object_cols = [\n",
    "          'topic', 'country', 'city', 'exp_group', 'os', 'source',\n",
    "          'hour', 'month', 'day'\n",
    "        ]\n",
    "\n",
    "        self._cols_for_ohe = [x for x in object_cols if X[x].nunique() < 8]\n",
    "        self._cols_for_mte = [x for x in object_cols if X[x].nunique() >= 8]\n",
    "        self._scaler_cols = ['total_tfidf', 'age']\n",
    "\n",
    "        self._encoder_ohe = OHE().fit(X[self._cols_for_ohe])\n",
    "        self._encoder_mte = TargetEncoder(cols=self._cols_for_mte).fit(X[self._cols_for_mte], y)\n",
    "\n",
    "        self._minmax_scaler = MinMaxScaler().fit(X[self._scaler_cols])\n",
    "\n",
    "\n",
    "    def _transform(self, X):\n",
    "        X_ = X.copy()\n",
    "        X_ = X.drop(self._cols_for_ohe, axis=1).drop(self._cols_for_mte, axis=1)\n",
    "\n",
    "        ohe = self._encoder_ohe.transform(X[self._cols_for_ohe]).set_index(X_.index)\n",
    "        X_ = pd.concat([X_, ohe], axis=1)\n",
    "        mte = self._encoder_mte.transform(X[self._cols_for_mte]).set_index(X_.index)\n",
    "        X_ = pd.concat([X_, mte], axis=1)\n",
    "\n",
    "        X_scaled = self._minmax_scaler.transform(X_[self._scaler_cols])\n",
    "        for i, col in enumerate(self._scaler_cols):\n",
    "            X_[col] = X_scaled[:, i]\n",
    "        return X_"
   ]
  },
  {
   "cell_type": "code",
   "execution_count": 19,
   "metadata": {},
   "outputs": [
    {
     "name": "stderr",
     "output_type": "stream",
     "text": [
      "C:\\Users\\apple\\anaconda3\\lib\\site-packages\\category_encoders\\target_encoder.py:92: FutureWarning: Default parameter min_samples_leaf will change in version 2.6.See https://github.com/scikit-learn-contrib/category_encoders/issues/327\n",
      "  warnings.warn(\"Default parameter min_samples_leaf will change in version 2.6.\"\n",
      "C:\\Users\\apple\\anaconda3\\lib\\site-packages\\category_encoders\\target_encoder.py:97: FutureWarning: Default parameter smoothing will change in version 2.6.See https://github.com/scikit-learn-contrib/category_encoders/issues/327\n",
      "  warnings.warn(\"Default parameter smoothing will change in version 2.6.\"\n",
      "C:\\Users\\apple\\anaconda3\\lib\\site-packages\\category_encoders\\target_encoder.py:92: FutureWarning: Default parameter min_samples_leaf will change in version 2.6.See https://github.com/scikit-learn-contrib/category_encoders/issues/327\n",
      "  warnings.warn(\"Default parameter min_samples_leaf will change in version 2.6.\"\n",
      "C:\\Users\\apple\\anaconda3\\lib\\site-packages\\category_encoders\\target_encoder.py:97: FutureWarning: Default parameter smoothing will change in version 2.6.See https://github.com/scikit-learn-contrib/category_encoders/issues/327\n",
      "  warnings.warn(\"Default parameter smoothing will change in version 2.6.\"\n",
      "C:\\Users\\apple\\anaconda3\\lib\\site-packages\\category_encoders\\target_encoder.py:92: FutureWarning: Default parameter min_samples_leaf will change in version 2.6.See https://github.com/scikit-learn-contrib/category_encoders/issues/327\n",
      "  warnings.warn(\"Default parameter min_samples_leaf will change in version 2.6.\"\n",
      "C:\\Users\\apple\\anaconda3\\lib\\site-packages\\category_encoders\\target_encoder.py:97: FutureWarning: Default parameter smoothing will change in version 2.6.See https://github.com/scikit-learn-contrib/category_encoders/issues/327\n",
      "  warnings.warn(\"Default parameter smoothing will change in version 2.6.\"\n"
     ]
    }
   ],
   "source": [
    "ds_train = DS(df, train=True, val=False)\n",
    "ds_val = DS(df, train=False, val=True)\n",
    "ds_test = DS(df, train=False, val=False)"
   ]
  },
  {
   "cell_type": "markdown",
   "metadata": {},
   "source": [
    "изначальные признаки"
   ]
  },
  {
   "cell_type": "code",
   "execution_count": null,
   "metadata": {
    "colab": {
     "base_uri": "https://localhost:8080/"
    },
    "id": "zsDN07E_LB3s",
    "outputId": "bebb2808-7a0b-40e4-9b58-a27a8d723bd1"
   },
   "outputs": [
    {
     "data": {
      "text/plain": [
       "Index(['timestamp', 'user_id', 'post_id', 'target', 'topic', 'total_tfidf',\n",
       "       'max_tfidf', 'mean_tfidf', 'dist_1_cluster', 'dist_2_cluster',\n",
       "       'dist_3_cluster', 'dist_4_cluster', 'dist_5_cluster', 'dist_6_cluster',\n",
       "       'dist_7_cluster', 'dist_8_cluster', 'dist_9_cluster', 'dist_10_cluster',\n",
       "       'gender', 'age', 'country', 'city', 'exp_group', 'os', 'source', 'hour',\n",
       "       'month', 'day'],\n",
       "      dtype='object')"
      ]
     },
     "execution_count": 321,
     "metadata": {},
     "output_type": "execute_result"
    }
   ],
   "source": [
    "df.columns"
   ]
  },
  {
   "cell_type": "markdown",
   "metadata": {},
   "source": [
    "признаки после кодирования"
   ]
  },
  {
   "cell_type": "code",
   "execution_count": 20,
   "metadata": {
    "colab": {
     "base_uri": "https://localhost:8080/"
    },
    "id": "LXzbaFDTvhrG",
    "outputId": "8a89cf9a-d20a-43fc-90aa-2e11438a0955",
    "scrolled": true
   },
   "outputs": [
    {
     "data": {
      "text/plain": [
       "Index(['timestamp', 'user_id', 'post_id', 'target', 'total_tfidf', 'max_tfidf',\n",
       "       'mean_tfidf', 'dist_1_cluster', 'dist_2_cluster', 'dist_3_cluster',\n",
       "       'dist_4_cluster', 'dist_5_cluster', 'dist_6_cluster', 'dist_7_cluster',\n",
       "       'dist_8_cluster', 'dist_9_cluster', 'dist_10_cluster', 'gender', 'age',\n",
       "       'topic_covid', 'topic_entertainment', 'topic_movie', 'topic_politics',\n",
       "       'topic_sport', 'topic_tech', 'exp_group_1', 'exp_group_2',\n",
       "       'exp_group_3', 'exp_group_4', 'os_iOS', 'source_organic', 'month_11',\n",
       "       'month_12', 'day_1', 'day_2', 'day_3', 'day_4', 'day_5', 'day_6',\n",
       "       'country', 'city', 'hour'],\n",
       "      dtype='object')"
      ]
     },
     "execution_count": 20,
     "metadata": {},
     "output_type": "execute_result"
    }
   ],
   "source": [
    "ds_train.data.columns"
   ]
  },
  {
   "cell_type": "markdown",
   "metadata": {},
   "source": [
    "## сохранение данных для MeanTargetEncoding"
   ]
  },
  {
   "cell_type": "code",
   "execution_count": null,
   "metadata": {
    "colab": {
     "base_uri": "https://localhost:8080/"
    },
    "id": "jm9RBK-s4XfR",
    "outputId": "5806c404-75c9-415e-a6dd-0cf35084a500"
   },
   "outputs": [
    {
     "data": {
      "text/plain": [
       "{'Russia': 0.10774984662537317,\n",
       " 'Ukraine': 0.1704849812957921,\n",
       " 'Belarus': 0.1844546919273293,\n",
       " 'Azerbaijan': 0.08590941768511862,\n",
       " 'Kazakhstan': 0.16265516638498748,\n",
       " 'Finland': 0.13443072702331962,\n",
       " 'Turkey': 0.2036526533425224,\n",
       " 'Latvia': 0.16597077244258873,\n",
       " 'Cyprus': 0.10802139037433155,\n",
       " 'Switzerland': 0.08417508417508418,\n",
       " 'Estonia': 0.12224448897795591,\n",
       " nan: 0.11460258364218187}"
      ]
     },
     "execution_count": 218,
     "metadata": {},
     "output_type": "execute_result"
    }
   ],
   "source": [
    "mte_country_enc = ds_train._encoder_mte.mapping['country'].reset_index().rename(columns={0: 'target_encoding'})\n",
    "mte_country_cat = ds_train._encoder_mte.ordinal_encoder.mapping[0]['mapping'].reset_index().rename(columns={'index': 'country_name', 0: 'country'})\n",
    "mte_country = pd.merge(mte_country_cat, mte_country_enc, on='country')[['country_name', 'target_encoding']]\n",
    "mte_country_dict = {k: v for k, v in mte_country.values}\n",
    "mte_country_dict"
   ]
  },
  {
   "cell_type": "code",
   "execution_count": 32,
   "metadata": {},
   "outputs": [
    {
     "data": {
      "text/plain": [
       "{'Degtyarsk': 0.10185185185185185,\n",
       " 'Abakan': 0.133434420015163,\n",
       " 'Smolensk': 0.14607218683651804,\n",
       " 'Moscow': 0.1484223677480484,\n",
       " 'Anzhero-Sudzhensk': 0.13114754098360656,\n",
       " 'Dugulubgey': 0.04854368932038835,\n",
       " 'Kamenka': 0.043137254901960784,\n",
       " 'Groznyy': 0.0508816120906801,\n",
       " 'Zima': 0.15298507462686567,\n",
       " 'Yuzhnouralsk': 0.08609271523178808,\n",
       " 'Mykolaiv': 0.15766738660907129,\n",
       " 'Minsk': 0.14595660749506903,\n",
       " 'Podolsk': 0.06568228105906314,\n",
       " 'Kamianske': 0.22556390977443608,\n",
       " 'Horodenka': 0.4817221910088523,\n",
       " 'Lviv': 0.10286677908937605,\n",
       " 'Kansk': 0.09602194787379972,\n",
       " 'Novosibirsk': 0.06208425720620843,\n",
       " 'Vologda': 0.13942534149788036,\n",
       " 'Ulyanovsk': 0.10412844036697248,\n",
       " 'Chernihiv': 0.19550561797752808,\n",
       " 'Yekaterinburg': 0.07607768829938417,\n",
       " 'Vilyuysk': 0.04411764705882353,\n",
       " 'Saint Petersburg': 0.15233753842891976,\n",
       " 'Baku': 0.0827503015681544,\n",
       " 'Perm': 0.144292991876635,\n",
       " 'Barnaul': 0.13989071038251366,\n",
       " 'Kursk': 0.14664536741214057,\n",
       " 'Volgograd': 0.13180968808394422,\n",
       " 'Troitsk': 0.14944649446494465,\n",
       " 'Ufa': 0.062339331619537273,\n",
       " 'Rostov': 0.12886781268524006,\n",
       " 'Saransk': 0.0433971068595427,\n",
       " 'Smarhon’': 0.26126126126126126,\n",
       " 'Zlatoust': 0.06988352745424292,\n",
       " 'Ekibastuz': 0.16117216117216118,\n",
       " 'Krasnoyarsk': 0.11491908064735482,\n",
       " 'Nizhniy Tagil': 0.09531013615733737,\n",
       " 'Jyväskylä': 0.17254901960784313,\n",
       " 'Lesosibirsk': 0.06887052341597796,\n",
       " 'Shakhty': 0.051681195516811954,\n",
       " 'Krasnodar': 0.050630914826498424,\n",
       " 'Kashin': 0.0660377358490566,\n",
       " 'Salavat': 0.15270935960591134,\n",
       " 'Tsimlyansk': 0.10526315789473684,\n",
       " 'Yelizovo': 0.08860759493670886,\n",
       " 'Rubtsovsk': 0.060218978102189784,\n",
       " 'Odintsovo': 0.06382978723404255,\n",
       " 'Pyatigorsk': 0.041025641025641026,\n",
       " 'Yelabuga': 0.15354330708661418,\n",
       " 'Gaziantep': 0.2,\n",
       " 'Khabarovsk': 0.14374721851357367,\n",
       " 'Ağcabədi': 0.023529411764705882,\n",
       " 'Kislovodsk': 0.1534090909090909,\n",
       " 'Asipovichy': 0.1206896551724138,\n",
       " 'M.Ə. Rəsulzadə': 0.0297029702970297,\n",
       " 'Vladimir': 0.09746835443037975,\n",
       " 'Birobidzhan': 0.12316176470588236,\n",
       " 'Beloyarskiy': 0.08441558441558442,\n",
       " 'Tyumen': 0.0745057232049948,\n",
       " 'Omsk': 0.07423091294059037,\n",
       " 'Severodvinsk': 0.13560732113144758,\n",
       " 'Yuzhno-Sakhalinsk': 0.0962686567164179,\n",
       " 'Taganrog': 0.09983079526226735,\n",
       " 'Mahilyow': 0.15565031982942432,\n",
       " 'Artëm': 0.06936416184971098,\n",
       " 'Neftekamsk': 0.12318840579710146,\n",
       " 'Syktyvkar': 0.11860595840359753,\n",
       " 'Arzamas': 0.09436274509803921,\n",
       " 'Makhachkala': 0.1523579201934704,\n",
       " 'Vladivostok': 0.13054830287206268,\n",
       " 'Lipetsk': 0.059346330275229356,\n",
       " 'Stavropol': 0.1326037978757644,\n",
       " 'Tobolsk': 0.12552301255230125,\n",
       " 'Novokuznetsk': 0.04763067904250122,\n",
       " 'Velikiy Novgorod': 0.12130005803830528,\n",
       " 'Voronezh': 0.14983232729711604,\n",
       " 'Buguruslan': 0.11048158640226628,\n",
       " 'Novouralsk': 0.0821917808219178,\n",
       " 'Zelënodol’sk': 0.04152249134948097,\n",
       " 'Horokhiv': 0.36842104876592885,\n",
       " 'Berdsk': 0.0426098535286285,\n",
       " 'Murmansk': 0.10330188679245284,\n",
       " 'Dzerzhinskiy': 0.1394736842105263,\n",
       " 'Tomsk': 0.13199898657208006,\n",
       " 'Neman': 0.03571428571428571,\n",
       " 'Pushkino': 0.14655172413793102,\n",
       " 'Yessentuki': 0.08074534161490683,\n",
       " 'Novohrad-Volynskyi': 0.2345679012345679,\n",
       " 'Tver': 0.05698822031200255,\n",
       " 'Rtishchevo': 0.14606741573033707,\n",
       " 'Astrakhan': 0.1331245105716523,\n",
       " 'Nizhniy Novgorod': 0.15660184237461616,\n",
       " 'Yartsevo': 0.13284132841328414,\n",
       " 'Kotlas': 0.07075471698113207,\n",
       " 'Novoshakhtinsk': 0.07586206896551724,\n",
       " 'Sevastopol': 0.1991643454038997,\n",
       " 'Iskitim': 0.08536585365853659,\n",
       " 'Gulkevichi': 0.10305343511450382,\n",
       " 'Tambov': 0.09298856290402785,\n",
       " 'Guryevsk': 0.125,\n",
       " 'Velikiye Luki': 0.05905511811023622,\n",
       " 'Lysva': 0.10962566844919786,\n",
       " 'Yakhroma': 0.031496062992125984,\n",
       " 'Rivne': 0.1671018276762402,\n",
       " 'Baymak': 0.06862745098039216,\n",
       " 'Belgorod': 0.09842192691029901,\n",
       " 'Homyel’': 0.24538063562453807,\n",
       " 'Petrovsk': 0.09195402298850575,\n",
       " 'Sevsk': 0.04918032786885246,\n",
       " 'Chelyabinsk': 0.058912037037037034,\n",
       " 'Babruysk': 0.1972318339100346,\n",
       " 'Balashov': 0.10097719869706841,\n",
       " 'Mindyak': 0.14285714285708975,\n",
       " 'Novyy Urengoy': 0.06850828729281767,\n",
       " 'Ryazan': 0.1499210941609679,\n",
       " 'Shagonar': 0.16923076923076924,\n",
       " 'Bikin': 0.058823529411764705,\n",
       " 'Belovo': 0.058823529411764705,\n",
       " 'Elektrostal': 0.07476635514018691,\n",
       " 'Kstovo': 0.039473684210526314,\n",
       " 'Vorkuta': 0.05530973451327434,\n",
       " 'Bobrovka': 0.04054054054054054,\n",
       " 'Uinskoye': 0.09091016654316311,\n",
       " 'Oktyabrsk': 0.13333333333333333,\n",
       " 'Goyty': 0.11515151515151516,\n",
       " 'Narovchat': 0.06666670652672517,\n",
       " 'Miass': 0.09125840537944284,\n",
       " 'Mikhaylovka': 0.14711359404096835,\n",
       " 'Saratov': 0.11726438698915763,\n",
       " 'Kirov': 0.04753608760577402,\n",
       " 'Nartkala': 0.06382978723404255,\n",
       " 'Udachnyy': 0.14814814814814814,\n",
       " 'Kaspiysk': 0.15550510783200908,\n",
       " 'Blagoveshchensk': 0.1225,\n",
       " 'Koryazhma': 0.10130718954248366,\n",
       " 'Sertolovo': 0.10817941952506596,\n",
       " 'Usol’ye-Sibirskoye': 0.09210526315789473,\n",
       " 'Gelendzhik': 0.04771371769383698,\n",
       " 'Orenburg': 0.11746115354227021,\n",
       " 'Slyudyanka': 0.11450381679389313,\n",
       " 'Kemerovo': 0.06761658031088083,\n",
       " 'Kirishi': 0.05673758865248227,\n",
       " 'Ust’-Kut': 0.04294478527607362,\n",
       " 'Siyəzən': 0.09433962264150944,\n",
       " 'Kazan': 0.05968536087426444,\n",
       " 'Biysk': 0.1414965986394558,\n",
       " 'Volsk': 0.14175257731958762,\n",
       " 'Shchelkovo': 0.05084745762711865,\n",
       " 'Mayrtup': 0.07954545454545454,\n",
       " 'Buynaksk': 0.052083333333333336,\n",
       " 'Selydove': 0.22857142857142856,\n",
       " 'Kaliningrad': 0.062030688867123734,\n",
       " 'Revda': 0.055441478439425054,\n",
       " 'Romny': 0.2631578947368421,\n",
       " 'Truskavets': 0.09230769230769231,\n",
       " 'Minusinsk': 0.08450704225352113,\n",
       " 'Nogliki': 0.16071428571428573,\n",
       " 'Alchevsk': 0.09826589595375723,\n",
       " 'Kurchatov': 0.10416666666666667,\n",
       " 'Druzhkivka': 0.15294117647058825,\n",
       " 'Anapa': 0.1412639405204461,\n",
       " 'Novorossiysk': 0.04769475357710652,\n",
       " 'Krasnokamensk': 0.15815085158150852,\n",
       " 'Severouralsk': 0.15544041450777202,\n",
       " 'Sergiyev Posad': 0.09536784741144415,\n",
       " 'Loviisa': 0.1666666666613239,\n",
       " 'Rasskazovo': 0.05396825396825397,\n",
       " 'Gus’-Khrustal’nyy': 0.14560439560439561,\n",
       " 'Izhevsk': 0.0923900914974336,\n",
       " 'Angarsk': 0.1509433962264151,\n",
       " 'Velykyi Bychkiv': 0.1176470584809189,\n",
       " 'Ağdaş': 0.09322033898305085,\n",
       " 'Blechepsin': 0.03225806451613673,\n",
       " 'Ramenskoye': 0.14352941176470588,\n",
       " 'Voskresensk': 0.05901116427432217,\n",
       " 'Yelets': 0.03622250970245795,\n",
       " 'Yurga': 0.048154093097913325,\n",
       " 'Orekhovo-Borisovo Yuzhnoye': 0.07915831663326653,\n",
       " 'Mendeleyevsk': 0.08571428571428572,\n",
       " 'Zainsk': 0.05821917808219178,\n",
       " 'Tula': 0.07291972949132608,\n",
       " 'Novosamarka': 0.2499977386706323,\n",
       " 'Snezhinsk': 0.15725806451612903,\n",
       " 'Bol’shoye Boldino': 0.06976744186046512,\n",
       " 'Naberezhnyye Chelny': 0.06700738216922203,\n",
       " 'Yakutsk': 0.07670182166826463,\n",
       " 'Novotroitsk': 0.08037383177570094,\n",
       " 'Atyraū': 0.10185185185185185,\n",
       " 'Berezniki': 0.07716701902748414,\n",
       " 'Virolahti': 0.19846402413916814,\n",
       " 'Severobaykalsk': 0.12658227848101267,\n",
       " 'Noginsk': 0.10998619420156466,\n",
       " 'Ust’-Bol’sheretsk': 0.04545454550697738,\n",
       " 'Petrozavodsk': 0.056593095642331635,\n",
       " 'Ivanovo': 0.10627062706270628,\n",
       " 'Gubkin': 0.0642361111111111,\n",
       " 'Yuryuzan': 0.0625,\n",
       " 'Almaty': 0.18387413962635202,\n",
       " 'Balakovo': 0.10815047021943573,\n",
       " 'Elista': 0.10935441370223979,\n",
       " 'Tyrnyauz': 0.0364963503649635,\n",
       " 'Nadym': 0.03439153439153439,\n",
       " 'Irpin': 0.13829787234042554,\n",
       " 'Obyachevo': 0.1320754716981132,\n",
       " 'Karpogory': 0.12121212121212113,\n",
       " 'Cheremnoye': 0.1176470588235294,\n",
       " 'Segezha': 0.08955223880597014,\n",
       " 'Samsun': 0.2275449101796407,\n",
       " 'Plast': 0.1320754716981132,\n",
       " 'Taraz': 0.17787742899850523,\n",
       " 'Aleksandrov': 0.18092909535452323,\n",
       " 'Chernogolovka': 0.05092592592592592,\n",
       " 'Kyzyl': 0.07032181168057211,\n",
       " 'Penza': 0.12904066736183525,\n",
       " 'Irkutsk': 0.1095512082853855,\n",
       " 'Antalya': 0.2297734627831715,\n",
       " 'Bryansk': 0.12760416666666666,\n",
       " 'Armavir': 0.12072575017445918,\n",
       " 'Sochi': 0.06003873466752744,\n",
       " 'Chapayevsk': 0.03861788617886179,\n",
       " 'Simferopol': 0.220675944333996,\n",
       " 'Engels': 0.10478237506716818,\n",
       " 'Helsinki': 0.1485981308411215,\n",
       " 'Melitopol': 0.1865079365079365,\n",
       " 'Fastiv': 0.0847457627118644,\n",
       " 'Belebey': 0.06595744680851064,\n",
       " 'Maykop': 0.1167420814479638,\n",
       " 'Pskov': 0.07022282241728561,\n",
       " 'Göyçay': 0.1935483870967742,\n",
       " 'Ivanchug': 0.14285707899267613,\n",
       " 'Mytishchi': 0.14161220043572983,\n",
       " 'Chernolesskoye': 0.12121212121212113,\n",
       " 'Apatity': 0.13577586206896552,\n",
       " 'Cēsis': 0.15789473618276664,\n",
       " 'Yelizavetinskoye': 0.04545454550697738,\n",
       " 'Uglich': 0.06542056074766354,\n",
       " 'Erzincan': 0.16666666666665342,\n",
       " 'Shakhunya': 0.061068702290076333,\n",
       " 'Odesa': 0.17221510883482716,\n",
       " 'Leninsk-Kuznetskiy': 0.07446808510638298,\n",
       " 'Mozhaysk': 0.18285714285714286,\n",
       " 'Nizhnevartovsk': 0.09217101610216547,\n",
       " 'Korkino': 0.06624605678233439,\n",
       " 'Alkhan-Kala': 0.09803921568627451,\n",
       " 'Belorechensk': 0.12941176470588237,\n",
       " 'Konya': 0.25333333333333335,\n",
       " 'Arsenyev': 0.11619718309859155,\n",
       " 'Komsomol’sk-na-Amure': 0.12753468516542155,\n",
       " 'Nakhodka': 0.06026200873362445,\n",
       " 'Ivanteyevka': 0.04950495049504951,\n",
       " 'Dnipro': 0.21841397849462366,\n",
       " 'Zavolzhye': 0.07818930041152264,\n",
       " 'Staryy Oskol': 0.13402061855670103,\n",
       " 'Taksimo': 0.1016949152542373,\n",
       " 'Novaya Lyalya': 0.1650485436893204,\n",
       " 'Əmircan': 0.12499999999999964,\n",
       " 'Alapayevsk': 0.06818181818181818,\n",
       " 'Rybinsk': 0.06451612903225806,\n",
       " 'Donetsk': 0.14855875831485588,\n",
       " 'Makiivka': 0.16636851520572452,\n",
       " 'Ochër': 0.16551724137931034,\n",
       " 'Partizansk': 0.09652509652509653,\n",
       " 'Gay': 0.08734939759036145,\n",
       " 'Shlisselburg': 0.13953488372093023,\n",
       " 'Klimovsk': 0.057279236276849645,\n",
       " 'Ivano-Frankivsk': 0.13157894736842105,\n",
       " 'Verkhnyaya Khava': 0.06666666666666667,\n",
       " 'Samara': 0.08995298193516456,\n",
       " 'Sarapul': 0.1063257065948856,\n",
       " 'Sovetsk': 0.0532994923857868,\n",
       " 'Nazran': 0.10193548387096774,\n",
       " 'Enerhodar': 0.20454545454545456,\n",
       " 'Kuznetsk': 0.06521739130434782,\n",
       " 'Luhansk': 0.25,\n",
       " 'Nagutskoye': 0.06250000000000179,\n",
       " 'Nalchik': 0.07575012297097884,\n",
       " 'Cheboksary': 0.11150442477876106,\n",
       " 'Kaluga': 0.11071849234393404,\n",
       " 'Kungur': 0.06557377049180328,\n",
       " 'Dzerzhinsk': 0.14793244030285382,\n",
       " 'Davlekanovo': 0.15384615384615385,\n",
       " 'Mersin': 0.27631578947368424,\n",
       " 'Mezhdurechensk': 0.07863501483679525,\n",
       " 'Zaval’noye': 5.202713045142484e-06,\n",
       " 'Mariinsk': 0.0528169014084507,\n",
       " 'Berdiansk': 0.14634146341463414,\n",
       " 'Gusev': 0.2331288343558282,\n",
       " 'Chadan': 0.10144927536231885,\n",
       " 'Kobryn': 0.15333333333333332,\n",
       " 'Yumaguzino': 0.06451612903226274,\n",
       " 'Nevinnomyssk': 0.10432569974554708,\n",
       " 'Logovskoye': 0.0833338555742736,\n",
       " 'Ankara': 0.16503496503496504,\n",
       " 'Korolëv': 0.0837920489296636,\n",
       " 'Nicosia': 0.1278409090909091,\n",
       " 'Khimki': 0.09897025171624714,\n",
       " 'Tampere': 0.10020876826722339,\n",
       " 'Lyubertsy': 0.1143717080511663,\n",
       " 'Yablochnyy': 0.2352941040650175,\n",
       " 'Arsk': 0.10497237569060773,\n",
       " 'Khust': 0.09615384615384616,\n",
       " 'Otradnyy': 0.14133333333333334,\n",
       " 'Sasykoli': 0.08163265306122448,\n",
       " 'Kurchaloy': 0.0213903743315508,\n",
       " 'Mineral’nyye Vody': 0.048824593128390596,\n",
       " 'Solnechnogorsk': 0.1282051282051282,\n",
       " 'Orsk': 0.06704260651629072,\n",
       " 'Chaykovskiy': 0.04658901830282862,\n",
       " 'Kizilyurt': 0.1377952755905512,\n",
       " 'Yeysk': 0.0498220640569395,\n",
       " 'Velyka Mykhailivka': 0.19846402413916814,\n",
       " 'Berehove': 0.22580645161290322,\n",
       " 'Kyiv': 0.1518313458262351,\n",
       " 'Argayash': 0.13333333333332859,\n",
       " 'Kamennogorsk': 0.12121212121212122,\n",
       " 'Ukhta': 0.0904836193447738,\n",
       " 'Sumy': 0.19077568134171907,\n",
       " 'Syzran': 0.07699037620297462,\n",
       " 'Almetyevsk': 0.06560449859418932,\n",
       " 'Ulan-Ude': 0.09743589743589744,\n",
       " 'Kostroma': 0.05690661478599222,\n",
       " 'Salekhard': 0.05604719764011799,\n",
       " 'Dedovsk': 0.12,\n",
       " 'Yaroslavl': 0.05476246197051252,\n",
       " 'Mayskiy': 0.12631578947368421,\n",
       " 'Ussuriysk': 0.07956318252730109,\n",
       " 'Liubotyn': 0.14285707899267613,\n",
       " 'Mingəçevir': 0.06779661016949153,\n",
       " 'Kamyshin': 0.0798004987531172,\n",
       " 'Vyazma': 0.10479041916167664,\n",
       " 'Ishimbay': 0.09322033898305085,\n",
       " 'Velizh': 0.11594202898550725,\n",
       " 'Hlukhiv': 0.17391304347826086,\n",
       " 'Teuchezhkhabl’': 0.14285714279890588,\n",
       " 'Kurgan': 0.048504079782411606,\n",
       " 'Zhukovskiy': 0.12703962703962704,\n",
       " 'Magas': 0.0821917808219178,\n",
       " 'Magnitogorsk': 0.05218012866333095,\n",
       " 'Kropotkin': 0.051181102362204724,\n",
       " 'Riga': 0.1628498727735369,\n",
       " 'Gatchina': 0.09299191374663072,\n",
       " 'Ayagöz': 0.08771929824561403,\n",
       " 'Polevskoy': 0.05714285714285714,\n",
       " 'Chekhov': 0.09888059701492537,\n",
       " 'Tolyatti': 0.13575152041702868,\n",
       " 'Lesnoy': 0.15853658536585366,\n",
       " 'Korsakov': 0.08695652173913043,\n",
       " 'Krasnogorsk': 0.12724434035909446,\n",
       " 'Horad Barysaw': 0.21875,\n",
       " 'Kamensk-Ural’skiy': 0.0907563025210084,\n",
       " 'Georgiyevsk': 0.13441955193482688,\n",
       " 'Kuvandyk': 0.22302158273381295,\n",
       " 'Otrado-Kubanskoye': 0.31249993946273963,\n",
       " 'Katyr-Yurt': 0.0763888888888889,\n",
       " 'Oy': 0.04166666667415126,\n",
       " 'Gryazi': 0.13231552162849872,\n",
       " 'Derbent': 0.12740384615384615,\n",
       " 'Soldato-Aleksandrovskoye': 0.10091743119266056,\n",
       " 'Armizonskoye': 0.05882352941176496,\n",
       " 'Nur-Sultan': 0.11576227390180878,\n",
       " 'Arkaulovo': 0.14285707899267613,\n",
       " 'Khlevnoye': 0.043478260889405124,\n",
       " 'Monchegorsk': 0.03260869565217391,\n",
       " 'Shatura': 0.08759124087591241,\n",
       " 'Shaami-Yurt': 0.13157894736842105,\n",
       " 'Kharkiv': 0.12825552825552824,\n",
       " 'Strezhevoy': 0.04678362573099415,\n",
       " 'Telemba': 0.10000180187961684,\n",
       " 'Kolomna': 0.12435765673175746,\n",
       " 'Diyarbakır': 0.30493273542600896,\n",
       " 'Öskemen': 0.12035010940919037,\n",
       " 'Drohobych': 0.1256544502617801,\n",
       " 'Aldan': 0.06936416184971098,\n",
       " 'Surgut': 0.11097992916174734,\n",
       " 'Novocheboksarsk': 0.1386946386946387,\n",
       " 'Kopeysk': 0.12028869286287089,\n",
       " 'Norilsk': 0.13728432108027006,\n",
       " 'Kovrov': 0.0942622950819672,\n",
       " 'Porkhov': 0.0196078431372549,\n",
       " 'Arzgir': 0.14102564102564102,\n",
       " 'Krasnooktyabrskoye': 3.505718555535912e-08,\n",
       " 'Lebedyan': 0.18181818181818182,\n",
       " 'Zeya': 0.1542056074766355,\n",
       " 'Zakamensk': 0.07954545454545454,\n",
       " 'Kayseri': 0.17159763313609466,\n",
       " 'Istanbul': 0.15229885057471265,\n",
       " 'Bratsk': 0.10539367637941724,\n",
       " 'Gorokhovets': 0.1111111111111111,\n",
       " 'Nizhnekamsk': 0.12861356932153392,\n",
       " 'Korocha': 0.06666670652672517,\n",
       " 'Serpukhov': 0.08426966292134831,\n",
       " 'Akhtubinsk': 0.050445103857566766,\n",
       " 'Domodedovo': 0.08768267223382047,\n",
       " 'Malgobek': 0.0199203187250996,\n",
       " 'Uchkeken': 0.07453416149068323,\n",
       " 'Svetlyy': 0.11386138613861387,\n",
       " 'Verkh-Katunskoye': 3.8431991376189e-05,\n",
       " 'Smila': 0.17204301075268819,\n",
       " 'Glazov': 0.12364130434782608,\n",
       " 'Kolpino': 0.11768617021276596,\n",
       " 'Magadan': 0.1248,\n",
       " 'Vilyeyka': 0.2714285714285714,\n",
       " 'Ust’-Dzheguta': 0.038910505836575876,\n",
       " 'Kuvshinovo': 0.0875,\n",
       " 'Rzhev': 0.12837837837837837,\n",
       " 'Likhoslavl': 0.08620689655172414,\n",
       " 'Zernograd': 0.1065989847715736,\n",
       " 'Dyatkovo': 0.08045977011494253,\n",
       " 'Poltava': 0.17450980392156862,\n",
       " 'Lensk': 0.06896551724137931,\n",
       " 'Shostka': 0.13934426229508196,\n",
       " 'Krasnoznamensk': 0.14979757085020243,\n",
       " 'Tərtər': 0.16666666451124612,\n",
       " 'Teykovo': 0.13703703703703704,\n",
       " 'Russkiy Yurmash': 0.13333331775819,\n",
       " 'Burtunay': 0.1612903225806408,\n",
       " 'Zandak': 0.1111111111111111,\n",
       " 'Pechora': 0.14917127071823205,\n",
       " 'Slavgorod': 0.0321285140562249,\n",
       " 'Vidnoye': 0.05660377358490566,\n",
       " 'Sloviansk': 0.22905027932960895,\n",
       " 'Balashikha': 0.07167004732927654,\n",
       " 'Buinsk': 0.04487179487179487,\n",
       " 'Khmelnytskyi': 0.13846153846153847,\n",
       " 'Novomoskovsk': 0.06118546845124283,\n",
       " 'Dalakovo': 0.05660377358490566,\n",
       " 'Talas': 0.07407407407428113,\n",
       " 'Nelidovo': 0.0375,\n",
       " 'Suvorove': 0.3318694010330934,\n",
       " 'Reinach': 0.5702990129126182,\n",
       " 'Tommot': 0.03333333333335402,\n",
       " 'Nurlat': 0.12446351931330472,\n",
       " 'Kasumkent': 0.14893617021276595,\n",
       " 'Chernogorsk': 0.09792843691148775,\n",
       " 'Zheleznovodsk': 0.14942528735632185,\n",
       " 'Naxçıvan': 0.04032258064516129,\n",
       " 'Konotop': 0.19597989949748743,\n",
       " 'Pytalovo': 0.1388888888888889,\n",
       " 'Tartu': 0.08,\n",
       " 'Semënov': 0.11607142857142858,\n",
       " 'Pugachev': 0.07692307692307693,\n",
       " 'Stakhanov': 0.11403508771929824,\n",
       " 'Berëzovskiy': 0.10951008645533142,\n",
       " 'Hamina': 0.08823529411764706,\n",
       " 'Yur’yev-Pol’skiy': 0.10273972602739725,\n",
       " 'Islamey': 0.04838709677419355,\n",
       " 'Timashevsk': 0.056962025316455694,\n",
       " 'Klin': 0.12962962962962962,\n",
       " 'Bugulma': 0.04326123128119801,\n",
       " 'Semey': 0.14238952536824878,\n",
       " 'Vladikavkaz': 0.06925596630790828,\n",
       " 'Orël': 0.06176084099868594,\n",
       " 'Pavlovskiy Posad': 0.1425531914893617,\n",
       " 'Oktyabr’skoye': 0.17647058127296822,\n",
       " 'Opfikon': 0.1427872799797474,\n",
       " 'Oktyabr’skiy': 0.14270500532481364,\n",
       " 'Kherson': 0.1936056838365897,\n",
       " 'Surazh': 0.04081632653061224,\n",
       " 'Zarinsk': 0.06451612903225806,\n",
       " 'Zhovti Vody': 0.2054794520547945,\n",
       " 'Belokurikha': 0.16494845360824742,\n",
       " 'Savinka': 0.09091016654316311,\n",
       " 'Uzhhorod': 0.17142857142857143,\n",
       " 'Kingisepp': 0.043731778425655975,\n",
       " 'Voznesensk': 0.1780821917808219,\n",
       " 'Kuba': 0.04878048780487805,\n",
       " 'Mednogorsk': 0.12,\n",
       " 'Mtsensk': 0.11026615969581749,\n",
       " 'Alagir': 0.06578947368421052,\n",
       " 'Krymsk': 0.05319148936170213,\n",
       " 'Krasnouralsk': 0.04395604395604396,\n",
       " 'Oulu': 0.16,\n",
       " 'Nikolsk': 0.13580246913580246,\n",
       " 'Udelnaya': 0.07926829268292683,\n",
       " 'Chornomorsk': 0.10526315789473684,\n",
       " 'Izmail': 0.20175438596491227,\n",
       " 'Pinsk': 0.2154255319148936,\n",
       " 'Rayevskiy': 0.05,\n",
       " 'Solikamsk': 0.12872841444270017,\n",
       " 'Zheleznogorsk': 0.15223097112860892,\n",
       " 'Volzhskiy': 0.11587436332767402,\n",
       " 'Akhremawtsy': 0.3948667821467498,\n",
       " 'Yalutorovsk': 0.11320754716981132,\n",
       " 'Ozërsk': 0.118491921005386,\n",
       " 'Brest': 0.14811229428848016,\n",
       " 'Verkhniy Ufaley': 0.09844559585492228,\n",
       " 'Belogorsk': 0.11848341232227488,\n",
       " 'Kryvyi Rih': 0.2410810810810811,\n",
       " 'Achinsk': 0.04823529411764706,\n",
       " 'Korenovsk': 0.0821917808219178,\n",
       " 'Turinsk': 0.2037037037037037,\n",
       " 'Krasnokholmskiy': 0.05333333333333334,\n",
       " 'Kostin Log': 0.043478260889405124,\n",
       " 'Ternopil': 0.21639344262295082,\n",
       " 'Aleksandrovka': 0.10666666666666667,\n",
       " 'Chernyakhovsk': 0.046296296296296294,\n",
       " 'Yegoryevsk': 0.05486725663716814,\n",
       " 'Qyzylorda': 0.21035598705501618,\n",
       " 'Melenki': 0.06557377049180328,\n",
       " 'Novaya Usman’': 0.1013215859030837,\n",
       " 'Orekhovo-Zuyevo': 0.1289940828402367,\n",
       " 'Baranavichy': 0.2605633802816901,\n",
       " 'Stupino': 0.05787037037037037,\n",
       " 'Tallinn': 0.12313432835820895,\n",
       " 'Chegem Vtoroy': 0.102803738317757,\n",
       " 'Petropavlovsk-Kamchatskiy': 0.06986531986531987,\n",
       " 'Severomorsk': 0.07506702412868632,\n",
       " 'Mirnyy': 0.1359447004608295,\n",
       " 'Tayga': 0.10891089108910891,\n",
       " 'Voloske': 0.28529119095737104,\n",
       " 'Kommunar': 0.07377049180327869,\n",
       " 'Aqtaū': 0.1449814126394052,\n",
       " 'Taldom': 0.08333333333333333,\n",
       " 'Naro-Fominsk': 0.11653116531165311,\n",
       " 'Znamenskoye': 0.05263157894736842,\n",
       " 'Chistopol': 0.05919661733615222,\n",
       " 'Mazyr': 0.12109375,\n",
       " 'Karabanovo': 0.1368421052631579,\n",
       " 'Kushva': 0.1038961038961039,\n",
       " 'Kurovskoye': 0.05517241379310345,\n",
       " 'Kropyvnytskyi': 0.17313432835820897,\n",
       " 'Achkhoy-Martan': 0.07801418439716312,\n",
       " 'Novozybkov': 0.1037344398340249,\n",
       " 'Mikhaylovsk': 0.08595988538681948,\n",
       " 'Limassol': 0.06844106463878327,\n",
       " 'Dmitrov': 0.10517529215358931,\n",
       " 'Shatrovo': 0.16666666666665342,\n",
       " 'Bolkhov': 0.07253886010362694,\n",
       " 'Vinnytsia': 0.15870307167235495,\n",
       " 'Varkaus': 0.12121212121212113,\n",
       " 'Petropavl': 0.16262135922330098,\n",
       " 'Krasnoarmeysk': 0.05963302752293578,\n",
       " 'Kannus': 0.1999999289896548,\n",
       " 'Semiluki': 0.12562814070351758,\n",
       " 'Leninogorsk': 0.052941176470588235,\n",
       " 'Vyksa': 0.10429447852760736,\n",
       " 'Kimry': 0.0776255707762557,\n",
       " 'Cherepovets': 0.1045475855602438,\n",
       " 'Nazarovo': 0.128125,\n",
       " 'Barmino': 0.16631820952047421,\n",
       " 'Oral': 0.198,\n",
       " 'Krasavino': 0.0136986301369863,\n",
       " 'Volgodonsk': 0.050966608084358524,\n",
       " 'Kouvola': 0.10101010101010101,\n",
       " 'Kamensk-Shakhtinskiy': 0.04148148148148148,\n",
       " 'Pavlohrad': 0.1015625,\n",
       " 'Novodvinsk': 0.07169811320754717,\n",
       " 'Urus-Martan': 0.035634743875278395,\n",
       " 'Slutsk': 0.16216216216216217,\n",
       " 'Prokopyevsk': 0.05559673832468495,\n",
       " 'Shikhany': 0.05263157894736842,\n",
       " 'Rossosh': 0.058823529411764705,\n",
       " 'Lyudinovo': 0.11355311355311355,\n",
       " 'Khasavyurt': 0.13200379867046533,\n",
       " 'Parkano': 0.034482758620745055,\n",
       " 'Praskoveya': 0.0975609756097561,\n",
       " 'Zaporizhzhia': 0.10286225402504472,\n",
       " 'Blagovar': 0.20689655172407412,\n",
       " 'Bezliudivka': 0.00543512759763559,\n",
       " 'Lermontov': 0.14388489208633093,\n",
       " 'Ishim': 0.0684931506849315,\n",
       " 'Nikel': 0.05102040816326531,\n",
       " 'Budënnovsk': 0.07407407407407407,\n",
       " 'Kiselëvsk': 0.10243055555555555,\n",
       " 'Kambarka': 0.015625,\n",
       " 'Zhytomyr': 0.1223175965665236,\n",
       " 'Kamyshlov': 0.14423076923076922,\n",
       " 'Udomlya': 0.043209876543209874,\n",
       " 'Novopavlovsk': 0.07692307692307693,\n",
       " 'Cherkasy': 0.229064039408867,\n",
       " 'Kovel': 0.22429906542056074,\n",
       " 'Karabulak': 0.053691275167785234,\n",
       " 'Mukacheve': 0.14893617021276595,\n",
       " 'Zarechnyy': 0.15259259259259259,\n",
       " 'Kumertau': 0.13172043010752688,\n",
       " 'Chebarkul': 0.05102040816326531,\n",
       " 'Mesyagutovo': 0.15463917525773196,\n",
       " 'Kasimov': 0.14534883720930233,\n",
       " 'Votkinsk': 0.085383502170767,\n",
       " 'Aqtöbe': 0.1754601226993865,\n",
       " 'Stanytsia Luhanska': 4.744475404283414e-09,\n",
       " 'Bolhrad': 0.2592592592585202,\n",
       " 'Kolchugino': 0.05952380952380952,\n",
       " 'Saranpaul': 0.05555555800006565,\n",
       " 'Nikolayevsk-na-Amure': 0.07586206896551724,\n",
       " 'Yoshkar-Ola': 0.09652509652509653,\n",
       " 'Polyarnyy': 0.05714285714285714,\n",
       " 'Hrodna': 0.17567567567567569,\n",
       " 'Avtury': 0.15625,\n",
       " 'Svitlohirske': 0.27272009420339904,\n",
       " 'Sukhoy Log': 0.08421052631578947,\n",
       " 'Söke': 0.11111111111112894,\n",
       " 'Eminkhyur': 0.1111111112556559,\n",
       " 'Tsibanobalka': 0.0196078431372549,\n",
       " 'Lutsk': 0.14241486068111456,\n",
       " 'Arkhangelsk': 0.15283018867924528,\n",
       " 'Tayshet': 0.08627450980392157,\n",
       " 'Montreux': 1.4141337215463012e-05,\n",
       " 'Khrustalnyi': 0.19718309859154928,\n",
       " 'Akhty': 0.16666666666666666,\n",
       " 'Barvynkove': 0.22222221776683637,\n",
       " 'Lakha Nëvre': 0.1111111111111111,\n",
       " 'Pyt’-Yakh': 0.06296296296296296,\n",
       " 'Obninsk': 0.10445859872611465,\n",
       " 'Temirtaū': 0.1162079510703364,\n",
       " 'Qaraghandy': 0.16628440366972477,\n",
       " 'Mirnoye': 0.18181513037328106,\n",
       " 'Sterlitamak': 0.0919080919080919,\n",
       " 'Novocherkassk': 0.07986960065199673,\n",
       " 'Noyabrsk': 0.043137254901960784,\n",
       " 'Uchaly': 0.12129380053908356,\n",
       " 'Tara': 0.09523809523809523,\n",
       " 'Bataysk': 0.08184679958027283,\n",
       " 'Qapshaghay': 0.20588235294117646,\n",
       " 'Karachayevsk': 0.13793103448275862,\n",
       " 'Elektrogorsk': 0.0880503144654088,\n",
       " 'Nevel': 0.03896103896103896,\n",
       " 'Staryy Kurdym': 0.15384615384560882,\n",
       " 'Kudeyevskiy': 0.052631579891185554,\n",
       " 'Usman': 0.08928571428571429,\n",
       " 'Kirovo-Chepetsk': 0.1119751166407465,\n",
       " 'Dyshne-Vedeno': 0.09375000000000072,\n",
       " 'Kanash': 0.0881057268722467,\n",
       " 'Ketovo': 0.20930232558139536,\n",
       " 'Trëkhgornyy': 0.04844290657439446,\n",
       " 'Uryupinsk': 0.07555555555555556,\n",
       " 'Novokuybyshevsk': 0.09541511771995044,\n",
       " 'Gəncə': 0.056572379367720464,\n",
       " 'Unecha': 0.17088607594936708,\n",
       " 'Nadvirna': 1.289682032471626e-08,\n",
       " 'Tulun': 0.029411764705882353,\n",
       " 'Bərdə': 0.1,\n",
       " 'Mozhga': 0.1425661914460285,\n",
       " 'Grayvoron': 0.09836065573770492,\n",
       " 'Cheremkhovo': 0.08430232558139535,\n",
       " 'Mamonovo': 0.0684931506849315,\n",
       " 'Lesnoy Gorodok': 0.10714285714285714,\n",
       " 'Nazyvayevsk': 0.044444444444444446,\n",
       " 'Shabelkivka': 0.3318694010330934,\n",
       " 'Kokhma': 0.09811320754716982,\n",
       " 'Murom': 0.12678571428571428,\n",
       " 'Aginskoye': 0.0625,\n",
       " 'Chusovoy': 0.056856187290969896,\n",
       " 'Toretsk': 0.22857142857142856,\n",
       " 'Arkhangelskoye': 0.12162162162162163,\n",
       " 'Karabash': 0.13636363636363635,\n",
       " 'İzmir': 0.1957894736842105,\n",
       " 'Bol’shaya Kudara': 0.07692307692307693,\n",
       " 'Kharabali': 0.04195804195804196,\n",
       " 'Dimitrovgrad': 0.05658198614318707,\n",
       " 'Balabanovo': 0.15637860082304528,\n",
       " 'Qostanay': 0.17049180327868851,\n",
       " 'Baykalovo': 0.136986301369863,\n",
       " 'Idrinskoye': 0.16666579712245294,\n",
       " 'Chegdomyn': 0.05172413793103448,\n",
       " 'Oktyabrskiy': 0.056782334384858045,\n",
       " 'Kazinka': 0.07692330843254513,\n",
       " 'Mariehamn': 0.14285714285708975,\n",
       " 'Dzhida': 0.15384615384560882,\n",
       " 'Birsk': 0.08157099697885196,\n",
       " 'Geldagana': 0.02654867256637168,\n",
       " 'Khanty-Mansiysk': 0.10512129380053908,\n",
       " 'Porvoo': 0.12162162162162163,\n",
       " 'Soloneshnoye': 0.08333333333333336,\n",
       " 'Sosnovyy Bor': 0.05754276827371695,\n",
       " 'Nikopol': 0.1693121693121693,\n",
       " 'Katav-Ivanovsk': 0.07608695652173914,\n",
       " 'Medyn': 0.022222222222222223,\n",
       " 'Kochubeyevskoye': 0.06140350877192982,\n",
       " 'Novouzensk': 0.06593406593406594,\n",
       " 'Fokino': 0.10843373493975904,\n",
       " 'Desnogorsk': 0.10194174757281553,\n",
       " 'Parma': 0.17133956386292834,\n",
       " 'Nefteyugansk': 0.053268765133171914,\n",
       " 'Navoloki': 0.1,\n",
       " 'Arkadak': 0.14736842105263157,\n",
       " 'Myski': 0.07063197026022305,\n",
       " 'Tarbagatay': 4.326403116448682e-12,\n",
       " 'Chynadiyovo': 0.12499999681940718,\n",
       " 'Volzhsk': 0.0741687979539642,\n",
       " 'Kirovsk': 0.13649851632047477,\n",
       " 'Dubna': 0.12982456140350876,\n",
       " 'Bor': 0.15019011406844107,\n",
       " 'Verkhniy Mamon': 0.016129032258064516,\n",
       " 'Qaraçuxur': 0.11304347826086956,\n",
       " 'Krasnozavodsk': 0.1111111111111111,\n",
       " 'Chita': 0.1416159860990443,\n",
       " 'Tikhvin': 0.1038961038961039,\n",
       " 'Svobodnyy': 0.14507772020725387,\n",
       " 'Tuapse': 0.06772009029345373,\n",
       " 'Proletarsk': 0.07476635514018691,\n",
       " 'Khvalynsk': 0.10526315789473684,\n",
       " 'Lahti': 0.16831683168316833,\n",
       " 'Mariupol': 0.1984732824427481,\n",
       " 'Kratovo': 0.19117647058823528,\n",
       " 'Bandırma': 0.15789473618276664,\n",
       " 'Svyetlahorsk': 0.19130434782608696,\n",
       " 'Vantaa': 0.20947630922693267,\n",
       " 'Rezh': 0.08461538461538462,\n",
       " 'Temryuk': 0.14285714285714285,\n",
       " 'Vitsyebsk': 0.23775510204081632,\n",
       " 'Espoo': 0.09347826086956522,\n",
       " 'Dubivskyi': 0.0833338555742736,\n",
       " 'Selikhino': 0.1052631580369761,\n",
       " 'Slantsy': 0.09259259259259259,\n",
       " 'Reutov': 0.059334298118668596,\n",
       " 'Shchëkino': 0.10865874363327674,\n",
       " 'Yugorsk': 0.10483870967741936,\n",
       " 'Koviahy': 0.00543512759763559,\n",
       " 'Kudymkar': 0.13043478260869565,\n",
       " 'Kadirli': 3.505718555535912e-08,\n",
       " 'Srostki': 0.214285488969512,\n",
       " 'Pokhvistnevo': 0.04081632653061224,\n",
       " 'Yany Kapu': 0.22388059701492538,\n",
       " 'Kirkkonummi': 0.1388888888888889,\n",
       " 'Buturlinovka': 0.07627118644067797,\n",
       " 'Otradnoye': 0.13973799126637554,\n",
       " 'Tsotsin-Yurt': 0.17177914110429449,\n",
       " 'Chekmagush': 0.0963855421686747,\n",
       " 'Kizlyar': 0.04497354497354497,\n",
       " 'Kuybyshev': 0.16877637130801687,\n",
       " 'Uzlovaya': 0.08991825613079019,\n",
       " 'Sayanogorsk': 0.1432225063938619,\n",
       " 'Larsmo': 0.0007670180078549953,\n",
       " 'Sarov': 0.07323943661971831,\n",
       " 'Umba': 0.08771929824561403,\n",
       " 'Apsheronsk': 0.1618705035971223,\n",
       " 'Larnaca': 0.17857142857130834,\n",
       " 'Pavlovo': 0.03855421686746988,\n",
       " 'Tatarsk': 0.08383233532934131,\n",
       " 'Izobil’nyy': 0.07167235494880546,\n",
       " 'Senkevychivka': 0.24357865930324393,\n",
       " 'Gornozavodsk': 0.07954545454545454,\n",
       " 'Avdiivka': 0.11538461538461539,\n",
       " 'Cherepanovo': 0.0658682634730539,\n",
       " 'Alikovo': 0.1739130434617164,\n",
       " 'Michurinsk': 0.08006042296072508,\n",
       " 'Lytkarino': 0.14814814814814814,\n",
       " 'Koziatyn': 0.2571428571428569,\n",
       " 'Polohy': 0.08333333333654215,\n",
       " 'İnegöl': 0.2,\n",
       " 'Bol’sheust’ikinskoye': 0.10377358490566038,\n",
       " 'Losino-Petrovskiy': 0.05042016806722689,\n",
       " 'Kauniainen': 0.07407407407428113,\n",
       " 'Ruzayevka': 0.07796610169491526,\n",
       " 'Shingak-Kul’': 0.05882353568886962,\n",
       " 'Verkhnyaya Pyshma': 0.1006036217303823,\n",
       " 'Ostrogozhsk': 0.13983050847457626,\n",
       " 'Sotnikovskoye': 0.0975609756097561,\n",
       " 'Pervouralsk': 0.1559536354056902,\n",
       " 'Valozhyn': 0.1499999998016755,\n",
       " 'Kondopoga': 0.1762114537444934,\n",
       " 'Tikhoretsk': 0.08027522935779817,\n",
       " 'Buzuluk': 0.08268330733229329,\n",
       " 'Korablino': 0.034482758620689655,\n",
       " 'Alleroy': 0.03225806451612903,\n",
       " 'Neftegorsk': 0.1258741258741259,\n",
       " 'Neryungri': 0.13819095477386933,\n",
       " 'Onguday': 0.15384615384615385,\n",
       " 'Krasnyy Sulin': 0.09230769230769231,\n",
       " 'Aral': 0.19444444444444445,\n",
       " 'Kosyno': 0.0007670180078549953,\n",
       " 'Vyborg': 0.09057971014492754,\n",
       " 'Tsiolkovskiy': 0.07272727272727272,\n",
       " 'Yefremov': 0.15517241379310345,\n",
       " 'Gudermes': 0.09649122807017543,\n",
       " 'Gagarin': 0.0635593220338983,\n",
       " 'Kungurtug': 0.05000000036195513,\n",
       " 'Sion': 0.1427872799797474,\n",
       " 'Nokia': 0.26315789247434773,\n",
       " 'Verkhnyaya Tishanka': 0.027777777777777835,\n",
       " 'Nadezhda': 0.11940298507462686,\n",
       " 'Kem': 0.02702702702702703,\n",
       " 'Alekseyevka': 0.17804154302670624,\n",
       " 'Sylva': 0.04827586206896552,\n",
       " 'Makushino': 0.17777777777777778,\n",
       " 'Shuya': 0.1206896551724138,\n",
       " 'Bezopasnoye': 0.11320754716981132,\n",
       " 'Frolovo': 0.10397553516819572,\n",
       " 'Zolotonosha': 0.18181818181818182,\n",
       " 'Khadyzhensk': 0.1774193548387097,\n",
       " 'Staraya Kupavna': 0.09146341463414634,\n",
       " 'Volgorechensk': 0.07633587786259542,\n",
       " 'Dobryanka': 0.037209302325581395,\n",
       " 'Ashaga-Yarak': 0.08695652174684221,\n",
       " 'Vereshchagino': 0.1532258064516129,\n",
       " 'Valuyki': 0.11382113821138211,\n",
       " 'Prokhladnyy': 0.1130820399113082,\n",
       " 'Chernivtsi': 0.162,\n",
       " 'Supsekh': 0.028571428571428723,\n",
       " 'Satka': 0.05343511450381679,\n",
       " 'Okha': 0.12337662337662338,\n",
       " 'Lyskovo': 0.039301310043668124,\n",
       " 'Poretskoye': 0.09090909090909122,\n",
       " 'Serdobsk': 0.11363636363636363,\n",
       " 'Pionerskiy': 0.16363636363636364,\n",
       " 'Nikolskoye': 0.10778443113772455,\n",
       " 'Pori': 0.10091743119266056,\n",
       " 'Kenger-Meneuz': 0.0007670180078549953,\n",
       " 'Boyarka': 0.13249211356466878,\n",
       " 'Kabardinka': 0.031914893617021274,\n",
       " 'Goryachiy Klyuch': 0.14479638009049775,\n",
       " 'Bogotol': 0.14906832298136646,\n",
       " 'Okhansk': 0.0196078431372549,\n",
       " 'Khorol': 0.03076923076923077,\n",
       " 'Bobrov': 0.0718954248366013,\n",
       " 'Imatra': 0.07142857142865258,\n",
       " 'Dyurtyuli': 0.17338709677419356,\n",
       " 'Dmitrovsk-Orlovskiy': 0.06,\n",
       " 'Pastavy': 0.225,\n",
       " 'Staryi Mizun': 0.0007670180078549953,\n",
       " 'Krasnyy Kut': 0.04424778761061947,\n",
       " 'Shali': 0.1339031339031339,\n",
       " 'Sredneuralsk': 0.04225352112676056,\n",
       " 'Donskoy': 0.06679764243614932,\n",
       " 'Shymkent': 0.19649334945586458,\n",
       " 'Primorsko-Akhtarsk': 0.15306122448979592,\n",
       " 'Iglino': 0.08490566037735849,\n",
       " 'Temyasovo': 0.15999999999828618,\n",
       " 'Gorodets': 0.09765625,\n",
       " 'Yandyki': 0.16666666451124612,\n",
       " 'Adana': 0.2403846153846154,\n",
       " 'Novonikolsk': 0.11111111111111112,\n",
       " 'Andrushky': 0.0007670180078549953,\n",
       " 'Shumerlya': 0.061946902654867256,\n",
       " 'Bichura': 0.07894736842105263,\n",
       " 'Sangar': 0.10256410256410256,\n",
       " 'Protvino': 0.047058823529411764,\n",
       " 'Krasnotur’insk': 0.13872832369942195,\n",
       " 'Joroinen': 0.09091016654316311,\n",
       " 'Bakal': 0.05263157894736842,\n",
       " 'Snezhnogorsk': 0.047058823529411764,\n",
       " 'Suntar': 0.11764705882352941,\n",
       " 'Boguchany': 0.05454545454545454,\n",
       " 'Khandyga': 0.12857142857142856,\n",
       " 'Tekeli': 0.1276595744680851,\n",
       " 'Khasanya': 0.08571428571428577,\n",
       " 'Salihorsk': 0.19004524886877827,\n",
       " 'Ob': 0.18009478672985782,\n",
       " 'Novoaleksandrovsk': 0.18067226890756302,\n",
       " 'Divnoye': 0.15306122448979592,\n",
       " 'Shchūchīnsk': 0.125,\n",
       " 'Bakhchysarai': 0.1590909090909091,\n",
       " 'Osinniki': 0.09055118110236221,\n",
       " 'Meleuz': 0.0694980694980695,\n",
       " 'Izberbash': 0.16853932584269662,\n",
       " 'Budy': 0.0020612661315864414,\n",
       " 'Aleksin': 0.05410821643286573,\n",
       " 'Hyvinkää': 0.11363636363636363,\n",
       " 'Kaltan': 0.1342281879194631,\n",
       " 'Fryazino': 0.14009661835748793,\n",
       " 'Zhetisay': 0.18666666666666668,\n",
       " 'Liperi': 0.09090909092705665,\n",
       " 'Voskresenka': 0.13157894736842105,\n",
       " 'Hubynykha': 0.18181818176721518,\n",
       " 'Babugent': 5.343845935725387e-16,\n",
       " 'Abatskoye': 0.14925373134328357,\n",
       " 'Mesker-Yurt': 0.13513513513513514,\n",
       " 'Bogorodsk': 0.14963503649635038,\n",
       " 'Gusinoozërsk': 0.11363636363636363,\n",
       " 'Sharypovo': 0.05263157894736842,\n",
       " 'Kotovsk': 0.08636363636363636,\n",
       " 'Novoaltaysk': 0.11181434599156118,\n",
       " 'Engure': 0.16631820952047421,\n",
       " 'Shelekhov': 0.024930747922437674,\n",
       " 'Mykhailivka': 0.32352941176470495,\n",
       " 'Kirsanov': 0.07874015748031496,\n",
       " 'Korop': 0.11111228197687993,\n",
       " 'Sumqayıt': 0.12286158631415241,\n",
       " 'Vilnohirsk': 0.25862068965517243,\n",
       " 'Ivangorod': 0.061855670103092786,\n",
       " 'Petushki': 0.10588235294117647,\n",
       " 'Tavda': 0.11784511784511785,\n",
       " 'Zhizdra': 0.05172413793103448,\n",
       " 'Türkistan': 0.16791979949874686,\n",
       " 'Novaya Balakhna': 0.11727078891257996,\n",
       " 'Kirovgrad': 0.1554054054054054,\n",
       " 'Tlumach': 0.3333331514525844,\n",
       " 'Gremyachinsk': 0.05405405405405406,\n",
       " 'Kamianets-Podilskyi': 0.1360544217687075,\n",
       " 'Megion': 0.05964912280701754,\n",
       " 'Cherkessk': 0.09256844850065189,\n",
       " 'Borovichi': 0.057971014492753624,\n",
       " 'Luninyets': 0.34375,\n",
       " 'Slobodskoy': 0.14691943127962084,\n",
       " 'Lukoyanov': 0.0875,\n",
       " 'Nova Kakhovka': 0.21641791044776118,\n",
       " 'Shumikha': 0.1794871794871795,\n",
       " 'Niny': 7.0413828376163e-07,\n",
       " 'Horlivka': 0.10412147505422993,\n",
       " 'Mullovka': 0.19230769230769232,\n",
       " 'Tornio': 0.16216216216216217,\n",
       " 'Tosno': 0.09310344827586207,\n",
       " 'Snizhne': 0.1,\n",
       " 'Topki': 0.1111111111111111,\n",
       " 'Meskety': 0.040000000002816345,\n",
       " 'Trubchevsk': 0.045454545454545456,\n",
       " 'Staraya Vichuga': 0.06250001593829636,\n",
       " 'Nizhniy Kurkuzhin': 0.09523809523809523,\n",
       " 'Kurganinsk': 0.16129032258064516,\n",
       " 'Yasnyy': 0.08547008547008547,\n",
       " 'Valday': 0.03669724770642202,\n",
       " 'Osa': 0.10052910052910052,\n",
       " 'Kineshma': 0.11890243902439024,\n",
       " 'Iogach': 0.0,\n",
       " 'Zvenigovo': 0.1111111111111111,\n",
       " 'Seversk': 0.09934640522875816,\n",
       " 'Yedrovo': 0.30725998883405964,\n",
       " 'Synelnykove': 0.11111111111111112,\n",
       " 'Shchigry': 0.07446808510638298,\n",
       " 'Labytnangi': 0.0658682634730539,\n",
       " 'Beloozërskiy': 0.09090909090909091,\n",
       " 'Neftekumsk': 0.06896551724137931,\n",
       " 'Khunzakh': 0.07142857142865258,\n",
       " 'Malokaterynivka': 0.8944580408193146,\n",
       " 'Torzhok': 0.06233062330623306,\n",
       " 'Argun': 0.11382113821138211,\n",
       " 'Ekazhevo': 0.06766917293233082,\n",
       " 'Buzdyak': 0.07692307692307693,\n",
       " 'Sebezh': 0.05454545454545454,\n",
       " 'Nahiryanka': 0.00028336900212381903,\n",
       " 'Lyuban’': 0.24489795918367346,\n",
       " 'Serov': 0.05045871559633028,\n",
       " 'Sol’-Iletsk': 0.12751677852348994,\n",
       " 'Dovolnoye': 0.08333333333333333,\n",
       " 'Byalynichy': 0.32142857142818265,\n",
       " 'Duvan': 0.10909090909090909,\n",
       " 'Lice': 0.39996478350682096,\n",
       " 'Pokrovsk': 0.1696969696969697,\n",
       " 'Komsomol’skoye': 0.1506849315068493,\n",
       " 'Novosokolniki': 0.07462686567164178,\n",
       " 'Bila Tserkva': 0.27759197324414714,\n",
       " 'Asbest': 0.14950980392156862,\n",
       " 'Andriivka': 0.1999999289896548,\n",
       " 'Konakovo': 0.10638297872340426,\n",
       " 'Kovdor': 0.11304347826086956,\n",
       " 'Novovyatsk': 0.0950920245398773,\n",
       " 'Pervomaisk': 0.15873015873015872,\n",
       " 'Dalmatovo': 0.07317073170731707,\n",
       " 'Sablinskoye': 0.1499999998016755,\n",
       " 'Shalushka': 0.19387755102040816,\n",
       " 'Dolgoprudnyy': 0.16416040100250626,\n",
       " 'Likino-Dulevo': 0.0784313725490196,\n",
       " 'Gvazda': 0.26666654022111963,\n",
       " 'Myrhorod': 0.03529411764705882,\n",
       " 'Zaslawye': 0.16666666666666666,\n",
       " 'Staryy Beyneu': 0.16666666666666666,\n",
       " 'Shiyeli': 0.14473684210526316,\n",
       " 'Shū': 0.15714285714285714,\n",
       " 'Mamadysh': 0.1590909090909091,\n",
       " 'Makarov': 0.02127659574468085,\n",
       " 'Krivodanovka': 0.16,\n",
       " 'Abinsk': 0.14705882352941177,\n",
       " 'Sorsk': 0.125,\n",
       " 'Dzyarzhynsk': 0.15789473684210525,\n",
       " 'Liski': 0.061068702290076333,\n",
       " 'Uvarovo': 0.05217391304347826,\n",
       " 'Nyuksenitsa': 0.02564102564102564,\n",
       " 'Pomarkku': 0.0007670180078549953,\n",
       " 'Sovetskaya Gavan’': 0.14545454545454545,\n",
       " 'Tutayev': 0.060897435897435896,\n",
       " 'Tuusula': 0.24999999999999992,\n",
       " 'Barabash': 0.08695652173913043,\n",
       " 'Palatka': 0.13333333333333333,\n",
       " 'Nizhnetroitskiy': 0.09523809523809523,\n",
       " 'Pervomaysk': 0.13333333333333333,\n",
       " 'Mar’’ina Horka': 0.234375,\n",
       " 'Ivanovka': 0.14516129032258066,\n",
       " 'Zelenodolsk': 0.28571428571396407,\n",
       " 'Tuymazy': 0.1073558648111332,\n",
       " 'Atkarsk': 0.14124293785310735,\n",
       " 'Starodub': 0.075,\n",
       " 'Venëv': 0.07964601769911504,\n",
       " 'Myurego': 0.15217391304347827,\n",
       " 'Polatsk': 0.1572052401746725,\n",
       " 'Dankov': 0.13157894736842105,\n",
       " 'Krupki': 0.1694915254237288,\n",
       " 'Vyazemskiy': 0.08333333333333333,\n",
       " 'Kargat': 0.08181818181818182,\n",
       " 'Benoy': 0.1,\n",
       " 'Nizhnyaya Salda': 0.12781954887218044,\n",
       " 'Sibay': 0.14251207729468598,\n",
       " 'Ust’-Katav': 0.1111111111111111,\n",
       " 'Belinskiy': 0.05263157894736842,\n",
       " 'Bernex': 0.11111228197687993,\n",
       " 'Bilohorodka': 0.06896551724141087,\n",
       " 'Altud': 0.1499999998016755,\n",
       " 'Kotovo': 0.05128205128205128,\n",
       " 'Mikhaylovskoye': 0.15789473684210525,\n",
       " 'Gornyak': 0.15178571428571427,\n",
       " 'Staryy Cherek': 0.09375000000000072,\n",
       " 'Yelnya': 0.049019607843137254,\n",
       " 'Maladzyechna': 0.25,\n",
       " 'Zelenogorsk': 0.11684782608695653,\n",
       " 'Khartsyzk': 0.16666666666666666,\n",
       " 'Zabolotiv': 0.16666579712245294,\n",
       " 'Myronivka': 0.12499999681940718,\n",
       " 'Krasnoilsk': 0.44433383193339115,\n",
       " 'Zdvinsk': 0.06451612903226274,\n",
       " ...}"
      ]
     },
     "execution_count": 32,
     "metadata": {},
     "output_type": "execute_result"
    }
   ],
   "source": [
    "mte_city_enc = ds_train._encoder_mte.mapping['city'].reset_index().rename(columns={0: 'target_encoding'})\n",
    "mte_city_cat = ds_train._encoder_mte.ordinal_encoder.mapping[1]['mapping'].reset_index().rename(columns={'index': 'city_name', 0: 'city'})\n",
    "mte_city = pd.merge(mte_city_cat, mte_city_enc, on='city')[['city_name', 'target_encoding']]\n",
    "mte_city_dict = {k: v for k, v in mte_city.values}\n",
    "mte_city_dict"
   ]
  },
  {
   "cell_type": "code",
   "execution_count": null,
   "metadata": {
    "id": "m1AMegYLg3lo"
   },
   "outputs": [],
   "source": [
    "mte_city.to_sql(    \n",
    "   \"yaa_mte_city\",                    \n",
    "    con=\"postgresql://robot-startml-ro:pheiph0hahj1Vaif@\"\n",
    "        \"postgres.lab.karpov.courses:6432/startml\",                      \n",
    "    schema=\"public\",                   \n",
    "    if_exists='replace'            \n",
    "   ) "
   ]
  },
  {
   "cell_type": "code",
   "execution_count": 24,
   "metadata": {
    "colab": {
     "base_uri": "https://localhost:8080/",
     "height": 423
    },
    "id": "dRENaxouhImP",
    "outputId": "2f10f360-3f8b-463b-ded4-e27fb2d56ac0"
   },
   "outputs": [],
   "source": [
    "# mte_city_df = pd.read_sql(\n",
    "#     \"\"\"SELECT * FROM public.yaa_mte_city\"\"\",\n",
    "    \n",
    "#     con=\"postgresql://robot-startml-ro:pheiph0hahj1Vaif@\"\n",
    "#         \"postgres.lab.karpov.courses:6432/startml\"\n",
    "# )"
   ]
  },
  {
   "cell_type": "code",
   "execution_count": null,
   "metadata": {
    "colab": {
     "base_uri": "https://localhost:8080/"
    },
    "id": "-EoWCZIR_ZPL",
    "outputId": "3f4c70db-bc12-426e-c2ed-b5bb7b20c0a0"
   },
   "outputs": [
    {
     "data": {
      "text/plain": [
       "{14: 0.10301614273576891,\n",
       " 7: 0.11252939837645096,\n",
       " 15: 0.10205006899270648,\n",
       " 19: 0.12902374172622527,\n",
       " 6: 0.1319546568627451,\n",
       " 10: 0.10629228946060629,\n",
       " 13: 0.10516573803003117,\n",
       " 20: 0.14066699473823674,\n",
       " 21: 0.14237058502530908,\n",
       " 11: 0.10579090110393827,\n",
       " 16: 0.10142239895996635,\n",
       " 17: 0.10406214284330628,\n",
       " 22: 0.1434022625219218,\n",
       " 18: 0.1042717099960638,\n",
       " 8: 0.11236259482892089,\n",
       " 9: 0.10872183372183372,\n",
       " 23: 0.10738048930289693,\n",
       " 12: 0.10336711839957484,\n",
       " 0: 0.11460258364218187}"
      ]
     },
     "execution_count": 211,
     "metadata": {},
     "output_type": "execute_result"
    }
   ],
   "source": [
    "mte_hour_enc = ds_train._encoder_mte.mapping['hour'].reset_index().rename(columns={0: 'target_encoding'})\n",
    "mte_hour_cat = ds_train._encoder_mte.ordinal_encoder.mapping[2]['mapping'].reset_index().rename(columns={'index': 'hour_name', 0: 'hour'})\n",
    "mte_hour = pd.merge(mte_hour_cat, mte_hour_enc, on='hour')[['hour_name', 'target_encoding']]\n",
    "mte_hour_dict = {int(k): v for k, v in mte_hour[mte_hour['hour_name']>=0].values}\n",
    "mte_hour_dict"
   ]
  },
  {
   "cell_type": "code",
   "execution_count": null,
   "metadata": {
    "id": "DVQLZ_WCbLuQ"
   },
   "outputs": [],
   "source": [
    "import json \n",
    "\n",
    "with open(\"mte_country_dict.json\", \"w\") as outfile:\n",
    "    json.dump(mte_country_dict, outfile)\n",
    "\n",
    "with open(\"mte_city_dict.json\", \"w\") as outfile:\n",
    "    json.dump(mte_city_dict, outfile)\n",
    "\n",
    "with open(\"mte_hour_dict.json\", \"w\") as outfile:\n",
    "    json.dump(mte_hour_dict, outfile)"
   ]
  },
  {
   "cell_type": "markdown",
   "metadata": {},
   "source": [
    "min & max значения для `total_tfidf`"
   ]
  },
  {
   "cell_type": "code",
   "execution_count": 45,
   "metadata": {},
   "outputs": [
    {
     "data": {
      "text/plain": [
       "(0.0, 19.007281084946)"
      ]
     },
     "execution_count": 45,
     "metadata": {},
     "output_type": "execute_result"
    }
   ],
   "source": [
    "df[(df['timestamp'] < '2021-12-10 00:00:00')]['total_tfidf'].min(), df[(df['timestamp'] < '2021-12-10 00:00:00')]['total_tfidf'].max()"
   ]
  },
  {
   "cell_type": "markdown",
   "metadata": {},
   "source": [
    "min & max значения для `age`"
   ]
  },
  {
   "cell_type": "code",
   "execution_count": 46,
   "metadata": {},
   "outputs": [
    {
     "data": {
      "text/plain": [
       "(14, 95)"
      ]
     },
     "execution_count": 46,
     "metadata": {},
     "output_type": "execute_result"
    }
   ],
   "source": [
    "df[(df['timestamp'] < '2021-12-10 00:00:00')]['age'].min(), df[(df['timestamp'] < '2021-12-10 00:00:00')]['age'].max()"
   ]
  },
  {
   "cell_type": "markdown",
   "metadata": {},
   "source": [
    "# Сеть и обучение"
   ]
  },
  {
   "cell_type": "code",
   "execution_count": 31,
   "metadata": {
    "id": "1j6d7NsCQCFz"
   },
   "outputs": [],
   "source": [
    "BATCH_SIZE = 128\n",
    "\n",
    "dl_train = DataLoader(ds_train, batch_size=BATCH_SIZE, shuffle=True)\n",
    "dl_val = DataLoader(ds_val, batch_size=BATCH_SIZE, shuffle=False)\n",
    "dl_test = DataLoader(ds_test, batch_size=BATCH_SIZE, shuffle=False)"
   ]
  },
  {
   "cell_type": "markdown",
   "metadata": {},
   "source": [
    "количество признаков:"
   ]
  },
  {
   "cell_type": "code",
   "execution_count": 31,
   "metadata": {
    "colab": {
     "base_uri": "https://localhost:8080/"
    },
    "id": "6uhQgajNUgOX",
    "outputId": "544b23d6-ffe7-4064-86e9-031cc4d74776"
   },
   "outputs": [
    {
     "data": {
      "text/plain": [
       "(38,)"
      ]
     },
     "execution_count": 31,
     "metadata": {},
     "output_type": "execute_result"
    }
   ],
   "source": [
    "ds_train[0][2].shape"
   ]
  },
  {
   "cell_type": "markdown",
   "metadata": {},
   "source": [
    "количество записей:"
   ]
  },
  {
   "cell_type": "code",
   "execution_count": 38,
   "metadata": {
    "colab": {
     "base_uri": "https://localhost:8080/"
    },
    "id": "h239FT3sMQm8",
    "outputId": "270ce51c-354a-4e6c-ea9f-63b3a41be90e",
    "scrolled": true
   },
   "outputs": [
    {
     "data": {
      "text/plain": [
       "(3412483, 488760, 488760)"
      ]
     },
     "execution_count": 38,
     "metadata": {},
     "output_type": "execute_result"
    }
   ],
   "source": [
    "len(ds_train), len(ds_val), len(ds_test)"
   ]
  },
  {
   "cell_type": "markdown",
   "metadata": {},
   "source": [
    "есть ли наны:"
   ]
  },
  {
   "cell_type": "code",
   "execution_count": 50,
   "metadata": {
    "colab": {
     "base_uri": "https://localhost:8080/"
    },
    "id": "6Syec67Q14Fg",
    "outputId": "623bc43b-9d5a-42c2-afe4-a730bb149926"
   },
   "outputs": [
    {
     "data": {
      "text/plain": [
       "(0, 0, 0)"
      ]
     },
     "execution_count": 50,
     "metadata": {},
     "output_type": "execute_result"
    }
   ],
   "source": [
    "ds_train.data.isna().sum().sum(), ds_val.data.isna().sum().sum(), ds_test.data.isna().sum().sum()"
   ]
  },
  {
   "cell_type": "code",
   "execution_count": null,
   "metadata": {
    "id": "P_qaH1j67zz4"
   },
   "outputs": [],
   "source": []
  },
  {
   "cell_type": "markdown",
   "metadata": {
    "id": "XCD6GbRZ3KZD"
   },
   "source": [
    "инициализация весов эмбеддингов:"
   ]
  },
  {
   "cell_type": "code",
   "execution_count": null,
   "metadata": {
    "id": "A1idCYCfEXBR"
   },
   "outputs": [],
   "source": [
    "def weights_init(module):\n",
    "    if isinstance(module, nn.Embedding):\n",
    "        in_feats = module.weight.shape[1]\n",
    "        out_feats = module.weight.shape[0]\n",
    "        n = np.mean([in_feats, out_feats])\n",
    "        limit = np.sqrt(3 / n)\n",
    "\n",
    "        module.weight.data.uniform_(-limit, limit)"
   ]
  },
  {
   "cell_type": "markdown",
   "metadata": {},
   "source": [
    "класс NN:\n",
    "- обучаемые эмбеддинги для  постов и пользователей размером 100\n",
    "- два линейных слоя с ReLU нелинейностью"
   ]
  },
  {
   "cell_type": "code",
   "execution_count": 33,
   "metadata": {
    "id": "C_9whMt8EXBR"
   },
   "outputs": [],
   "source": [
    "class NCCF(nn.Module):\n",
    "    def __init__(self, n_users, n_items, latent_size, feats_size):\n",
    "        super().__init__()\n",
    "        \n",
    "        self.latent_size = latent_size\n",
    "        self.feats_size = feats_size\n",
    "        self.n_users = n_users\n",
    "        self.n_items = n_items\n",
    "\n",
    "        self.embedding_user = nn.Embedding(self.n_users, latent_size)\n",
    "        self.embedding_item = nn.Embedding(self.n_items, latent_size)\n",
    "\n",
    "        self.lin1 = nn.Linear(latent_size*2 + feats_size, 64) # 238\n",
    "        self.lin2 = nn.Linear(64, 1)\n",
    "                                           \n",
    "        self.dropout = nn.Dropout(0.2)\n",
    "        self.relu = nn.ReLU()\n",
    "        \n",
    "\n",
    "    def forward(self, users, items, feats):\n",
    "        emb_users = self.embedding_user(users)\n",
    "        emb_items = self.embedding_item(items)\n",
    "        x = torch.cat([emb_users, emb_items, feats], dim=1) # 100+100+38\n",
    "\n",
    "        x = self.dropout(self.relu((self.lin1(x))))\n",
    "        x = self.lin2(x)\n",
    "\n",
    "        return x"
   ]
  },
  {
   "cell_type": "code",
   "execution_count": 26,
   "metadata": {
    "colab": {
     "base_uri": "https://localhost:8080/",
     "height": 36
    },
    "id": "a7EaEBvoK_zG",
    "outputId": "4b8f7e69-86e7-4cfa-83c2-a5d6070dfbc2"
   },
   "outputs": [
    {
     "data": {
      "text/plain": [
       "'cpu'"
      ]
     },
     "execution_count": 26,
     "metadata": {},
     "output_type": "execute_result"
    }
   ],
   "source": [
    "DEVICE = 'cuda' if torch.cuda.is_available() else 'cpu'\n",
    "DEVICE"
   ]
  },
  {
   "cell_type": "code",
   "execution_count": null,
   "metadata": {
    "id": "wUiIyFWjK_zH"
   },
   "outputs": [],
   "source": [
    "from tqdm import tqdm\n",
    "\n",
    "def train(model):\n",
    "    model.train()\n",
    "\n",
    "    train_loss = 0\n",
    "    total = 0\n",
    "\n",
    "\n",
    "    for users, items, feats, labels in tqdm(dl_train, desc='Train'):\n",
    "        users, items, feats, labels = users.to(DEVICE), items.to(DEVICE), \\\n",
    "                                      feats.to(DEVICE), \\\n",
    "                                      labels.type(torch.FloatTensor).to(DEVICE)\n",
    "        optimizer.zero_grad()\n",
    "\n",
    "        output = model(users, items, feats).type(torch.FloatTensor).to(DEVICE)\n",
    "\n",
    "        loss = loss_fn(output.squeeze(), labels)\n",
    "\n",
    "        train_loss += loss.item()\n",
    "\n",
    "        loss.backward()\n",
    "\n",
    "        optimizer.step()\n",
    "        \n",
    "\n",
    "    train_loss /= len(dl_train)\n",
    "\n",
    "    return train_loss"
   ]
  },
  {
   "cell_type": "code",
   "execution_count": null,
   "metadata": {
    "id": "5pn0CGf4K_zH"
   },
   "outputs": [],
   "source": [
    "@torch.inference_mode()\n",
    "def evaluate(model, loader):\n",
    "    model.eval()\n",
    "\n",
    "    total_loss = 0\n",
    "    total = 0\n",
    "\n",
    "    for users, items, feats, labels in tqdm(loader, desc='Evaluation'):\n",
    "        users, items, feats, labels = users.to(DEVICE), items.to(DEVICE), \\\n",
    "                                      feats.to(DEVICE), \\\n",
    "                                      labels.type(torch.FloatTensor).to(DEVICE)\n",
    "\n",
    "        output = model(users, items, feats).type(torch.FloatTensor).to(DEVICE)\n",
    "\n",
    "        loss = loss_fn(output.squeeze(), labels)\n",
    "\n",
    "        total_loss += loss.item()\n",
    "\n",
    "\n",
    "    total_loss /= len(dl_val)\n",
    "\n",
    "\n",
    "    return total_loss"
   ]
  },
  {
   "cell_type": "code",
   "execution_count": null,
   "metadata": {
    "id": "qHovDIXIK_zH"
   },
   "outputs": [],
   "source": [
    "def whole_train_valid_cycle(model, num_epochs):\n",
    "    train_loss_history, valid_loss_history = [], []\n",
    "\n",
    "    train_loss = evaluate(model, dl_train)\n",
    "    min_valid = evaluate(model, dl_val)\n",
    "\n",
    "    train_loss_history.append(train_loss)\n",
    "    valid_loss_history.append(min_valid)\n",
    "\n",
    "    for epoch in range(num_epochs):\n",
    "        train_loss = train(model)\n",
    "        valid_loss = evaluate(model, dl_val)\n",
    "\n",
    "        train_loss_history.append(train_loss)\n",
    "        valid_loss_history.append(valid_loss)\n",
    "\n",
    "\n",
    "        if valid_loss < min_valid:\n",
    "            loss = int(valid_loss*10**6)\n",
    "            min_valid = valid_loss\n",
    "            name = f'ncf_whole_02_{loss}'\n",
    "            torch.save(model.state_dict(),\n",
    "                       name)\n",
    "\n",
    "\n",
    "        # visualize\n",
    "        plt.figure(figsize=(10, 7))\n",
    "        plt.plot(train_loss_history, label='Train loss')\n",
    "        plt.plot(valid_loss_history, label='Valid loss')\n",
    "        plt.legend()\n",
    "        plt.grid()\n",
    "\n",
    "        plt.show();\n",
    "\n"
   ]
  },
  {
   "cell_type": "code",
   "execution_count": null,
   "metadata": {
    "id": "94ClojYYK_zH"
   },
   "outputs": [],
   "source": [
    "n_users = ds_train.n_users\n",
    "n_items = ds_train.n_posts\n",
    "latent_size = 100\n",
    "feats_size = ds_train[0][2].shape[0]\n",
    "\n",
    "ncf = NCCF(n_users, n_items, latent_size, feats_size)\n",
    "ncf.to(DEVICE)\n",
    "\n",
    "loss_fn = nn.MSELoss()\n",
    "optimizer = torch.optim.Adam(ncf.parameters(), lr=0.001)"
   ]
  },
  {
   "cell_type": "code",
   "execution_count": null,
   "metadata": {
    "id": "_uf-Wrca56Eb"
   },
   "outputs": [],
   "source": []
  },
  {
   "cell_type": "code",
   "execution_count": null,
   "metadata": {
    "id": "QDZkwTZvKAm1"
   },
   "outputs": [],
   "source": []
  },
  {
   "cell_type": "code",
   "execution_count": null,
   "metadata": {
    "id": "ql-THCCzKAkg"
   },
   "outputs": [],
   "source": []
  },
  {
   "cell_type": "code",
   "execution_count": null,
   "metadata": {
    "colab": {
     "base_uri": "https://localhost:8080/",
     "height": 1000
    },
    "id": "bU8uo0iRfgjJ",
    "outputId": "5b1981a2-1666-4bbd-d3ba-d8650782100e"
   },
   "outputs": [
    {
     "name": "stderr",
     "output_type": "stream",
     "text": [
      "Train: 100%|██████████| 6946/6946 [31:16<00:00,  3.70it/s]\n",
      "Evaluation: 100%|██████████| 987/987 [00:35<00:00, 27.82it/s]\n"
     ]
    },
    {
     "data": {
      "image/png": "[encoded data removed]",
      "text/plain": [
       "<Figure size 720x504 with 1 Axes>"
      ]
     },
     "metadata": {
      "needs_background": "light"
     },
     "output_type": "display_data"
    },
    {
     "name": "stderr",
     "output_type": "stream",
     "text": [
      "Train: 100%|██████████| 6946/6946 [33:18<00:00,  3.48it/s]\n",
      "Evaluation: 100%|██████████| 987/987 [00:35<00:00, 27.66it/s]\n"
     ]
    },
    {
     "data": {
      "image/png": "[encoded data removed]",
      "text/plain": [
       "<Figure size 720x504 with 1 Axes>"
      ]
     },
     "metadata": {
      "needs_background": "light"
     },
     "output_type": "display_data"
    },
    {
     "name": "stderr",
     "output_type": "stream",
     "text": [
      "Train: 100%|██████████| 6946/6946 [33:16<00:00,  3.48it/s]\n",
      "Evaluation: 100%|██████████| 987/987 [00:35<00:00, 27.62it/s]\n"
     ]
    },
    {
     "data": {
      "image/png": "[encoded data removed]",
      "text/plain": [
       "<Figure size 720x504 with 1 Axes>"
      ]
     },
     "metadata": {
      "needs_background": "light"
     },
     "output_type": "display_data"
    },
    {
     "name": "stderr",
     "output_type": "stream",
     "text": [
      "Train: 100%|██████████| 6946/6946 [33:26<00:00,  3.46it/s]\n",
      "Evaluation: 100%|██████████| 987/987 [00:35<00:00, 27.61it/s]\n"
     ]
    },
    {
     "data": {
      "image/png": "[encoded data removed]",
      "text/plain": [
       "<Figure size 720x504 with 1 Axes>"
      ]
     },
     "metadata": {
      "needs_background": "light"
     },
     "output_type": "display_data"
    },
    {
     "name": "stderr",
     "output_type": "stream",
     "text": [
      "Train: 100%|██████████| 6946/6946 [33:26<00:00,  3.46it/s]\n",
      "Evaluation: 100%|██████████| 987/987 [00:39<00:00, 25.15it/s]\n"
     ]
    },
    {
     "data": {
      "image/png": "[encoded data removed]",
      "text/plain": [
       "<Figure size 720x504 with 1 Axes>"
      ]
     },
     "metadata": {
      "needs_background": "light"
     },
     "output_type": "display_data"
    },
    {
     "name": "stderr",
     "output_type": "stream",
     "text": [
      "Train: 100%|██████████| 6946/6946 [34:53<00:00,  3.32it/s]\n",
      "Evaluation: 100%|██████████| 987/987 [00:36<00:00, 26.74it/s]\n"
     ]
    },
    {
     "data": {
      "image/png": "[encoded data removed]",
      "text/plain": [
       "<Figure size 720x504 with 1 Axes>"
      ]
     },
     "metadata": {
      "needs_background": "light"
     },
     "output_type": "display_data"
    },
    {
     "name": "stderr",
     "output_type": "stream",
     "text": [
      "Train: 100%|██████████| 6946/6946 [35:13<00:00,  3.29it/s]\n",
      "Evaluation: 100%|██████████| 987/987 [00:36<00:00, 26.74it/s]\n"
     ]
    },
    {
     "data": {
      "image/png": "[encoded data removed]",
      "text/plain": [
       "<Figure size 720x504 with 1 Axes>"
      ]
     },
     "metadata": {
      "needs_background": "light"
     },
     "output_type": "display_data"
    },
    {
     "name": "stderr",
     "output_type": "stream",
     "text": [
      "Train: 100%|██████████| 6946/6946 [35:39<00:00,  3.25it/s]\n",
      "Evaluation: 100%|██████████| 987/987 [00:37<00:00, 26.19it/s]\n"
     ]
    },
    {
     "data": {
      "image/png": "[encoded data removed]",
      "text/plain": [
       "<Figure size 720x504 with 1 Axes>"
      ]
     },
     "metadata": {
      "needs_background": "light"
     },
     "output_type": "display_data"
    },
    {
     "name": "stderr",
     "output_type": "stream",
     "text": [
      "Train: 100%|██████████| 6946/6946 [35:08<00:00,  3.29it/s]\n",
      "Evaluation: 100%|██████████| 987/987 [00:38<00:00, 25.67it/s]\n"
     ]
    },
    {
     "data": {
      "image/png": "[encoded data removed]",
      "text/plain": [
       "<Figure size 720x504 with 1 Axes>"
      ]
     },
     "metadata": {
      "needs_background": "light"
     },
     "output_type": "display_data"
    },
    {
     "name": "stderr",
     "output_type": "stream",
     "text": [
      "Train: 100%|██████████| 6946/6946 [35:21<00:00,  3.27it/s]\n",
      "Evaluation: 100%|██████████| 987/987 [00:36<00:00, 27.05it/s]\n"
     ]
    },
    {
     "data": {
      "image/png": "[encoded data removed]",
      "text/plain": [
       "<Figure size 720x504 with 1 Axes>"
      ]
     },
     "metadata": {
      "needs_background": "light"
     },
     "output_type": "display_data"
    }
   ],
   "source": [
    "whole_train_valid_cycle(ncf, 10) # emb 100 + 38 feats  238-64"
   ]
  },
  {
   "cell_type": "code",
   "execution_count": null,
   "metadata": {
    "colab": {
     "base_uri": "https://localhost:8080/"
    },
    "id": "OlAjw_4fjSp4",
    "outputId": "e4654b25-79d3-417e-d3ba-e1e136a02e2a"
   },
   "outputs": [
    {
     "name": "stderr",
     "output_type": "stream",
     "text": [
      "Evaluation: 100%|██████████| 987/987 [00:47<00:00, 20.66it/s]\n"
     ]
    },
    {
     "data": {
      "text/plain": [
       "0.1713863804619363"
      ]
     },
     "execution_count": 28,
     "metadata": {},
     "output_type": "execute_result"
    }
   ],
   "source": [
    "evaluate(ncf, dl_val)"
   ]
  },
  {
   "cell_type": "code",
   "execution_count": null,
   "metadata": {
    "id": "_zOdqIGUjS5R"
   },
   "outputs": [],
   "source": [
    "torch.save(ncf.state_dict(), 'ncf_CC_01_17138.pth')"
   ]
  },
  {
   "cell_type": "code",
   "execution_count": null,
   "metadata": {
    "colab": {
     "base_uri": "https://localhost:8080/"
    },
    "id": "TEAqZnqxBVpZ",
    "outputId": "bef23024-8974-4fa3-e14c-d5b5fecc774c"
   },
   "outputs": [
    {
     "data": {
      "text/plain": [
       "<All keys matched successfully>"
      ]
     },
     "execution_count": 22,
     "metadata": {},
     "output_type": "execute_result"
    }
   ],
   "source": [
    "ncf.load_state_dict(torch.load('/content/ncf_CC_01_17138.pth'))"
   ]
  },
  {
   "cell_type": "code",
   "execution_count": null,
   "metadata": {
    "id": "b5jTMlWYH3Uc"
   },
   "outputs": [],
   "source": []
  },
  {
   "cell_type": "code",
   "execution_count": null,
   "metadata": {
    "colab": {
     "base_uri": "https://localhost:8080/",
     "height": 908
    },
    "id": "QOVNDSl5H3No",
    "outputId": "38cd42ff-ab42-4d43-a3e0-7f99d35aba72"
   },
   "outputs": [
    {
     "name": "stderr",
     "output_type": "stream",
     "text": [
      "Train: 100%|██████████| 6946/6946 [31:50<00:00,  3.64it/s]\n",
      "Evaluation: 100%|██████████| 987/987 [00:36<00:00, 26.80it/s]\n"
     ]
    },
    {
     "data": {
      "image/png": "[encoded data removed]",
      "text/plain": [
       "<Figure size 720x504 with 1 Axes>"
      ]
     },
     "metadata": {
      "needs_background": "light"
     },
     "output_type": "display_data"
    },
    {
     "name": "stderr",
     "output_type": "stream",
     "text": [
      "Train: 100%|██████████| 6946/6946 [33:42<00:00,  3.43it/s]\n",
      "Evaluation: 100%|██████████| 987/987 [00:36<00:00, 27.00it/s]\n"
     ]
    },
    {
     "data": {
      "image/png": "[encoded data removed]",
      "text/plain": [
       "<Figure size 720x504 with 1 Axes>"
      ]
     },
     "metadata": {
      "needs_background": "light"
     },
     "output_type": "display_data"
    }
   ],
   "source": [
    "whole_train_valid_cycle(ncf, 2) # emb 100 + 38 feats  238-64"
   ]
  },
  {
   "cell_type": "code",
   "execution_count": null,
   "metadata": {
    "colab": {
     "base_uri": "https://localhost:8080/"
    },
    "id": "mNv_kul_H3H9",
    "outputId": "4f9d1031-404a-4f49-ae55-52e1f7544ac2"
   },
   "outputs": [
    {
     "name": "stderr",
     "output_type": "stream",
     "text": [
      "Evaluation: 100%|██████████| 987/987 [00:53<00:00, 18.55it/s]\n"
     ]
    },
    {
     "data": {
      "text/plain": [
       "0.11688484951264952"
      ]
     },
     "execution_count": 36,
     "metadata": {},
     "output_type": "execute_result"
    }
   ],
   "source": [
    "evaluate(ncf, dl_val)"
   ]
  },
  {
   "cell_type": "code",
   "execution_count": null,
   "metadata": {
    "id": "f6rN5dp_Xb2V"
   },
   "outputs": [],
   "source": [
    "torch.save(ncf.state_dict(), 'ncf_CC_02_11688.pth')"
   ]
  },
  {
   "cell_type": "code",
   "execution_count": null,
   "metadata": {
    "id": "jDYOdvo8U1xM"
   },
   "outputs": [],
   "source": []
  },
  {
   "cell_type": "code",
   "execution_count": null,
   "metadata": {
    "id": "sM4CruofU1uN"
   },
   "outputs": [],
   "source": []
  },
  {
   "cell_type": "markdown",
   "metadata": {
    "id": "rzANccQGf89q"
   },
   "source": [
    "# Метрики"
   ]
  },
  {
   "cell_type": "code",
   "execution_count": 21,
   "metadata": {
    "id": "DU3NxXYjf7VI"
   },
   "outputs": [],
   "source": [
    "from sklearn.metrics import roc_auc_score"
   ]
  },
  {
   "cell_type": "code",
   "execution_count": 22,
   "metadata": {
    "colab": {
     "base_uri": "https://localhost:8080/",
     "height": 473
    },
    "id": "9qMPJlb4f7VJ",
    "outputId": "a2f08850-3fb3-4773-9cf1-4c52f8f9a32a"
   },
   "outputs": [
    {
     "data": {
      "text/html": [
       "<div>\n",
       "<style scoped>\n",
       "    .dataframe tbody tr th:only-of-type {\n",
       "        vertical-align: middle;\n",
       "    }\n",
       "\n",
       "    .dataframe tbody tr th {\n",
       "        vertical-align: top;\n",
       "    }\n",
       "\n",
       "    .dataframe thead th {\n",
       "        text-align: right;\n",
       "    }\n",
       "</style>\n",
       "<table border=\"1\" class=\"dataframe\">\n",
       "  <thead>\n",
       "    <tr style=\"text-align: right;\">\n",
       "      <th></th>\n",
       "      <th>timestamp</th>\n",
       "      <th>user_id</th>\n",
       "      <th>post_id</th>\n",
       "      <th>target</th>\n",
       "      <th>total_tfidf</th>\n",
       "      <th>max_tfidf</th>\n",
       "      <th>mean_tfidf</th>\n",
       "      <th>dist_1_cluster</th>\n",
       "      <th>dist_2_cluster</th>\n",
       "      <th>dist_3_cluster</th>\n",
       "      <th>...</th>\n",
       "      <th>month_12</th>\n",
       "      <th>day_1</th>\n",
       "      <th>day_2</th>\n",
       "      <th>day_3</th>\n",
       "      <th>day_4</th>\n",
       "      <th>day_5</th>\n",
       "      <th>day_6</th>\n",
       "      <th>country</th>\n",
       "      <th>city</th>\n",
       "      <th>hour</th>\n",
       "    </tr>\n",
       "  </thead>\n",
       "  <tbody>\n",
       "    <tr>\n",
       "      <th>0</th>\n",
       "      <td>2021-12-24 13:59:16</td>\n",
       "      <td>200</td>\n",
       "      <td>6450</td>\n",
       "      <td>0</td>\n",
       "      <td>0.342079</td>\n",
       "      <td>0.336207</td>\n",
       "      <td>0.000155</td>\n",
       "      <td>0.443013</td>\n",
       "      <td>0.171766</td>\n",
       "      <td>0.220949</td>\n",
       "      <td>...</td>\n",
       "      <td>1</td>\n",
       "      <td>0</td>\n",
       "      <td>0</td>\n",
       "      <td>0</td>\n",
       "      <td>1</td>\n",
       "      <td>0</td>\n",
       "      <td>0</td>\n",
       "      <td>0.105616</td>\n",
       "      <td>0.151927</td>\n",
       "      <td>0.101607</td>\n",
       "    </tr>\n",
       "    <tr>\n",
       "      <th>5</th>\n",
       "      <td>2021-12-29 15:24:31</td>\n",
       "      <td>200</td>\n",
       "      <td>2213</td>\n",
       "      <td>1</td>\n",
       "      <td>0.415431</td>\n",
       "      <td>0.520588</td>\n",
       "      <td>0.000188</td>\n",
       "      <td>0.453078</td>\n",
       "      <td>0.181180</td>\n",
       "      <td>0.277863</td>\n",
       "      <td>...</td>\n",
       "      <td>1</td>\n",
       "      <td>0</td>\n",
       "      <td>1</td>\n",
       "      <td>0</td>\n",
       "      <td>0</td>\n",
       "      <td>0</td>\n",
       "      <td>0</td>\n",
       "      <td>0.105616</td>\n",
       "      <td>0.151927</td>\n",
       "      <td>0.102667</td>\n",
       "    </tr>\n",
       "    <tr>\n",
       "      <th>17</th>\n",
       "      <td>2021-12-24 13:54:36</td>\n",
       "      <td>200</td>\n",
       "      <td>5558</td>\n",
       "      <td>0</td>\n",
       "      <td>0.579909</td>\n",
       "      <td>0.225246</td>\n",
       "      <td>0.000262</td>\n",
       "      <td>0.425750</td>\n",
       "      <td>0.083841</td>\n",
       "      <td>0.152464</td>\n",
       "      <td>...</td>\n",
       "      <td>1</td>\n",
       "      <td>0</td>\n",
       "      <td>0</td>\n",
       "      <td>0</td>\n",
       "      <td>1</td>\n",
       "      <td>0</td>\n",
       "      <td>0</td>\n",
       "      <td>0.105616</td>\n",
       "      <td>0.151927</td>\n",
       "      <td>0.101607</td>\n",
       "    </tr>\n",
       "    <tr>\n",
       "      <th>48</th>\n",
       "      <td>2021-12-29 08:23:45</td>\n",
       "      <td>201</td>\n",
       "      <td>7159</td>\n",
       "      <td>0</td>\n",
       "      <td>0.320593</td>\n",
       "      <td>0.495164</td>\n",
       "      <td>0.000145</td>\n",
       "      <td>0.420592</td>\n",
       "      <td>0.089518</td>\n",
       "      <td>0.155043</td>\n",
       "      <td>...</td>\n",
       "      <td>1</td>\n",
       "      <td>0</td>\n",
       "      <td>1</td>\n",
       "      <td>0</td>\n",
       "      <td>0</td>\n",
       "      <td>0</td>\n",
       "      <td>0</td>\n",
       "      <td>0.105616</td>\n",
       "      <td>0.134679</td>\n",
       "      <td>0.109906</td>\n",
       "    </tr>\n",
       "    <tr>\n",
       "      <th>49</th>\n",
       "      <td>2021-12-29 08:05:14</td>\n",
       "      <td>201</td>\n",
       "      <td>7119</td>\n",
       "      <td>0</td>\n",
       "      <td>0.408379</td>\n",
       "      <td>0.171771</td>\n",
       "      <td>0.000185</td>\n",
       "      <td>0.406667</td>\n",
       "      <td>0.047020</td>\n",
       "      <td>0.173553</td>\n",
       "      <td>...</td>\n",
       "      <td>1</td>\n",
       "      <td>0</td>\n",
       "      <td>1</td>\n",
       "      <td>0</td>\n",
       "      <td>0</td>\n",
       "      <td>0</td>\n",
       "      <td>0</td>\n",
       "      <td>0.105616</td>\n",
       "      <td>0.134679</td>\n",
       "      <td>0.109906</td>\n",
       "    </tr>\n",
       "  </tbody>\n",
       "</table>\n",
       "<p>5 rows × 42 columns</p>\n",
       "</div>"
      ],
      "text/plain": [
       "             timestamp  user_id  post_id  target  total_tfidf  max_tfidf  \\\n",
       "0  2021-12-24 13:59:16      200     6450       0     0.342079   0.336207   \n",
       "5  2021-12-29 15:24:31      200     2213       1     0.415431   0.520588   \n",
       "17 2021-12-24 13:54:36      200     5558       0     0.579909   0.225246   \n",
       "48 2021-12-29 08:23:45      201     7159       0     0.320593   0.495164   \n",
       "49 2021-12-29 08:05:14      201     7119       0     0.408379   0.171771   \n",
       "\n",
       "    mean_tfidf  dist_1_cluster  dist_2_cluster  dist_3_cluster  ...  month_12  \\\n",
       "0     0.000155        0.443013        0.171766        0.220949  ...         1   \n",
       "5     0.000188        0.453078        0.181180        0.277863  ...         1   \n",
       "17    0.000262        0.425750        0.083841        0.152464  ...         1   \n",
       "48    0.000145        0.420592        0.089518        0.155043  ...         1   \n",
       "49    0.000185        0.406667        0.047020        0.173553  ...         1   \n",
       "\n",
       "    day_1  day_2  day_3  day_4  day_5  day_6   country      city      hour  \n",
       "0       0      0      0      1      0      0  0.105616  0.151927  0.101607  \n",
       "5       0      1      0      0      0      0  0.105616  0.151927  0.102667  \n",
       "17      0      0      0      1      0      0  0.105616  0.151927  0.101607  \n",
       "48      0      1      0      0      0      0  0.105616  0.134679  0.109906  \n",
       "49      0      1      0      0      0      0  0.105616  0.134679  0.109906  \n",
       "\n",
       "[5 rows x 42 columns]"
      ]
     },
     "execution_count": 22,
     "metadata": {},
     "output_type": "execute_result"
    }
   ],
   "source": [
    "ds_test.data.head()"
   ]
  },
  {
   "cell_type": "code",
   "execution_count": 35,
   "metadata": {},
   "outputs": [],
   "source": [
    "n_users = ds_train.n_users\n",
    "n_items = ds_train.n_posts\n",
    "latent_size = 100\n",
    "feats_size = ds_train[0][2].shape[0]\n",
    "\n",
    "ncf = NCCF(n_users, n_items, latent_size, feats_size).to(DEVICE)"
   ]
  },
  {
   "cell_type": "code",
   "execution_count": 36,
   "metadata": {},
   "outputs": [
    {
     "data": {
      "text/plain": [
       "<All keys matched successfully>"
      ]
     },
     "execution_count": 36,
     "metadata": {},
     "output_type": "execute_result"
    }
   ],
   "source": [
    "ncf.load_state_dict(torch.load('ncf_CC_02_11688.pth'))"
   ]
  },
  {
   "cell_type": "code",
   "execution_count": null,
   "metadata": {},
   "outputs": [],
   "source": []
  },
  {
   "cell_type": "markdown",
   "metadata": {
    "id": "AXZvAW6CuLPx"
   },
   "source": [
    "ncf_CC_02_11688.pth"
   ]
  },
  {
   "cell_type": "code",
   "execution_count": 37,
   "metadata": {
    "id": "Tw51SFsXf7VJ"
   },
   "outputs": [
    {
     "name": "stderr",
     "output_type": "stream",
     "text": [
      "100%|████████████████████████████████████████████████████████████████████████████| 26661/26661 [21:00<00:00, 21.16it/s]\n"
     ]
    }
   ],
   "source": [
    "X_train = ds_train.data.copy()\n",
    "\n",
    "preds = []\n",
    "for users, items, feats, labels in tqdm(dl_train):\n",
    "    with torch.no_grad():\n",
    "        output = ncf(users, items, feats)\n",
    "    output = torch.sigmoid(output)\n",
    "    preds.append(output)\n",
    "\n",
    "preds = torch.cat(preds)\n",
    "X_train['pred'] = np.array(preds)"
   ]
  },
  {
   "cell_type": "code",
   "execution_count": 39,
   "metadata": {
    "colab": {
     "base_uri": "https://localhost:8080/"
    },
    "id": "FJCAhPtDf7VK",
    "outputId": "a4bb69d0-242f-4b59-ad6e-d0b3be66a6c9"
   },
   "outputs": [
    {
     "name": "stderr",
     "output_type": "stream",
     "text": [
      "100%|██████████████████████████████████████████████████████████████████████████████| 3819/3819 [02:34<00:00, 24.76it/s]\n"
     ]
    }
   ],
   "source": [
    "X_test = ds_test.data.copy()\n",
    "\n",
    "preds = []\n",
    "for users, items, feats, labels in tqdm(dl_test):\n",
    "    with torch.no_grad():\n",
    "        output = ncf(users, items, feats)\n",
    "    output = torch.sigmoid(output)\n",
    "    preds.append(output)\n",
    "\n",
    "preds = torch.cat(preds)\n",
    "X_test['pred'] = preds"
   ]
  },
  {
   "cell_type": "code",
   "execution_count": 47,
   "metadata": {},
   "outputs": [
    {
     "name": "stdout",
     "output_type": "stream",
     "text": [
      "Качество на трейне: 0.500085\n",
      "Качество на тесте: 0.622823\n"
     ]
    }
   ],
   "source": [
    "print('Качество на трейне: {:.6f}'.format(roc_auc_score(X_train['target'], X_train['pred'])))\n",
    "print('Качество на тесте: {:.6f}'.format(roc_auc_score(X_test['target'], X_test['pred'])))"
   ]
  },
  {
   "cell_type": "code",
   "execution_count": 48,
   "metadata": {
    "colab": {
     "base_uri": "https://localhost:8080/"
    },
    "id": "Prrp_X4uf7VK",
    "outputId": "369c6f98-71fd-4fc0-a3cd-3680787856ef"
   },
   "outputs": [
    {
     "name": "stderr",
     "output_type": "stream",
     "text": [
      "100%|█████████████████████████████████████████████████████████████████████████| 122722/122722 [04:34<00:00, 447.22it/s]"
     ]
    },
    {
     "name": "stdout",
     "output_type": "stream",
     "text": [
      "\n",
      "Среднее DSG@2 по пользователям из теста: 0.013962694880513177\n"
     ]
    },
    {
     "name": "stderr",
     "output_type": "stream",
     "text": [
      "\n"
     ]
    }
   ],
   "source": [
    "users_dsgs = []\n",
    "\n",
    "\n",
    "for user in tqdm(X_test['user_id'].unique()):\n",
    "    part = X_test[X_test['user_id']==user]\n",
    "    part = part.sort_values('pred', ascending=False)\n",
    "    # part = part.reset_index()\n",
    "    user_dsg2 = (part['target'] / np.log2(part.index+2))[:2].sum()\n",
    "\n",
    "    users_dsgs.append(user_dsg2)\n",
    "  \n",
    "print()\n",
    "print(f\"Среднее DSG@2 по пользователям из теста: {np.mean(users_dsgs)}\")"
   ]
  },
  {
   "cell_type": "code",
   "execution_count": 49,
   "metadata": {
    "colab": {
     "base_uri": "https://localhost:8080/"
    },
    "id": "oLACzThtf7VK",
    "outputId": "cb17416f-4785-4981-caf3-adb0bbe07aad"
   },
   "outputs": [
    {
     "name": "stderr",
     "output_type": "stream",
     "text": [
      "100%|█████████████████████████████████████████████████████████████████████████| 122722/122722 [03:51<00:00, 529.90it/s]"
     ]
    },
    {
     "name": "stdout",
     "output_type": "stream",
     "text": [
      "\n",
      "Среднее Hitrate@5 по пользователям из теста: 1.1014569514838415\n"
     ]
    },
    {
     "name": "stderr",
     "output_type": "stream",
     "text": [
      "\n"
     ]
    }
   ],
   "source": [
    "users_hit5 = []\n",
    "\n",
    "for user in tqdm(X_test['user_id'].unique()):\n",
    "    part = X_test[X_test['user_id']==user]\n",
    "    part = part.sort_values('pred', ascending=False)\n",
    "    # part = part.reset_index()\n",
    "    hit_5 = max(1, sum(part['target'][:5]))\n",
    "    \n",
    "    users_hit5.append(hit_5)\n",
    "\n",
    "print()\n",
    "print(f\"Среднее Hitrate@5 по пользователям из теста: {np.mean(users_hit5)}\")"
   ]
  },
  {
   "cell_type": "code",
   "execution_count": null,
   "metadata": {
    "id": "2l8xOImHDHQg"
   },
   "outputs": [],
   "source": []
  }
 ],
 "metadata": {
  "colab": {
   "collapsed_sections": [],
   "provenance": []
  },
  "gpuClass": "standard",
  "kernelspec": {
   "display_name": "Python 3 (ipykernel)",
   "language": "python",
   "name": "python3"
  },
  "language_info": {
   "codemirror_mode": {
    "name": "ipython",
    "version": 3
   },
   "file_extension": ".py",
   "mimetype": "text/x-python",
   "name": "python",
   "nbconvert_exporter": "python",
   "pygments_lexer": "ipython3",
   "version": "3.8.5"
  },
  "widgets": {
   "application/vnd.jupyter.widget-state+json": {
    "015bd1c027834e0e8f6b61de777fd211": {
     "model_module": "@jupyter-widgets/base",
     "model_module_version": "1.2.0",
     "model_name": "LayoutModel",
     "state": {
      "_model_module": "@jupyter-widgets/base",
      "_model_module_version": "1.2.0",
      "_model_name": "LayoutModel",
      "_view_count": null,
      "_view_module": "@jupyter-widgets/base",
      "_view_module_version": "1.2.0",
      "_view_name": "LayoutView",
      "align_content": null,
      "align_items": null,
      "align_self": null,
      "border": null,
      "bottom": null,
      "display": null,
      "flex": null,
      "flex_flow": null,
      "grid_area": null,
      "grid_auto_columns": null,
      "grid_auto_flow": null,
      "grid_auto_rows": null,
      "grid_column": null,
      "grid_gap": null,
      "grid_row": null,
      "grid_template_areas": null,
      "grid_template_columns": null,
      "grid_template_rows": null,
      "height": null,
      "justify_content": null,
      "justify_items": null,
      "left": null,
      "margin": null,
      "max_height": null,
      "max_width": null,
      "min_height": null,
      "min_width": null,
      "object_fit": null,
      "object_position": null,
      "order": null,
      "overflow": null,
      "overflow_x": null,
      "overflow_y": null,
      "padding": null,
      "right": null,
      "top": null,
      "visibility": null,
      "width": null
     }
    },
    "01b1d8c8d5994228893af911e98155f5": {
     "model_module": "@jupyter-widgets/controls",
     "model_module_version": "1.5.0",
     "model_name": "HTMLModel",
     "state": {
      "_dom_classes": [],
      "_model_module": "@jupyter-widgets/controls",
      "_model_module_version": "1.5.0",
      "_model_name": "HTMLModel",
      "_view_count": null,
      "_view_module": "@jupyter-widgets/controls",
      "_view_module_version": "1.5.0",
      "_view_name": "HTMLView",
      "description": "",
      "description_tooltip": null,
      "layout": "IPY_MODEL_0ea4efc8c9e64f1e83696b750b228349",
      "placeholder": "​",
      "style": "IPY_MODEL_294b1757e12249568a135b0a3ac057dd",
      "value": "Downloading: 100%"
     }
    },
    "02f96cc889ca4d8a81a0c3241e28bdde": {
     "model_module": "@jupyter-widgets/controls",
     "model_module_version": "1.5.0",
     "model_name": "HTMLModel",
     "state": {
      "_dom_classes": [],
      "_model_module": "@jupyter-widgets/controls",
      "_model_module_version": "1.5.0",
      "_model_name": "HTMLModel",
      "_view_count": null,
      "_view_module": "@jupyter-widgets/controls",
      "_view_module_version": "1.5.0",
      "_view_name": "HTMLView",
      "description": "",
      "description_tooltip": null,
      "layout": "IPY_MODEL_cbfbf9e740764764b570e5cf2ec3baea",
      "placeholder": "​",
      "style": "IPY_MODEL_bd7e329d10bf49f5bde22fbc08e6cb3e",
      "value": " 1.36M/1.36M [00:01&lt;00:00, 1.16MB/s]"
     }
    },
    "035841d081144948b936feecbad0e39c": {
     "model_module": "@jupyter-widgets/controls",
     "model_module_version": "1.5.0",
     "model_name": "DescriptionStyleModel",
     "state": {
      "_model_module": "@jupyter-widgets/controls",
      "_model_module_version": "1.5.0",
      "_model_name": "DescriptionStyleModel",
      "_view_count": null,
      "_view_module": "@jupyter-widgets/base",
      "_view_module_version": "1.2.0",
      "_view_name": "StyleView",
      "description_width": ""
     }
    },
    "041e7f283ab3450b9384531eb61ea4cd": {
     "model_module": "@jupyter-widgets/base",
     "model_module_version": "1.2.0",
     "model_name": "LayoutModel",
     "state": {
      "_model_module": "@jupyter-widgets/base",
      "_model_module_version": "1.2.0",
      "_model_name": "LayoutModel",
      "_view_count": null,
      "_view_module": "@jupyter-widgets/base",
      "_view_module_version": "1.2.0",
      "_view_name": "LayoutView",
      "align_content": null,
      "align_items": null,
      "align_self": null,
      "border": null,
      "bottom": null,
      "display": null,
      "flex": null,
      "flex_flow": null,
      "grid_area": null,
      "grid_auto_columns": null,
      "grid_auto_flow": null,
      "grid_auto_rows": null,
      "grid_column": null,
      "grid_gap": null,
      "grid_row": null,
      "grid_template_areas": null,
      "grid_template_columns": null,
      "grid_template_rows": null,
      "height": null,
      "justify_content": null,
      "justify_items": null,
      "left": null,
      "margin": null,
      "max_height": null,
      "max_width": null,
      "min_height": null,
      "min_width": null,
      "object_fit": null,
      "object_position": null,
      "order": null,
      "overflow": null,
      "overflow_x": null,
      "overflow_y": null,
      "padding": null,
      "right": null,
      "top": null,
      "visibility": null,
      "width": null
     }
    },
    "090c1c1e2aca4030a21549d9352919ac": {
     "model_module": "@jupyter-widgets/controls",
     "model_module_version": "1.5.0",
     "model_name": "FloatProgressModel",
     "state": {
      "_dom_classes": [],
      "_model_module": "@jupyter-widgets/controls",
      "_model_module_version": "1.5.0",
      "_model_name": "FloatProgressModel",
      "_view_count": null,
      "_view_module": "@jupyter-widgets/controls",
      "_view_module_version": "1.5.0",
      "_view_name": "ProgressView",
      "bar_style": "success",
      "description": "",
      "description_tooltip": null,
      "layout": "IPY_MODEL_015bd1c027834e0e8f6b61de777fd211",
      "max": 456318,
      "min": 0,
      "orientation": "horizontal",
      "style": "IPY_MODEL_0e65fca02ee043b3a178ce2b177f8bb4",
      "value": 456318
     }
    },
    "0e65fca02ee043b3a178ce2b177f8bb4": {
     "model_module": "@jupyter-widgets/controls",
     "model_module_version": "1.5.0",
     "model_name": "ProgressStyleModel",
     "state": {
      "_model_module": "@jupyter-widgets/controls",
      "_model_module_version": "1.5.0",
      "_model_name": "ProgressStyleModel",
      "_view_count": null,
      "_view_module": "@jupyter-widgets/base",
      "_view_module_version": "1.2.0",
      "_view_name": "StyleView",
      "bar_color": null,
      "description_width": ""
     }
    },
    "0ea4efc8c9e64f1e83696b750b228349": {
     "model_module": "@jupyter-widgets/base",
     "model_module_version": "1.2.0",
     "model_name": "LayoutModel",
     "state": {
      "_model_module": "@jupyter-widgets/base",
      "_model_module_version": "1.2.0",
      "_model_name": "LayoutModel",
      "_view_count": null,
      "_view_module": "@jupyter-widgets/base",
      "_view_module_version": "1.2.0",
      "_view_name": "LayoutView",
      "align_content": null,
      "align_items": null,
      "align_self": null,
      "border": null,
      "bottom": null,
      "display": null,
      "flex": null,
      "flex_flow": null,
      "grid_area": null,
      "grid_auto_columns": null,
      "grid_auto_flow": null,
      "grid_auto_rows": null,
      "grid_column": null,
      "grid_gap": null,
      "grid_row": null,
      "grid_template_areas": null,
      "grid_template_columns": null,
      "grid_template_rows": null,
      "height": null,
      "justify_content": null,
      "justify_items": null,
      "left": null,
      "margin": null,
      "max_height": null,
      "max_width": null,
      "min_height": null,
      "min_width": null,
      "object_fit": null,
      "object_position": null,
      "order": null,
      "overflow": null,
      "overflow_x": null,
      "overflow_y": null,
      "padding": null,
      "right": null,
      "top": null,
      "visibility": null,
      "width": null
     }
    },
    "14feec42bb8e4dc88c320471d067b321": {
     "model_module": "@jupyter-widgets/controls",
     "model_module_version": "1.5.0",
     "model_name": "DescriptionStyleModel",
     "state": {
      "_model_module": "@jupyter-widgets/controls",
      "_model_module_version": "1.5.0",
      "_model_name": "DescriptionStyleModel",
      "_view_count": null,
      "_view_module": "@jupyter-widgets/base",
      "_view_module_version": "1.2.0",
      "_view_name": "StyleView",
      "description_width": ""
     }
    },
    "1aaef66c8e66412590934460e6fc18c9": {
     "model_module": "@jupyter-widgets/controls",
     "model_module_version": "1.5.0",
     "model_name": "HTMLModel",
     "state": {
      "_dom_classes": [],
      "_model_module": "@jupyter-widgets/controls",
      "_model_module_version": "1.5.0",
      "_model_name": "HTMLModel",
      "_view_count": null,
      "_view_module": "@jupyter-widgets/controls",
      "_view_module_version": "1.5.0",
      "_view_name": "HTMLView",
      "description": "",
      "description_tooltip": null,
      "layout": "IPY_MODEL_6e72fe8c76244b0b9947ad2ac66a2791",
      "placeholder": "​",
      "style": "IPY_MODEL_93b5bf275feb4d51857e4ed6417bc582",
      "value": "100%"
     }
    },
    "20287d5b2ba1403b80e1382f6442cda3": {
     "model_module": "@jupyter-widgets/controls",
     "model_module_version": "1.5.0",
     "model_name": "ProgressStyleModel",
     "state": {
      "_model_module": "@jupyter-widgets/controls",
      "_model_module_version": "1.5.0",
      "_model_name": "ProgressStyleModel",
      "_view_count": null,
      "_view_module": "@jupyter-widgets/base",
      "_view_module_version": "1.2.0",
      "_view_name": "StyleView",
      "bar_color": null,
      "description_width": ""
     }
    },
    "215af82ad85d44ffb3b8a69d76363009": {
     "model_module": "@jupyter-widgets/controls",
     "model_module_version": "1.5.0",
     "model_name": "HBoxModel",
     "state": {
      "_dom_classes": [],
      "_model_module": "@jupyter-widgets/controls",
      "_model_module_version": "1.5.0",
      "_model_name": "HBoxModel",
      "_view_count": null,
      "_view_module": "@jupyter-widgets/controls",
      "_view_module_version": "1.5.0",
      "_view_name": "HBoxView",
      "box_style": "",
      "children": [
       "IPY_MODEL_ccccd0d48df64803b9f5ec5ca33741cd",
       "IPY_MODEL_9846f7d694b54ea2909bcdc0cb2d7b86",
       "IPY_MODEL_02f96cc889ca4d8a81a0c3241e28bdde"
      ],
      "layout": "IPY_MODEL_be479bda546943ae80e50df77162c528"
     }
    },
    "2916110af674414889b2be1ed3fb9b54": {
     "model_module": "@jupyter-widgets/base",
     "model_module_version": "1.2.0",
     "model_name": "LayoutModel",
     "state": {
      "_model_module": "@jupyter-widgets/base",
      "_model_module_version": "1.2.0",
      "_model_name": "LayoutModel",
      "_view_count": null,
      "_view_module": "@jupyter-widgets/base",
      "_view_module_version": "1.2.0",
      "_view_name": "LayoutView",
      "align_content": null,
      "align_items": null,
      "align_self": null,
      "border": null,
      "bottom": null,
      "display": null,
      "flex": null,
      "flex_flow": null,
      "grid_area": null,
      "grid_auto_columns": null,
      "grid_auto_flow": null,
      "grid_auto_rows": null,
      "grid_column": null,
      "grid_gap": null,
      "grid_row": null,
      "grid_template_areas": null,
      "grid_template_columns": null,
      "grid_template_rows": null,
      "height": null,
      "justify_content": null,
      "justify_items": null,
      "left": null,
      "margin": null,
      "max_height": null,
      "max_width": null,
      "min_height": null,
      "min_width": null,
      "object_fit": null,
      "object_position": null,
      "order": null,
      "overflow": null,
      "overflow_x": null,
      "overflow_y": null,
      "padding": null,
      "right": null,
      "top": null,
      "visibility": null,
      "width": null
     }
    },
    "294b1757e12249568a135b0a3ac057dd": {
     "model_module": "@jupyter-widgets/controls",
     "model_module_version": "1.5.0",
     "model_name": "DescriptionStyleModel",
     "state": {
      "_model_module": "@jupyter-widgets/controls",
      "_model_module_version": "1.5.0",
      "_model_name": "DescriptionStyleModel",
      "_view_count": null,
      "_view_module": "@jupyter-widgets/base",
      "_view_module_version": "1.2.0",
      "_view_name": "StyleView",
      "description_width": ""
     }
    },
    "2b9b57eff719420883950163f5bde157": {
     "model_module": "@jupyter-widgets/controls",
     "model_module_version": "1.5.0",
     "model_name": "HTMLModel",
     "state": {
      "_dom_classes": [],
      "_model_module": "@jupyter-widgets/controls",
      "_model_module_version": "1.5.0",
      "_model_name": "HTMLModel",
      "_view_count": null,
      "_view_module": "@jupyter-widgets/controls",
      "_view_module_version": "1.5.0",
      "_view_name": "HTMLView",
      "description": "",
      "description_tooltip": null,
      "layout": "IPY_MODEL_ac386b7c23b7461f8f29b26bd15ede9c",
      "placeholder": "​",
      "style": "IPY_MODEL_f62cb4b941d043c8b1f1536723ae8824",
      "value": " 456k/456k [00:01&lt;00:00, 478kB/s]"
     }
    },
    "2d7e67284968482f8f94948deecf6b17": {
     "model_module": "@jupyter-widgets/controls",
     "model_module_version": "1.5.0",
     "model_name": "HTMLModel",
     "state": {
      "_dom_classes": [],
      "_model_module": "@jupyter-widgets/controls",
      "_model_module_version": "1.5.0",
      "_model_name": "HTMLModel",
      "_view_count": null,
      "_view_module": "@jupyter-widgets/controls",
      "_view_module_version": "1.5.0",
      "_view_name": "HTMLView",
      "description": "",
      "description_tooltip": null,
      "layout": "IPY_MODEL_3faf5c5a63834098bc8395f4f33c634b",
      "placeholder": "​",
      "style": "IPY_MODEL_d15f119ef4194616bc41611830272963",
      "value": " 501M/501M [00:16&lt;00:00, 55.8MB/s]"
     }
    },
    "2e2f30a9e8744137965df4b9ab986792": {
     "model_module": "@jupyter-widgets/controls",
     "model_module_version": "1.5.0",
     "model_name": "ProgressStyleModel",
     "state": {
      "_model_module": "@jupyter-widgets/controls",
      "_model_module_version": "1.5.0",
      "_model_name": "ProgressStyleModel",
      "_view_count": null,
      "_view_module": "@jupyter-widgets/base",
      "_view_module_version": "1.2.0",
      "_view_name": "StyleView",
      "bar_color": null,
      "description_width": ""
     }
    },
    "36d778d5e0c543fdaa0db57c172a4a05": {
     "model_module": "@jupyter-widgets/controls",
     "model_module_version": "1.5.0",
     "model_name": "FloatProgressModel",
     "state": {
      "_dom_classes": [],
      "_model_module": "@jupyter-widgets/controls",
      "_model_module_version": "1.5.0",
      "_model_name": "FloatProgressModel",
      "_view_count": null,
      "_view_module": "@jupyter-widgets/controls",
      "_view_module_version": "1.5.0",
      "_view_name": "ProgressView",
      "bar_style": "success",
      "description": "",
      "description_tooltip": null,
      "layout": "IPY_MODEL_b35d0957f6f74d43a0c050a21ca11f97",
      "max": 481,
      "min": 0,
      "orientation": "horizontal",
      "style": "IPY_MODEL_47d66f1d89fc44dc9314ea00b6f04270",
      "value": 481
     }
    },
    "39ebe3bf690942f889eca4f2b73a62e4": {
     "model_module": "@jupyter-widgets/base",
     "model_module_version": "1.2.0",
     "model_name": "LayoutModel",
     "state": {
      "_model_module": "@jupyter-widgets/base",
      "_model_module_version": "1.2.0",
      "_model_name": "LayoutModel",
      "_view_count": null,
      "_view_module": "@jupyter-widgets/base",
      "_view_module_version": "1.2.0",
      "_view_name": "LayoutView",
      "align_content": null,
      "align_items": null,
      "align_self": null,
      "border": null,
      "bottom": null,
      "display": null,
      "flex": null,
      "flex_flow": null,
      "grid_area": null,
      "grid_auto_columns": null,
      "grid_auto_flow": null,
      "grid_auto_rows": null,
      "grid_column": null,
      "grid_gap": null,
      "grid_row": null,
      "grid_template_areas": null,
      "grid_template_columns": null,
      "grid_template_rows": null,
      "height": null,
      "justify_content": null,
      "justify_items": null,
      "left": null,
      "margin": null,
      "max_height": null,
      "max_width": null,
      "min_height": null,
      "min_width": null,
      "object_fit": null,
      "object_position": null,
      "order": null,
      "overflow": null,
      "overflow_x": null,
      "overflow_y": null,
      "padding": null,
      "right": null,
      "top": null,
      "visibility": null,
      "width": null
     }
    },
    "3faf5c5a63834098bc8395f4f33c634b": {
     "model_module": "@jupyter-widgets/base",
     "model_module_version": "1.2.0",
     "model_name": "LayoutModel",
     "state": {
      "_model_module": "@jupyter-widgets/base",
      "_model_module_version": "1.2.0",
      "_model_name": "LayoutModel",
      "_view_count": null,
      "_view_module": "@jupyter-widgets/base",
      "_view_module_version": "1.2.0",
      "_view_name": "LayoutView",
      "align_content": null,
      "align_items": null,
      "align_self": null,
      "border": null,
      "bottom": null,
      "display": null,
      "flex": null,
      "flex_flow": null,
      "grid_area": null,
      "grid_auto_columns": null,
      "grid_auto_flow": null,
      "grid_auto_rows": null,
      "grid_column": null,
      "grid_gap": null,
      "grid_row": null,
      "grid_template_areas": null,
      "grid_template_columns": null,
      "grid_template_rows": null,
      "height": null,
      "justify_content": null,
      "justify_items": null,
      "left": null,
      "margin": null,
      "max_height": null,
      "max_width": null,
      "min_height": null,
      "min_width": null,
      "object_fit": null,
      "object_position": null,
      "order": null,
      "overflow": null,
      "overflow_x": null,
      "overflow_y": null,
      "padding": null,
      "right": null,
      "top": null,
      "visibility": null,
      "width": null
     }
    },
    "47d66f1d89fc44dc9314ea00b6f04270": {
     "model_module": "@jupyter-widgets/controls",
     "model_module_version": "1.5.0",
     "model_name": "ProgressStyleModel",
     "state": {
      "_model_module": "@jupyter-widgets/controls",
      "_model_module_version": "1.5.0",
      "_model_name": "ProgressStyleModel",
      "_view_count": null,
      "_view_module": "@jupyter-widgets/base",
      "_view_module_version": "1.2.0",
      "_view_name": "StyleView",
      "bar_color": null,
      "description_width": ""
     }
    },
    "47fb2b3143414907a4c785f1ec89da2e": {
     "model_module": "@jupyter-widgets/controls",
     "model_module_version": "1.5.0",
     "model_name": "DescriptionStyleModel",
     "state": {
      "_model_module": "@jupyter-widgets/controls",
      "_model_module_version": "1.5.0",
      "_model_name": "DescriptionStyleModel",
      "_view_count": null,
      "_view_module": "@jupyter-widgets/base",
      "_view_module_version": "1.2.0",
      "_view_name": "StyleView",
      "description_width": ""
     }
    },
    "4f99b2f7ad7043619c0aa11857d9b967": {
     "model_module": "@jupyter-widgets/base",
     "model_module_version": "1.2.0",
     "model_name": "LayoutModel",
     "state": {
      "_model_module": "@jupyter-widgets/base",
      "_model_module_version": "1.2.0",
      "_model_name": "LayoutModel",
      "_view_count": null,
      "_view_module": "@jupyter-widgets/base",
      "_view_module_version": "1.2.0",
      "_view_name": "LayoutView",
      "align_content": null,
      "align_items": null,
      "align_self": null,
      "border": null,
      "bottom": null,
      "display": null,
      "flex": null,
      "flex_flow": null,
      "grid_area": null,
      "grid_auto_columns": null,
      "grid_auto_flow": null,
      "grid_auto_rows": null,
      "grid_column": null,
      "grid_gap": null,
      "grid_row": null,
      "grid_template_areas": null,
      "grid_template_columns": null,
      "grid_template_rows": null,
      "height": null,
      "justify_content": null,
      "justify_items": null,
      "left": null,
      "margin": null,
      "max_height": null,
      "max_width": null,
      "min_height": null,
      "min_width": null,
      "object_fit": null,
      "object_position": null,
      "order": null,
      "overflow": null,
      "overflow_x": null,
      "overflow_y": null,
      "padding": null,
      "right": null,
      "top": null,
      "visibility": null,
      "width": null
     }
    },
    "50bb92e08a9443608e9844e86d04945a": {
     "model_module": "@jupyter-widgets/controls",
     "model_module_version": "1.5.0",
     "model_name": "FloatProgressModel",
     "state": {
      "_dom_classes": [],
      "_model_module": "@jupyter-widgets/controls",
      "_model_module_version": "1.5.0",
      "_model_name": "FloatProgressModel",
      "_view_count": null,
      "_view_module": "@jupyter-widgets/controls",
      "_view_module_version": "1.5.0",
      "_view_name": "ProgressView",
      "bar_style": "success",
      "description": "",
      "description_tooltip": null,
      "layout": "IPY_MODEL_a3e7d96dd97a4154872739c15dd3333c",
      "max": 501200538,
      "min": 0,
      "orientation": "horizontal",
      "style": "IPY_MODEL_2e2f30a9e8744137965df4b9ab986792",
      "value": 501200538
     }
    },
    "5265ee18c48949bc87573d603aa093cb": {
     "model_module": "@jupyter-widgets/base",
     "model_module_version": "1.2.0",
     "model_name": "LayoutModel",
     "state": {
      "_model_module": "@jupyter-widgets/base",
      "_model_module_version": "1.2.0",
      "_model_name": "LayoutModel",
      "_view_count": null,
      "_view_module": "@jupyter-widgets/base",
      "_view_module_version": "1.2.0",
      "_view_name": "LayoutView",
      "align_content": null,
      "align_items": null,
      "align_self": null,
      "border": null,
      "bottom": null,
      "display": null,
      "flex": null,
      "flex_flow": null,
      "grid_area": null,
      "grid_auto_columns": null,
      "grid_auto_flow": null,
      "grid_auto_rows": null,
      "grid_column": null,
      "grid_gap": null,
      "grid_row": null,
      "grid_template_areas": null,
      "grid_template_columns": null,
      "grid_template_rows": null,
      "height": null,
      "justify_content": null,
      "justify_items": null,
      "left": null,
      "margin": null,
      "max_height": null,
      "max_width": null,
      "min_height": null,
      "min_width": null,
      "object_fit": null,
      "object_position": null,
      "order": null,
      "overflow": null,
      "overflow_x": null,
      "overflow_y": null,
      "padding": null,
      "right": null,
      "top": null,
      "visibility": null,
      "width": null
     }
    },
    "59a08c7107514d0ca5540a8e27d24085": {
     "model_module": "@jupyter-widgets/controls",
     "model_module_version": "1.5.0",
     "model_name": "HTMLModel",
     "state": {
      "_dom_classes": [],
      "_model_module": "@jupyter-widgets/controls",
      "_model_module_version": "1.5.0",
      "_model_name": "HTMLModel",
      "_view_count": null,
      "_view_module": "@jupyter-widgets/controls",
      "_view_module_version": "1.5.0",
      "_view_name": "HTMLView",
      "description": "",
      "description_tooltip": null,
      "layout": "IPY_MODEL_fe69d927e2254b5eb4911066b0dde81f",
      "placeholder": "​",
      "style": "IPY_MODEL_be721143c87a4c2ea32d1afb4207044e",
      "value": "Downloading: 100%"
     }
    },
    "6491e254553c403d8f19db15d31e93e1": {
     "model_module": "@jupyter-widgets/base",
     "model_module_version": "1.2.0",
     "model_name": "LayoutModel",
     "state": {
      "_model_module": "@jupyter-widgets/base",
      "_model_module_version": "1.2.0",
      "_model_name": "LayoutModel",
      "_view_count": null,
      "_view_module": "@jupyter-widgets/base",
      "_view_module_version": "1.2.0",
      "_view_name": "LayoutView",
      "align_content": null,
      "align_items": null,
      "align_self": null,
      "border": null,
      "bottom": null,
      "display": null,
      "flex": null,
      "flex_flow": null,
      "grid_area": null,
      "grid_auto_columns": null,
      "grid_auto_flow": null,
      "grid_auto_rows": null,
      "grid_column": null,
      "grid_gap": null,
      "grid_row": null,
      "grid_template_areas": null,
      "grid_template_columns": null,
      "grid_template_rows": null,
      "height": null,
      "justify_content": null,
      "justify_items": null,
      "left": null,
      "margin": null,
      "max_height": null,
      "max_width": null,
      "min_height": null,
      "min_width": null,
      "object_fit": null,
      "object_position": null,
      "order": null,
      "overflow": null,
      "overflow_x": null,
      "overflow_y": null,
      "padding": null,
      "right": null,
      "top": null,
      "visibility": null,
      "width": null
     }
    },
    "680cfc876e344207a13aff337e1778b3": {
     "model_module": "@jupyter-widgets/base",
     "model_module_version": "1.2.0",
     "model_name": "LayoutModel",
     "state": {
      "_model_module": "@jupyter-widgets/base",
      "_model_module_version": "1.2.0",
      "_model_name": "LayoutModel",
      "_view_count": null,
      "_view_module": "@jupyter-widgets/base",
      "_view_module_version": "1.2.0",
      "_view_name": "LayoutView",
      "align_content": null,
      "align_items": null,
      "align_self": null,
      "border": null,
      "bottom": null,
      "display": null,
      "flex": null,
      "flex_flow": null,
      "grid_area": null,
      "grid_auto_columns": null,
      "grid_auto_flow": null,
      "grid_auto_rows": null,
      "grid_column": null,
      "grid_gap": null,
      "grid_row": null,
      "grid_template_areas": null,
      "grid_template_columns": null,
      "grid_template_rows": null,
      "height": null,
      "justify_content": null,
      "justify_items": null,
      "left": null,
      "margin": null,
      "max_height": null,
      "max_width": null,
      "min_height": null,
      "min_width": null,
      "object_fit": null,
      "object_position": null,
      "order": null,
      "overflow": null,
      "overflow_x": null,
      "overflow_y": null,
      "padding": null,
      "right": null,
      "top": null,
      "visibility": null,
      "width": null
     }
    },
    "6e72fe8c76244b0b9947ad2ac66a2791": {
     "model_module": "@jupyter-widgets/base",
     "model_module_version": "1.2.0",
     "model_name": "LayoutModel",
     "state": {
      "_model_module": "@jupyter-widgets/base",
      "_model_module_version": "1.2.0",
      "_model_name": "LayoutModel",
      "_view_count": null,
      "_view_module": "@jupyter-widgets/base",
      "_view_module_version": "1.2.0",
      "_view_name": "LayoutView",
      "align_content": null,
      "align_items": null,
      "align_self": null,
      "border": null,
      "bottom": null,
      "display": null,
      "flex": null,
      "flex_flow": null,
      "grid_area": null,
      "grid_auto_columns": null,
      "grid_auto_flow": null,
      "grid_auto_rows": null,
      "grid_column": null,
      "grid_gap": null,
      "grid_row": null,
      "grid_template_areas": null,
      "grid_template_columns": null,
      "grid_template_rows": null,
      "height": null,
      "justify_content": null,
      "justify_items": null,
      "left": null,
      "margin": null,
      "max_height": null,
      "max_width": null,
      "min_height": null,
      "min_width": null,
      "object_fit": null,
      "object_position": null,
      "order": null,
      "overflow": null,
      "overflow_x": null,
      "overflow_y": null,
      "padding": null,
      "right": null,
      "top": null,
      "visibility": null,
      "width": null
     }
    },
    "910be1f7cfc2461e98db031fe69af7a3": {
     "model_module": "@jupyter-widgets/controls",
     "model_module_version": "1.5.0",
     "model_name": "HTMLModel",
     "state": {
      "_dom_classes": [],
      "_model_module": "@jupyter-widgets/controls",
      "_model_module_version": "1.5.0",
      "_model_name": "HTMLModel",
      "_view_count": null,
      "_view_module": "@jupyter-widgets/controls",
      "_view_module_version": "1.5.0",
      "_view_name": "HTMLView",
      "description": "",
      "description_tooltip": null,
      "layout": "IPY_MODEL_aa668f1a987e40e28bcda9372f2d38ea",
      "placeholder": "​",
      "style": "IPY_MODEL_bc4f576cbc564a5fbef3b54a0ba0aedf",
      "value": " 481/481 [00:00&lt;00:00, 4.93kB/s]"
     }
    },
    "93b5bf275feb4d51857e4ed6417bc582": {
     "model_module": "@jupyter-widgets/controls",
     "model_module_version": "1.5.0",
     "model_name": "DescriptionStyleModel",
     "state": {
      "_model_module": "@jupyter-widgets/controls",
      "_model_module_version": "1.5.0",
      "_model_name": "DescriptionStyleModel",
      "_view_count": null,
      "_view_module": "@jupyter-widgets/base",
      "_view_module_version": "1.2.0",
      "_view_name": "StyleView",
      "description_width": ""
     }
    },
    "9846f7d694b54ea2909bcdc0cb2d7b86": {
     "model_module": "@jupyter-widgets/controls",
     "model_module_version": "1.5.0",
     "model_name": "FloatProgressModel",
     "state": {
      "_dom_classes": [],
      "_model_module": "@jupyter-widgets/controls",
      "_model_module_version": "1.5.0",
      "_model_name": "FloatProgressModel",
      "_view_count": null,
      "_view_module": "@jupyter-widgets/controls",
      "_view_module_version": "1.5.0",
      "_view_name": "ProgressView",
      "bar_style": "success",
      "description": "",
      "description_tooltip": null,
      "layout": "IPY_MODEL_4f99b2f7ad7043619c0aa11857d9b967",
      "max": 1355863,
      "min": 0,
      "orientation": "horizontal",
      "style": "IPY_MODEL_a146f4d7f2084c6da542e3c7c617b254",
      "value": 1355863
     }
    },
    "a146f4d7f2084c6da542e3c7c617b254": {
     "model_module": "@jupyter-widgets/controls",
     "model_module_version": "1.5.0",
     "model_name": "ProgressStyleModel",
     "state": {
      "_model_module": "@jupyter-widgets/controls",
      "_model_module_version": "1.5.0",
      "_model_name": "ProgressStyleModel",
      "_view_count": null,
      "_view_module": "@jupyter-widgets/base",
      "_view_module_version": "1.2.0",
      "_view_name": "StyleView",
      "bar_color": null,
      "description_width": ""
     }
    },
    "a32258de16bd44908edc7c7cad3592bf": {
     "model_module": "@jupyter-widgets/base",
     "model_module_version": "1.2.0",
     "model_name": "LayoutModel",
     "state": {
      "_model_module": "@jupyter-widgets/base",
      "_model_module_version": "1.2.0",
      "_model_name": "LayoutModel",
      "_view_count": null,
      "_view_module": "@jupyter-widgets/base",
      "_view_module_version": "1.2.0",
      "_view_name": "LayoutView",
      "align_content": null,
      "align_items": null,
      "align_self": null,
      "border": null,
      "bottom": null,
      "display": null,
      "flex": null,
      "flex_flow": null,
      "grid_area": null,
      "grid_auto_columns": null,
      "grid_auto_flow": null,
      "grid_auto_rows": null,
      "grid_column": null,
      "grid_gap": null,
      "grid_row": null,
      "grid_template_areas": null,
      "grid_template_columns": null,
      "grid_template_rows": null,
      "height": null,
      "justify_content": null,
      "justify_items": null,
      "left": null,
      "margin": null,
      "max_height": null,
      "max_width": null,
      "min_height": null,
      "min_width": null,
      "object_fit": null,
      "object_position": null,
      "order": null,
      "overflow": null,
      "overflow_x": null,
      "overflow_y": null,
      "padding": null,
      "right": null,
      "top": null,
      "visibility": null,
      "width": null
     }
    },
    "a3e7d96dd97a4154872739c15dd3333c": {
     "model_module": "@jupyter-widgets/base",
     "model_module_version": "1.2.0",
     "model_name": "LayoutModel",
     "state": {
      "_model_module": "@jupyter-widgets/base",
      "_model_module_version": "1.2.0",
      "_model_name": "LayoutModel",
      "_view_count": null,
      "_view_module": "@jupyter-widgets/base",
      "_view_module_version": "1.2.0",
      "_view_name": "LayoutView",
      "align_content": null,
      "align_items": null,
      "align_self": null,
      "border": null,
      "bottom": null,
      "display": null,
      "flex": null,
      "flex_flow": null,
      "grid_area": null,
      "grid_auto_columns": null,
      "grid_auto_flow": null,
      "grid_auto_rows": null,
      "grid_column": null,
      "grid_gap": null,
      "grid_row": null,
      "grid_template_areas": null,
      "grid_template_columns": null,
      "grid_template_rows": null,
      "height": null,
      "justify_content": null,
      "justify_items": null,
      "left": null,
      "margin": null,
      "max_height": null,
      "max_width": null,
      "min_height": null,
      "min_width": null,
      "object_fit": null,
      "object_position": null,
      "order": null,
      "overflow": null,
      "overflow_x": null,
      "overflow_y": null,
      "padding": null,
      "right": null,
      "top": null,
      "visibility": null,
      "width": null
     }
    },
    "a3fa608781b9425d9bf345eb43c4be2b": {
     "model_module": "@jupyter-widgets/controls",
     "model_module_version": "1.5.0",
     "model_name": "FloatProgressModel",
     "state": {
      "_dom_classes": [],
      "_model_module": "@jupyter-widgets/controls",
      "_model_module_version": "1.5.0",
      "_model_name": "FloatProgressModel",
      "_view_count": null,
      "_view_module": "@jupyter-widgets/controls",
      "_view_module_version": "1.5.0",
      "_view_name": "ProgressView",
      "bar_style": "success",
      "description": "",
      "description_tooltip": null,
      "layout": "IPY_MODEL_f9fdb7e2c06d4b8da22f4ea00f2f4bf4",
      "max": 898823,
      "min": 0,
      "orientation": "horizontal",
      "style": "IPY_MODEL_20287d5b2ba1403b80e1382f6442cda3",
      "value": 898823
     }
    },
    "a9a44f6cc2df4a269d8f9962d0b7ea9d": {
     "model_module": "@jupyter-widgets/base",
     "model_module_version": "1.2.0",
     "model_name": "LayoutModel",
     "state": {
      "_model_module": "@jupyter-widgets/base",
      "_model_module_version": "1.2.0",
      "_model_name": "LayoutModel",
      "_view_count": null,
      "_view_module": "@jupyter-widgets/base",
      "_view_module_version": "1.2.0",
      "_view_name": "LayoutView",
      "align_content": null,
      "align_items": null,
      "align_self": null,
      "border": null,
      "bottom": null,
      "display": null,
      "flex": null,
      "flex_flow": null,
      "grid_area": null,
      "grid_auto_columns": null,
      "grid_auto_flow": null,
      "grid_auto_rows": null,
      "grid_column": null,
      "grid_gap": null,
      "grid_row": null,
      "grid_template_areas": null,
      "grid_template_columns": null,
      "grid_template_rows": null,
      "height": null,
      "justify_content": null,
      "justify_items": null,
      "left": null,
      "margin": null,
      "max_height": null,
      "max_width": null,
      "min_height": null,
      "min_width": null,
      "object_fit": null,
      "object_position": null,
      "order": null,
      "overflow": null,
      "overflow_x": null,
      "overflow_y": null,
      "padding": null,
      "right": null,
      "top": null,
      "visibility": null,
      "width": null
     }
    },
    "aa668f1a987e40e28bcda9372f2d38ea": {
     "model_module": "@jupyter-widgets/base",
     "model_module_version": "1.2.0",
     "model_name": "LayoutModel",
     "state": {
      "_model_module": "@jupyter-widgets/base",
      "_model_module_version": "1.2.0",
      "_model_name": "LayoutModel",
      "_view_count": null,
      "_view_module": "@jupyter-widgets/base",
      "_view_module_version": "1.2.0",
      "_view_name": "LayoutView",
      "align_content": null,
      "align_items": null,
      "align_self": null,
      "border": null,
      "bottom": null,
      "display": null,
      "flex": null,
      "flex_flow": null,
      "grid_area": null,
      "grid_auto_columns": null,
      "grid_auto_flow": null,
      "grid_auto_rows": null,
      "grid_column": null,
      "grid_gap": null,
      "grid_row": null,
      "grid_template_areas": null,
      "grid_template_columns": null,
      "grid_template_rows": null,
      "height": null,
      "justify_content": null,
      "justify_items": null,
      "left": null,
      "margin": null,
      "max_height": null,
      "max_width": null,
      "min_height": null,
      "min_width": null,
      "object_fit": null,
      "object_position": null,
      "order": null,
      "overflow": null,
      "overflow_x": null,
      "overflow_y": null,
      "padding": null,
      "right": null,
      "top": null,
      "visibility": null,
      "width": null
     }
    },
    "abb1432bf4e74f49903541a2adbef59e": {
     "model_module": "@jupyter-widgets/controls",
     "model_module_version": "1.5.0",
     "model_name": "HBoxModel",
     "state": {
      "_dom_classes": [],
      "_model_module": "@jupyter-widgets/controls",
      "_model_module_version": "1.5.0",
      "_model_name": "HBoxModel",
      "_view_count": null,
      "_view_module": "@jupyter-widgets/controls",
      "_view_module_version": "1.5.0",
      "_view_name": "HBoxView",
      "box_style": "",
      "children": [
       "IPY_MODEL_fdd91699c8314123bf0d566eb4c9c043",
       "IPY_MODEL_50bb92e08a9443608e9844e86d04945a",
       "IPY_MODEL_2d7e67284968482f8f94948deecf6b17"
      ],
      "layout": "IPY_MODEL_b4a23d9300394f8593b791b5af1fe4b9"
     }
    },
    "ac386b7c23b7461f8f29b26bd15ede9c": {
     "model_module": "@jupyter-widgets/base",
     "model_module_version": "1.2.0",
     "model_name": "LayoutModel",
     "state": {
      "_model_module": "@jupyter-widgets/base",
      "_model_module_version": "1.2.0",
      "_model_name": "LayoutModel",
      "_view_count": null,
      "_view_module": "@jupyter-widgets/base",
      "_view_module_version": "1.2.0",
      "_view_name": "LayoutView",
      "align_content": null,
      "align_items": null,
      "align_self": null,
      "border": null,
      "bottom": null,
      "display": null,
      "flex": null,
      "flex_flow": null,
      "grid_area": null,
      "grid_auto_columns": null,
      "grid_auto_flow": null,
      "grid_auto_rows": null,
      "grid_column": null,
      "grid_gap": null,
      "grid_row": null,
      "grid_template_areas": null,
      "grid_template_columns": null,
      "grid_template_rows": null,
      "height": null,
      "justify_content": null,
      "justify_items": null,
      "left": null,
      "margin": null,
      "max_height": null,
      "max_width": null,
      "min_height": null,
      "min_width": null,
      "object_fit": null,
      "object_position": null,
      "order": null,
      "overflow": null,
      "overflow_x": null,
      "overflow_y": null,
      "padding": null,
      "right": null,
      "top": null,
      "visibility": null,
      "width": null
     }
    },
    "b35d0957f6f74d43a0c050a21ca11f97": {
     "model_module": "@jupyter-widgets/base",
     "model_module_version": "1.2.0",
     "model_name": "LayoutModel",
     "state": {
      "_model_module": "@jupyter-widgets/base",
      "_model_module_version": "1.2.0",
      "_model_name": "LayoutModel",
      "_view_count": null,
      "_view_module": "@jupyter-widgets/base",
      "_view_module_version": "1.2.0",
      "_view_name": "LayoutView",
      "align_content": null,
      "align_items": null,
      "align_self": null,
      "border": null,
      "bottom": null,
      "display": null,
      "flex": null,
      "flex_flow": null,
      "grid_area": null,
      "grid_auto_columns": null,
      "grid_auto_flow": null,
      "grid_auto_rows": null,
      "grid_column": null,
      "grid_gap": null,
      "grid_row": null,
      "grid_template_areas": null,
      "grid_template_columns": null,
      "grid_template_rows": null,
      "height": null,
      "justify_content": null,
      "justify_items": null,
      "left": null,
      "margin": null,
      "max_height": null,
      "max_width": null,
      "min_height": null,
      "min_width": null,
      "object_fit": null,
      "object_position": null,
      "order": null,
      "overflow": null,
      "overflow_x": null,
      "overflow_y": null,
      "padding": null,
      "right": null,
      "top": null,
      "visibility": null,
      "width": null
     }
    },
    "b4a23d9300394f8593b791b5af1fe4b9": {
     "model_module": "@jupyter-widgets/base",
     "model_module_version": "1.2.0",
     "model_name": "LayoutModel",
     "state": {
      "_model_module": "@jupyter-widgets/base",
      "_model_module_version": "1.2.0",
      "_model_name": "LayoutModel",
      "_view_count": null,
      "_view_module": "@jupyter-widgets/base",
      "_view_module_version": "1.2.0",
      "_view_name": "LayoutView",
      "align_content": null,
      "align_items": null,
      "align_self": null,
      "border": null,
      "bottom": null,
      "display": null,
      "flex": null,
      "flex_flow": null,
      "grid_area": null,
      "grid_auto_columns": null,
      "grid_auto_flow": null,
      "grid_auto_rows": null,
      "grid_column": null,
      "grid_gap": null,
      "grid_row": null,
      "grid_template_areas": null,
      "grid_template_columns": null,
      "grid_template_rows": null,
      "height": null,
      "justify_content": null,
      "justify_items": null,
      "left": null,
      "margin": null,
      "max_height": null,
      "max_width": null,
      "min_height": null,
      "min_width": null,
      "object_fit": null,
      "object_position": null,
      "order": null,
      "overflow": null,
      "overflow_x": null,
      "overflow_y": null,
      "padding": null,
      "right": null,
      "top": null,
      "visibility": null,
      "width": null
     }
    },
    "b6ec40d632fc48c588adbb470afed6ec": {
     "model_module": "@jupyter-widgets/controls",
     "model_module_version": "1.5.0",
     "model_name": "ProgressStyleModel",
     "state": {
      "_model_module": "@jupyter-widgets/controls",
      "_model_module_version": "1.5.0",
      "_model_name": "ProgressStyleModel",
      "_view_count": null,
      "_view_module": "@jupyter-widgets/base",
      "_view_module_version": "1.2.0",
      "_view_name": "StyleView",
      "bar_color": null,
      "description_width": ""
     }
    },
    "b76ce5a026f249eaa78d22455e38e80a": {
     "model_module": "@jupyter-widgets/base",
     "model_module_version": "1.2.0",
     "model_name": "LayoutModel",
     "state": {
      "_model_module": "@jupyter-widgets/base",
      "_model_module_version": "1.2.0",
      "_model_name": "LayoutModel",
      "_view_count": null,
      "_view_module": "@jupyter-widgets/base",
      "_view_module_version": "1.2.0",
      "_view_name": "LayoutView",
      "align_content": null,
      "align_items": null,
      "align_self": null,
      "border": null,
      "bottom": null,
      "display": null,
      "flex": null,
      "flex_flow": null,
      "grid_area": null,
      "grid_auto_columns": null,
      "grid_auto_flow": null,
      "grid_auto_rows": null,
      "grid_column": null,
      "grid_gap": null,
      "grid_row": null,
      "grid_template_areas": null,
      "grid_template_columns": null,
      "grid_template_rows": null,
      "height": null,
      "justify_content": null,
      "justify_items": null,
      "left": null,
      "margin": null,
      "max_height": null,
      "max_width": null,
      "min_height": null,
      "min_width": null,
      "object_fit": null,
      "object_position": null,
      "order": null,
      "overflow": null,
      "overflow_x": null,
      "overflow_y": null,
      "padding": null,
      "right": null,
      "top": null,
      "visibility": null,
      "width": null
     }
    },
    "bc4f576cbc564a5fbef3b54a0ba0aedf": {
     "model_module": "@jupyter-widgets/controls",
     "model_module_version": "1.5.0",
     "model_name": "DescriptionStyleModel",
     "state": {
      "_model_module": "@jupyter-widgets/controls",
      "_model_module_version": "1.5.0",
      "_model_name": "DescriptionStyleModel",
      "_view_count": null,
      "_view_module": "@jupyter-widgets/base",
      "_view_module_version": "1.2.0",
      "_view_name": "StyleView",
      "description_width": ""
     }
    },
    "bd416069b05b458aad20c4182f5bea19": {
     "model_module": "@jupyter-widgets/controls",
     "model_module_version": "1.5.0",
     "model_name": "DescriptionStyleModel",
     "state": {
      "_model_module": "@jupyter-widgets/controls",
      "_model_module_version": "1.5.0",
      "_model_name": "DescriptionStyleModel",
      "_view_count": null,
      "_view_module": "@jupyter-widgets/base",
      "_view_module_version": "1.2.0",
      "_view_name": "StyleView",
      "description_width": ""
     }
    },
    "bd7e329d10bf49f5bde22fbc08e6cb3e": {
     "model_module": "@jupyter-widgets/controls",
     "model_module_version": "1.5.0",
     "model_name": "DescriptionStyleModel",
     "state": {
      "_model_module": "@jupyter-widgets/controls",
      "_model_module_version": "1.5.0",
      "_model_name": "DescriptionStyleModel",
      "_view_count": null,
      "_view_module": "@jupyter-widgets/base",
      "_view_module_version": "1.2.0",
      "_view_name": "StyleView",
      "description_width": ""
     }
    },
    "be479bda546943ae80e50df77162c528": {
     "model_module": "@jupyter-widgets/base",
     "model_module_version": "1.2.0",
     "model_name": "LayoutModel",
     "state": {
      "_model_module": "@jupyter-widgets/base",
      "_model_module_version": "1.2.0",
      "_model_name": "LayoutModel",
      "_view_count": null,
      "_view_module": "@jupyter-widgets/base",
      "_view_module_version": "1.2.0",
      "_view_name": "LayoutView",
      "align_content": null,
      "align_items": null,
      "align_self": null,
      "border": null,
      "bottom": null,
      "display": null,
      "flex": null,
      "flex_flow": null,
      "grid_area": null,
      "grid_auto_columns": null,
      "grid_auto_flow": null,
      "grid_auto_rows": null,
      "grid_column": null,
      "grid_gap": null,
      "grid_row": null,
      "grid_template_areas": null,
      "grid_template_columns": null,
      "grid_template_rows": null,
      "height": null,
      "justify_content": null,
      "justify_items": null,
      "left": null,
      "margin": null,
      "max_height": null,
      "max_width": null,
      "min_height": null,
      "min_width": null,
      "object_fit": null,
      "object_position": null,
      "order": null,
      "overflow": null,
      "overflow_x": null,
      "overflow_y": null,
      "padding": null,
      "right": null,
      "top": null,
      "visibility": null,
      "width": null
     }
    },
    "be721143c87a4c2ea32d1afb4207044e": {
     "model_module": "@jupyter-widgets/controls",
     "model_module_version": "1.5.0",
     "model_name": "DescriptionStyleModel",
     "state": {
      "_model_module": "@jupyter-widgets/controls",
      "_model_module_version": "1.5.0",
      "_model_name": "DescriptionStyleModel",
      "_view_count": null,
      "_view_module": "@jupyter-widgets/base",
      "_view_module_version": "1.2.0",
      "_view_name": "StyleView",
      "description_width": ""
     }
    },
    "c2b8d87ef3c844d39f50296de0f89eb2": {
     "model_module": "@jupyter-widgets/controls",
     "model_module_version": "1.5.0",
     "model_name": "HBoxModel",
     "state": {
      "_dom_classes": [],
      "_model_module": "@jupyter-widgets/controls",
      "_model_module_version": "1.5.0",
      "_model_name": "HBoxModel",
      "_view_count": null,
      "_view_module": "@jupyter-widgets/controls",
      "_view_module_version": "1.5.0",
      "_view_name": "HBoxView",
      "box_style": "",
      "children": [
       "IPY_MODEL_1aaef66c8e66412590934460e6fc18c9",
       "IPY_MODEL_ffccaa0fb4754a7985cc602899f82c12",
       "IPY_MODEL_c2d2806355d548ebb94bfc3ceaccfc48"
      ],
      "layout": "IPY_MODEL_5265ee18c48949bc87573d603aa093cb"
     }
    },
    "c2d2806355d548ebb94bfc3ceaccfc48": {
     "model_module": "@jupyter-widgets/controls",
     "model_module_version": "1.5.0",
     "model_name": "HTMLModel",
     "state": {
      "_dom_classes": [],
      "_model_module": "@jupyter-widgets/controls",
      "_model_module_version": "1.5.0",
      "_model_name": "HTMLModel",
      "_view_count": null,
      "_view_module": "@jupyter-widgets/controls",
      "_view_module_version": "1.5.0",
      "_view_name": "HTMLView",
      "description": "",
      "description_tooltip": null,
      "layout": "IPY_MODEL_6491e254553c403d8f19db15d31e93e1",
      "placeholder": "​",
      "style": "IPY_MODEL_bd416069b05b458aad20c4182f5bea19",
      "value": " 90878/90878 [02:54&lt;00:00, 545.28it/s]"
     }
    },
    "c5b1f1be4d884d75a547e5bdd1bd6c4c": {
     "model_module": "@jupyter-widgets/controls",
     "model_module_version": "1.5.0",
     "model_name": "HBoxModel",
     "state": {
      "_dom_classes": [],
      "_model_module": "@jupyter-widgets/controls",
      "_model_module_version": "1.5.0",
      "_model_name": "HBoxModel",
      "_view_count": null,
      "_view_module": "@jupyter-widgets/controls",
      "_view_module_version": "1.5.0",
      "_view_name": "HBoxView",
      "box_style": "",
      "children": [
       "IPY_MODEL_f65dae78d50e4d16a0ff0eb97c126c9f",
       "IPY_MODEL_090c1c1e2aca4030a21549d9352919ac",
       "IPY_MODEL_2b9b57eff719420883950163f5bde157"
      ],
      "layout": "IPY_MODEL_39ebe3bf690942f889eca4f2b73a62e4"
     }
    },
    "ca8b2cea961e4523bcbc866d430b30bb": {
     "model_module": "@jupyter-widgets/controls",
     "model_module_version": "1.5.0",
     "model_name": "HBoxModel",
     "state": {
      "_dom_classes": [],
      "_model_module": "@jupyter-widgets/controls",
      "_model_module_version": "1.5.0",
      "_model_name": "HBoxModel",
      "_view_count": null,
      "_view_module": "@jupyter-widgets/controls",
      "_view_module_version": "1.5.0",
      "_view_name": "HBoxView",
      "box_style": "",
      "children": [
       "IPY_MODEL_01b1d8c8d5994228893af911e98155f5",
       "IPY_MODEL_a3fa608781b9425d9bf345eb43c4be2b",
       "IPY_MODEL_d5cdc4140c5b480ba9eebe6bb7b6d89a"
      ],
      "layout": "IPY_MODEL_cb7979ad4f3549b3aba60b2e488f6b55"
     }
    },
    "cb7979ad4f3549b3aba60b2e488f6b55": {
     "model_module": "@jupyter-widgets/base",
     "model_module_version": "1.2.0",
     "model_name": "LayoutModel",
     "state": {
      "_model_module": "@jupyter-widgets/base",
      "_model_module_version": "1.2.0",
      "_model_name": "LayoutModel",
      "_view_count": null,
      "_view_module": "@jupyter-widgets/base",
      "_view_module_version": "1.2.0",
      "_view_name": "LayoutView",
      "align_content": null,
      "align_items": null,
      "align_self": null,
      "border": null,
      "bottom": null,
      "display": null,
      "flex": null,
      "flex_flow": null,
      "grid_area": null,
      "grid_auto_columns": null,
      "grid_auto_flow": null,
      "grid_auto_rows": null,
      "grid_column": null,
      "grid_gap": null,
      "grid_row": null,
      "grid_template_areas": null,
      "grid_template_columns": null,
      "grid_template_rows": null,
      "height": null,
      "justify_content": null,
      "justify_items": null,
      "left": null,
      "margin": null,
      "max_height": null,
      "max_width": null,
      "min_height": null,
      "min_width": null,
      "object_fit": null,
      "object_position": null,
      "order": null,
      "overflow": null,
      "overflow_x": null,
      "overflow_y": null,
      "padding": null,
      "right": null,
      "top": null,
      "visibility": null,
      "width": null
     }
    },
    "cbfbf9e740764764b570e5cf2ec3baea": {
     "model_module": "@jupyter-widgets/base",
     "model_module_version": "1.2.0",
     "model_name": "LayoutModel",
     "state": {
      "_model_module": "@jupyter-widgets/base",
      "_model_module_version": "1.2.0",
      "_model_name": "LayoutModel",
      "_view_count": null,
      "_view_module": "@jupyter-widgets/base",
      "_view_module_version": "1.2.0",
      "_view_name": "LayoutView",
      "align_content": null,
      "align_items": null,
      "align_self": null,
      "border": null,
      "bottom": null,
      "display": null,
      "flex": null,
      "flex_flow": null,
      "grid_area": null,
      "grid_auto_columns": null,
      "grid_auto_flow": null,
      "grid_auto_rows": null,
      "grid_column": null,
      "grid_gap": null,
      "grid_row": null,
      "grid_template_areas": null,
      "grid_template_columns": null,
      "grid_template_rows": null,
      "height": null,
      "justify_content": null,
      "justify_items": null,
      "left": null,
      "margin": null,
      "max_height": null,
      "max_width": null,
      "min_height": null,
      "min_width": null,
      "object_fit": null,
      "object_position": null,
      "order": null,
      "overflow": null,
      "overflow_x": null,
      "overflow_y": null,
      "padding": null,
      "right": null,
      "top": null,
      "visibility": null,
      "width": null
     }
    },
    "ccccd0d48df64803b9f5ec5ca33741cd": {
     "model_module": "@jupyter-widgets/controls",
     "model_module_version": "1.5.0",
     "model_name": "HTMLModel",
     "state": {
      "_dom_classes": [],
      "_model_module": "@jupyter-widgets/controls",
      "_model_module_version": "1.5.0",
      "_model_name": "HTMLModel",
      "_view_count": null,
      "_view_module": "@jupyter-widgets/controls",
      "_view_module_version": "1.5.0",
      "_view_name": "HTMLView",
      "description": "",
      "description_tooltip": null,
      "layout": "IPY_MODEL_a9a44f6cc2df4a269d8f9962d0b7ea9d",
      "placeholder": "​",
      "style": "IPY_MODEL_47fb2b3143414907a4c785f1ec89da2e",
      "value": "Downloading: 100%"
     }
    },
    "d15f119ef4194616bc41611830272963": {
     "model_module": "@jupyter-widgets/controls",
     "model_module_version": "1.5.0",
     "model_name": "DescriptionStyleModel",
     "state": {
      "_model_module": "@jupyter-widgets/controls",
      "_model_module_version": "1.5.0",
      "_model_name": "DescriptionStyleModel",
      "_view_count": null,
      "_view_module": "@jupyter-widgets/base",
      "_view_module_version": "1.2.0",
      "_view_name": "StyleView",
      "description_width": ""
     }
    },
    "d5cdc4140c5b480ba9eebe6bb7b6d89a": {
     "model_module": "@jupyter-widgets/controls",
     "model_module_version": "1.5.0",
     "model_name": "HTMLModel",
     "state": {
      "_dom_classes": [],
      "_model_module": "@jupyter-widgets/controls",
      "_model_module_version": "1.5.0",
      "_model_name": "HTMLModel",
      "_view_count": null,
      "_view_module": "@jupyter-widgets/controls",
      "_view_module_version": "1.5.0",
      "_view_name": "HTMLView",
      "description": "",
      "description_tooltip": null,
      "layout": "IPY_MODEL_680cfc876e344207a13aff337e1778b3",
      "placeholder": "​",
      "style": "IPY_MODEL_035841d081144948b936feecbad0e39c",
      "value": " 899k/899k [00:01&lt;00:00, 801kB/s]"
     }
    },
    "d7e245cf502a419f93f33d136cd94b59": {
     "model_module": "@jupyter-widgets/controls",
     "model_module_version": "1.5.0",
     "model_name": "HBoxModel",
     "state": {
      "_dom_classes": [],
      "_model_module": "@jupyter-widgets/controls",
      "_model_module_version": "1.5.0",
      "_model_name": "HBoxModel",
      "_view_count": null,
      "_view_module": "@jupyter-widgets/controls",
      "_view_module_version": "1.5.0",
      "_view_name": "HBoxView",
      "box_style": "",
      "children": [
       "IPY_MODEL_59a08c7107514d0ca5540a8e27d24085",
       "IPY_MODEL_36d778d5e0c543fdaa0db57c172a4a05",
       "IPY_MODEL_910be1f7cfc2461e98db031fe69af7a3"
      ],
      "layout": "IPY_MODEL_2916110af674414889b2be1ed3fb9b54"
     }
    },
    "d90c8f158bdb4b9495fe68d6e1c5a9ee": {
     "model_module": "@jupyter-widgets/controls",
     "model_module_version": "1.5.0",
     "model_name": "DescriptionStyleModel",
     "state": {
      "_model_module": "@jupyter-widgets/controls",
      "_model_module_version": "1.5.0",
      "_model_name": "DescriptionStyleModel",
      "_view_count": null,
      "_view_module": "@jupyter-widgets/base",
      "_view_module_version": "1.2.0",
      "_view_name": "StyleView",
      "description_width": ""
     }
    },
    "f62cb4b941d043c8b1f1536723ae8824": {
     "model_module": "@jupyter-widgets/controls",
     "model_module_version": "1.5.0",
     "model_name": "DescriptionStyleModel",
     "state": {
      "_model_module": "@jupyter-widgets/controls",
      "_model_module_version": "1.5.0",
      "_model_name": "DescriptionStyleModel",
      "_view_count": null,
      "_view_module": "@jupyter-widgets/base",
      "_view_module_version": "1.2.0",
      "_view_name": "StyleView",
      "description_width": ""
     }
    },
    "f65dae78d50e4d16a0ff0eb97c126c9f": {
     "model_module": "@jupyter-widgets/controls",
     "model_module_version": "1.5.0",
     "model_name": "HTMLModel",
     "state": {
      "_dom_classes": [],
      "_model_module": "@jupyter-widgets/controls",
      "_model_module_version": "1.5.0",
      "_model_name": "HTMLModel",
      "_view_count": null,
      "_view_module": "@jupyter-widgets/controls",
      "_view_module_version": "1.5.0",
      "_view_name": "HTMLView",
      "description": "",
      "description_tooltip": null,
      "layout": "IPY_MODEL_041e7f283ab3450b9384531eb61ea4cd",
      "placeholder": "​",
      "style": "IPY_MODEL_14feec42bb8e4dc88c320471d067b321",
      "value": "Downloading: 100%"
     }
    },
    "f9fdb7e2c06d4b8da22f4ea00f2f4bf4": {
     "model_module": "@jupyter-widgets/base",
     "model_module_version": "1.2.0",
     "model_name": "LayoutModel",
     "state": {
      "_model_module": "@jupyter-widgets/base",
      "_model_module_version": "1.2.0",
      "_model_name": "LayoutModel",
      "_view_count": null,
      "_view_module": "@jupyter-widgets/base",
      "_view_module_version": "1.2.0",
      "_view_name": "LayoutView",
      "align_content": null,
      "align_items": null,
      "align_self": null,
      "border": null,
      "bottom": null,
      "display": null,
      "flex": null,
      "flex_flow": null,
      "grid_area": null,
      "grid_auto_columns": null,
      "grid_auto_flow": null,
      "grid_auto_rows": null,
      "grid_column": null,
      "grid_gap": null,
      "grid_row": null,
      "grid_template_areas": null,
      "grid_template_columns": null,
      "grid_template_rows": null,
      "height": null,
      "justify_content": null,
      "justify_items": null,
      "left": null,
      "margin": null,
      "max_height": null,
      "max_width": null,
      "min_height": null,
      "min_width": null,
      "object_fit": null,
      "object_position": null,
      "order": null,
      "overflow": null,
      "overflow_x": null,
      "overflow_y": null,
      "padding": null,
      "right": null,
      "top": null,
      "visibility": null,
      "width": null
     }
    },
    "fdd91699c8314123bf0d566eb4c9c043": {
     "model_module": "@jupyter-widgets/controls",
     "model_module_version": "1.5.0",
     "model_name": "HTMLModel",
     "state": {
      "_dom_classes": [],
      "_model_module": "@jupyter-widgets/controls",
      "_model_module_version": "1.5.0",
      "_model_name": "HTMLModel",
      "_view_count": null,
      "_view_module": "@jupyter-widgets/controls",
      "_view_module_version": "1.5.0",
      "_view_name": "HTMLView",
      "description": "",
      "description_tooltip": null,
      "layout": "IPY_MODEL_b76ce5a026f249eaa78d22455e38e80a",
      "placeholder": "​",
      "style": "IPY_MODEL_d90c8f158bdb4b9495fe68d6e1c5a9ee",
      "value": "Downloading: 100%"
     }
    },
    "fe69d927e2254b5eb4911066b0dde81f": {
     "model_module": "@jupyter-widgets/base",
     "model_module_version": "1.2.0",
     "model_name": "LayoutModel",
     "state": {
      "_model_module": "@jupyter-widgets/base",
      "_model_module_version": "1.2.0",
      "_model_name": "LayoutModel",
      "_view_count": null,
      "_view_module": "@jupyter-widgets/base",
      "_view_module_version": "1.2.0",
      "_view_name": "LayoutView",
      "align_content": null,
      "align_items": null,
      "align_self": null,
      "border": null,
      "bottom": null,
      "display": null,
      "flex": null,
      "flex_flow": null,
      "grid_area": null,
      "grid_auto_columns": null,
      "grid_auto_flow": null,
      "grid_auto_rows": null,
      "grid_column": null,
      "grid_gap": null,
      "grid_row": null,
      "grid_template_areas": null,
      "grid_template_columns": null,
      "grid_template_rows": null,
      "height": null,
      "justify_content": null,
      "justify_items": null,
      "left": null,
      "margin": null,
      "max_height": null,
      "max_width": null,
      "min_height": null,
      "min_width": null,
      "object_fit": null,
      "object_position": null,
      "order": null,
      "overflow": null,
      "overflow_x": null,
      "overflow_y": null,
      "padding": null,
      "right": null,
      "top": null,
      "visibility": null,
      "width": null
     }
    },
    "ffccaa0fb4754a7985cc602899f82c12": {
     "model_module": "@jupyter-widgets/controls",
     "model_module_version": "1.5.0",
     "model_name": "FloatProgressModel",
     "state": {
      "_dom_classes": [],
      "_model_module": "@jupyter-widgets/controls",
      "_model_module_version": "1.5.0",
      "_model_name": "FloatProgressModel",
      "_view_count": null,
      "_view_module": "@jupyter-widgets/controls",
      "_view_module_version": "1.5.0",
      "_view_name": "ProgressView",
      "bar_style": "success",
      "description": "",
      "description_tooltip": null,
      "layout": "IPY_MODEL_a32258de16bd44908edc7c7cad3592bf",
      "max": 90878,
      "min": 0,
      "orientation": "horizontal",
      "style": "IPY_MODEL_b6ec40d632fc48c588adbb470afed6ec",
      "value": 90878
     }
    }
   }
  }
 },
 "nbformat": 4,
 "nbformat_minor": 1
}
